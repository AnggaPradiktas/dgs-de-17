{
  "nbformat": 4,
  "nbformat_minor": 0,
  "metadata": {
    "colab": {
      "provenance": [],
      "collapsed_sections": [],
      "include_colab_link": true
    },
    "kernelspec": {
      "name": "python3",
      "display_name": "Python 3"
    },
    "language_info": {
      "name": "python"
    }
  },
  "cells": [
    {
      "cell_type": "markdown",
      "metadata": {
        "id": "view-in-github",
        "colab_type": "text"
      },
      "source": [
        "<a href=\"https://colab.research.google.com/github/AnggaPradiktas/tutorials/blob/main/Python_OOP.ipynb\" target=\"_parent\"><img src=\"https://colab.research.google.com/assets/colab-badge.svg\" alt=\"Open In Colab\"/></a>"
      ]
    },
    {
      "cell_type": "markdown",
      "metadata": {
        "id": "qC7yXmZfSqaA"
      },
      "source": [
        "# ***Create Class & Object***"
      ]
    },
    {
      "cell_type": "markdown",
      "metadata": {
        "id": "sTSXdPInSgkk"
      },
      "source": [
        "*define* sebuah *class*"
      ]
    },
    {
      "cell_type": "code",
      "metadata": {
        "id": "-dTfAYT8SaKn"
      },
      "source": [
        "class Car:\n",
        "  pass"
      ],
      "execution_count": null,
      "outputs": []
    },
    {
      "cell_type": "markdown",
      "metadata": {
        "id": "Tr2tP0Z8S8vQ"
      },
      "source": [
        "*create object* audi, nissan, & volvo"
      ]
    },
    {
      "cell_type": "code",
      "metadata": {
        "id": "RA16ujXbSphL"
      },
      "source": [
        "audi = Car()\n",
        "nissan = Car()\n",
        "volvo = Car()"
      ],
      "execution_count": null,
      "outputs": []
    },
    {
      "cell_type": "markdown",
      "metadata": {
        "id": "e76EQXVWTGWI"
      },
      "source": [
        "**audi** merupakan *object* dari *class* **Car**\n",
        "\n",
        "atau dgn kata lain, **audi** merupakan *instance* dari *class* **Car**"
      ]
    },
    {
      "cell_type": "code",
      "metadata": {
        "colab": {
          "base_uri": "https://localhost:8080/"
        },
        "id": "6wUMtj59TCUR",
        "outputId": "c73d92c3-5856-4ded-a620-a94c4ad222cb"
      },
      "source": [
        "print(type(audi))\n",
        "print(isinstance(audi, Car))"
      ],
      "execution_count": null,
      "outputs": [
        {
          "output_type": "stream",
          "name": "stdout",
          "text": [
            "<class '__main__.Car'>\n",
            "True\n"
          ]
        }
      ]
    },
    {
      "cell_type": "markdown",
      "metadata": {
        "id": "nfhV8z1kUMWX"
      },
      "source": [
        "# ***Attributes & Methods***"
      ]
    },
    {
      "cell_type": "markdown",
      "metadata": {
        "id": "RSKFuxXLUPpf"
      },
      "source": [
        "## ***Attributes***"
      ]
    },
    {
      "cell_type": "markdown",
      "metadata": {
        "id": "_s1hWoWHUsEl"
      },
      "source": [
        "### *instance attributes*"
      ]
    },
    {
      "cell_type": "code",
      "metadata": {
        "id": "aKeNsKWPUO8H"
      },
      "source": [
        "class Car:\n",
        "\n",
        "  def __init__(self, nama, warna):\n",
        "    self.nama = nama\n",
        "    self.warna = warna"
      ],
      "execution_count": null,
      "outputs": []
    },
    {
      "cell_type": "code",
      "metadata": {
        "id": "RMWhjcHJU_HP"
      },
      "source": [
        "audi = Car('audi', 'merah')\n",
        "nissan = Car('nissan', 'silver')"
      ],
      "execution_count": null,
      "outputs": []
    },
    {
      "cell_type": "code",
      "metadata": {
        "colab": {
          "base_uri": "https://localhost:8080/"
        },
        "id": "tmPRbEUJVT7D",
        "outputId": "02546c63-0847-418f-8728-4e0b23cb7e0b"
      },
      "source": [
        "print(audi.nama)\n",
        "print(audi.warna)\n",
        "\n",
        "print(nissan.nama)\n",
        "print(nissan.warna)"
      ],
      "execution_count": null,
      "outputs": [
        {
          "output_type": "stream",
          "name": "stdout",
          "text": [
            "audi\n",
            "merah\n",
            "nissan\n",
            "silver\n"
          ]
        }
      ]
    },
    {
      "cell_type": "markdown",
      "metadata": {
        "id": "37wzDIivVY5P"
      },
      "source": [
        "### *class attributes*"
      ]
    },
    {
      "cell_type": "code",
      "metadata": {
        "id": "jb-LxLkLVW_T"
      },
      "source": [
        "class Car:\n",
        "  \n",
        "  bahan_bakar = 'bensin'\n",
        "  min_harga = 50\n",
        "\n",
        "  def __init__(self, nama, warna, harga):\n",
        "    self.nama = nama\n",
        "    self.warna = warna\n",
        "    if harga < Car.min_harga:\n",
        "      self.harga = Car.min_harga\n",
        "    else:\n",
        "      self.harga = harga"
      ],
      "execution_count": null,
      "outputs": []
    },
    {
      "cell_type": "code",
      "metadata": {
        "id": "PTkdkzErVeiF"
      },
      "source": [
        "audi = Car('audi', 'merah', 20)\n",
        "nissan = Car('nissan', 'silver', 70)"
      ],
      "execution_count": null,
      "outputs": []
    },
    {
      "cell_type": "code",
      "metadata": {
        "colab": {
          "base_uri": "https://localhost:8080/"
        },
        "id": "56s6QwHRVfs0",
        "outputId": "6bdd62c8-d36a-4e3b-f867-a7aa25c4506c"
      },
      "source": [
        "print(audi.bahan_bakar)\n",
        "print(nissan.bahan_bakar)\n",
        "\n",
        "print(audi.harga)\n",
        "print(nissan.harga)"
      ],
      "execution_count": null,
      "outputs": [
        {
          "output_type": "stream",
          "name": "stdout",
          "text": [
            "bensin\n",
            "bensin\n",
            "50\n",
            "70\n"
          ]
        }
      ]
    },
    {
      "cell_type": "markdown",
      "metadata": {
        "id": "dzpmG19AVkda"
      },
      "source": [
        "## ***Methods***"
      ]
    },
    {
      "cell_type": "markdown",
      "metadata": {
        "id": "vm45CjQrV58w"
      },
      "source": [
        "### *instance methods*"
      ]
    },
    {
      "cell_type": "code",
      "metadata": {
        "id": "mLL8KEEMVhyk"
      },
      "source": [
        "class Car:\n",
        "  \n",
        "  bahan_bakar = 'bensin'\n",
        "  min_harga = 50\n",
        "\n",
        "  def __init__(self, nama, warna, harga):\n",
        "    self.nama = nama\n",
        "    self.warna = warna\n",
        "    if harga < Car.min_harga:\n",
        "      self.harga = Car.min_harga\n",
        "    else:\n",
        "      self.harga = harga\n",
        "\n",
        "  def print_deskripsi(self):\n",
        "    print(f'''\n",
        "    deskripsi mobil:\n",
        "    mobil: {self.nama}\n",
        "    warna: {self.warna}\n",
        "    harga: {self.harga}\n",
        "    bahan bakar: {Car.bahan_bakar}\n",
        "    ''')"
      ],
      "execution_count": null,
      "outputs": []
    },
    {
      "cell_type": "code",
      "metadata": {
        "id": "5VLqVpRNkUWN"
      },
      "source": [
        "audi = Car('audi', 'merah', 20)\n",
        "nissan = Car('nissan', 'silver', 70)"
      ],
      "execution_count": null,
      "outputs": []
    },
    {
      "cell_type": "code",
      "metadata": {
        "colab": {
          "base_uri": "https://localhost:8080/"
        },
        "id": "AJmwcZhVkVgJ",
        "outputId": "be3b4c4b-b7cd-43ed-a6c9-4e58c2f50756"
      },
      "source": [
        "audi.print_deskripsi()\n",
        "nissan.print_deskripsi()"
      ],
      "execution_count": null,
      "outputs": [
        {
          "output_type": "stream",
          "name": "stdout",
          "text": [
            "\n",
            "    deskripsi mobil:\n",
            "    mobil: audi\n",
            "    warna: merah\n",
            "    harga: 50\n",
            "    bahan bakar: bensin\n",
            "    \n",
            "\n",
            "    deskripsi mobil:\n",
            "    mobil: nissan\n",
            "    warna: silver\n",
            "    harga: 70\n",
            "    bahan bakar: bensin\n",
            "    \n"
          ]
        }
      ]
    },
    {
      "cell_type": "markdown",
      "metadata": {
        "id": "CaW9YZk6kmzR"
      },
      "source": [
        "### *class method*"
      ]
    },
    {
      "cell_type": "code",
      "metadata": {
        "id": "dt17f7i1kZR6"
      },
      "source": [
        "class Car:\n",
        "  \n",
        "  bahan_bakar = 'bensin'\n",
        "  min_harga = 50\n",
        "\n",
        "  def __init__(self, nama, warna, harga):\n",
        "    self.nama = nama\n",
        "    self.warna = warna\n",
        "    if harga < Car.min_harga:\n",
        "      self.harga = Car.min_harga\n",
        "    else:\n",
        "      self.harga = harga\n",
        "\n",
        "  def print_deskripsi(self):\n",
        "    print(f'''\n",
        "    deskripsi mobil:\n",
        "    mobil: {self.nama}\n",
        "    warna: {self.warna}\n",
        "    harga: {self.harga}\n",
        "    bahan bakar: {Car.bahan_bakar}\n",
        "    ''')\n",
        "\n",
        "  @classmethod\n",
        "  def change_bahan_bakar(cls, bahan_bakar):\n",
        "    cls.bahan_bakar = bahan_bakar  "
      ],
      "execution_count": null,
      "outputs": []
    },
    {
      "cell_type": "code",
      "metadata": {
        "id": "al9cZP2blKVo"
      },
      "source": [
        "audi = Car('audi', 'merah', 20)\n",
        "nissan = Car('nissan', 'silver', 70)"
      ],
      "execution_count": null,
      "outputs": []
    },
    {
      "cell_type": "code",
      "metadata": {
        "colab": {
          "base_uri": "https://localhost:8080/"
        },
        "id": "N9Lh1LJMlLfW",
        "outputId": "3421593e-54a2-426c-daa4-0d13c6f33bf5"
      },
      "source": [
        "print(audi.bahan_bakar)\n",
        "print(nissan.bahan_bakar)"
      ],
      "execution_count": null,
      "outputs": [
        {
          "output_type": "stream",
          "name": "stdout",
          "text": [
            "bensin\n",
            "bensin\n"
          ]
        }
      ]
    },
    {
      "cell_type": "markdown",
      "metadata": {
        "id": "r33ybeIFloIL"
      },
      "source": [
        "panggil *class method* untuk mengganti *class attribute*"
      ]
    },
    {
      "cell_type": "code",
      "metadata": {
        "id": "quDUaVCnlNv4"
      },
      "source": [
        "Car.change_bahan_bakar('listrik')"
      ],
      "execution_count": null,
      "outputs": []
    },
    {
      "cell_type": "code",
      "metadata": {
        "colab": {
          "base_uri": "https://localhost:8080/"
        },
        "id": "8sp2cpMxlQTP",
        "outputId": "4056b782-56e3-4aa2-d48b-b92bd980c269"
      },
      "source": [
        "print(audi.bahan_bakar)\n",
        "print(nissan.bahan_bakar)"
      ],
      "execution_count": null,
      "outputs": [
        {
          "output_type": "stream",
          "name": "stdout",
          "text": [
            "listrik\n",
            "listrik\n"
          ]
        }
      ]
    },
    {
      "cell_type": "markdown",
      "metadata": {
        "id": "Kn1ofFlQltr_"
      },
      "source": [
        "### *static method*"
      ]
    },
    {
      "cell_type": "code",
      "metadata": {
        "id": "EDgktE_pmgKx"
      },
      "source": [
        "class Car:\n",
        "  \n",
        "  bahan_bakar = 'bensin'\n",
        "  min_harga = 50\n",
        "\n",
        "  def __init__(self, nama, warna, harga):\n",
        "    self.nama = nama\n",
        "    self.warna = warna\n",
        "    if harga < Car.min_harga:\n",
        "      self.harga = Car.min_harga\n",
        "    else:\n",
        "      self.harga = harga\n",
        "\n",
        "  def print_deskripsi(self):\n",
        "    print(f'''\n",
        "    deskripsi mobil:\n",
        "    mobil: {self.nama}\n",
        "    warna: {self.warna}\n",
        "    harga: {self.harga}\n",
        "    bahan bakar: {Car.bahan_bakar}\n",
        "    ''')\n",
        "\n",
        "  @classmethod\n",
        "  def change_bahan_bakar(cls, bahan_bakar):\n",
        "    cls.bahan_bakar = bahan_bakar  \n",
        "\n",
        "  @staticmethod\n",
        "  def convert_harga_juta(harga):\n",
        "    return harga * 1000000"
      ],
      "execution_count": null,
      "outputs": []
    },
    {
      "cell_type": "code",
      "metadata": {
        "id": "VWTV2DV8nNzs"
      },
      "source": [
        "audi = Car('audi', 'merah', 20)\n",
        "nissan = Car('nissan', 'silver', 70)"
      ],
      "execution_count": null,
      "outputs": []
    },
    {
      "cell_type": "code",
      "metadata": {
        "colab": {
          "base_uri": "https://localhost:8080/"
        },
        "id": "QM7FwclUnPuF",
        "outputId": "d4966b33-dd08-4874-d0d3-4e6a187edb39"
      },
      "source": [
        "print(audi.harga)\n",
        "print(nissan.harga)"
      ],
      "execution_count": null,
      "outputs": [
        {
          "output_type": "stream",
          "name": "stdout",
          "text": [
            "50\n",
            "70\n"
          ]
        }
      ]
    },
    {
      "cell_type": "markdown",
      "metadata": {
        "id": "fAqjYrdTny-D"
      },
      "source": [
        "panggil *static method* untuk *convert* harga dari puluhan ke jutaan"
      ]
    },
    {
      "cell_type": "code",
      "metadata": {
        "colab": {
          "base_uri": "https://localhost:8080/"
        },
        "id": "ycm22ZlcnWut",
        "outputId": "54f78899-cece-4d16-ad93-2fcb574ca111"
      },
      "source": [
        "convert_harga_audi = Car.convert_harga_juta(audi.harga)\n",
        "convert_harga_nissan = Car.convert_harga_juta(nissan.harga)\n",
        "\n",
        "print(convert_harga_audi)\n",
        "print(convert_harga_nissan)"
      ],
      "execution_count": null,
      "outputs": [
        {
          "output_type": "stream",
          "name": "stdout",
          "text": [
            "50000000\n",
            "70000000\n"
          ]
        }
      ]
    },
    {
      "cell_type": "markdown",
      "metadata": {
        "id": "0XYLNCs5nyAI"
      },
      "source": [
        "# ***Inheritance***"
      ]
    },
    {
      "cell_type": "markdown",
      "metadata": {
        "id": "f7IUDtUfoEHQ"
      },
      "source": [
        "*create parent class*"
      ]
    },
    {
      "cell_type": "code",
      "metadata": {
        "id": "UfrVvJ7FoHRV"
      },
      "source": [
        "class Car:\n",
        "  \n",
        "  bahan_bakar = 'bensin'\n",
        "  min_harga = 50\n",
        "\n",
        "  def __init__(self, nama, warna, harga):\n",
        "    self.nama = nama\n",
        "    self.warna = warna\n",
        "    if harga < Car.min_harga:\n",
        "      self.harga = Car.min_harga\n",
        "    else:\n",
        "      self.harga = harga\n",
        "\n",
        "  def print_deskripsi(self):\n",
        "    print(f'''\n",
        "    deskripsi mobil:\n",
        "    mobil: {self.nama}\n",
        "    warna: {self.warna}\n",
        "    harga: {self.harga}\n",
        "    bahan bakar: {Car.bahan_bakar}\n",
        "    ''')\n",
        "\n",
        "  @classmethod\n",
        "  def change_bahan_bakar(cls, bahan_bakar):\n",
        "    cls.bahan_bakar = bahan_bakar  \n",
        "\n",
        "  @staticmethod\n",
        "  def convert_harga_juta(harga):\n",
        "    return harga * 1000000"
      ],
      "execution_count": null,
      "outputs": []
    },
    {
      "cell_type": "markdown",
      "metadata": {
        "id": "-04pDRGioTIT"
      },
      "source": [
        "*create child class*"
      ]
    },
    {
      "cell_type": "markdown",
      "metadata": {
        "id": "SGG4H_2NA8y6"
      },
      "source": [
        "*child class* SportCar:\n",
        "\n",
        "*   mengubah `bahan_bakar` di *child class* menjadi pertamax\n",
        "*   membuat *class attribute* baru bernama `min_speed_limit`\n",
        "*   membuat *instance attribute* baru bernama `speed_limit`\n",
        "*   membuat *method* baru bernama `print_speed_limit`"
      ]
    },
    {
      "cell_type": "code",
      "metadata": {
        "id": "7FKZHelhoUOZ"
      },
      "source": [
        "class SportCar(Car):\n",
        "\n",
        "  bahan_bakar = 'pertamax'\n",
        "  min_speed_limit = 70\n",
        "\n",
        "  def __init__(self, nama, warna, harga, speed_limit):\n",
        "    Car.__init__(self, nama, warna, harga)\n",
        "    Car.change_bahan_bakar(SportCar.bahan_bakar)\n",
        "    if speed_limit < SportCar.min_speed_limit:\n",
        "      self.speed_limit = SportCar.min_speed_limit\n",
        "    else:\n",
        "      self.speed_limit = speed_limit\n",
        "\n",
        "  def print_speed_limit(self):\n",
        "    print(f'speed limit mobil ini adalah {self.speed_limit}')"
      ],
      "execution_count": null,
      "outputs": []
    },
    {
      "cell_type": "code",
      "metadata": {
        "id": "CGzYXnm6pLoD"
      },
      "source": [
        "ferrari = SportCar(nama='ferrari', warna='merah', harga=999, speed_limit=80)\n",
        "# ferrari = SportCar('ferrari', 'merah', 999, 80)"
      ],
      "execution_count": null,
      "outputs": []
    },
    {
      "cell_type": "code",
      "metadata": {
        "colab": {
          "base_uri": "https://localhost:8080/"
        },
        "id": "jbyKZCPN-DXH",
        "outputId": "05e59d8d-6cea-4b36-998d-7d1d74d7d340"
      },
      "source": [
        "print(ferrari.bahan_bakar)"
      ],
      "execution_count": null,
      "outputs": [
        {
          "output_type": "stream",
          "name": "stdout",
          "text": [
            "pertamax\n"
          ]
        }
      ]
    },
    {
      "cell_type": "code",
      "metadata": {
        "colab": {
          "base_uri": "https://localhost:8080/"
        },
        "id": "OqblSTRP-hT_",
        "outputId": "7a925925-a2ec-40c7-93d6-1b70b12f47c3"
      },
      "source": [
        "ferrari.print_speed_limit()"
      ],
      "execution_count": null,
      "outputs": [
        {
          "output_type": "stream",
          "name": "stdout",
          "text": [
            "speed limit mobil ini adalah 80\n"
          ]
        }
      ]
    },
    {
      "cell_type": "markdown",
      "metadata": {
        "id": "A0nYhq9IELq1"
      },
      "source": [
        "*child class* memanggil *method* yg ada di *parent class*"
      ]
    },
    {
      "cell_type": "code",
      "metadata": {
        "colab": {
          "base_uri": "https://localhost:8080/"
        },
        "id": "zgCThnUgpVqS",
        "outputId": "f62764f5-9ed3-43bf-fcf6-72a4e388e8b9"
      },
      "source": [
        "ferrari.print_deskripsi()"
      ],
      "execution_count": null,
      "outputs": [
        {
          "output_type": "stream",
          "name": "stdout",
          "text": [
            "\n",
            "    deskripsi mobil:\n",
            "    mobil: ferrari\n",
            "    warna: merah\n",
            "    harga: 999\n",
            "    bahan bakar: pertamax\n",
            "    \n"
          ]
        }
      ]
    },
    {
      "cell_type": "markdown",
      "metadata": {
        "id": "B5R57U05DDNG"
      },
      "source": [
        "## *Multi Level Inheritance*"
      ]
    },
    {
      "cell_type": "markdown",
      "metadata": {
        "id": "5cRWNUJWBA54"
      },
      "source": [
        "*child class* FormulaCar:\n",
        "\n",
        "*   tidak menambah *instance attribute* maka tidak perlu *define* ulang constructor __init__() method\n",
        "*   membuat *class attribute* `kerusakan` dgn tipe data *list*\n",
        "*   membuat *method* baru bernama `add_kerusakan()` yg menambah *value* ke *class attribute* `kerusakan`\n",
        "*   membuat *method* baru bernama `print_kerusakan()` yg menampilkan *value* dari *class attribute* `kerusakan`"
      ]
    },
    {
      "cell_type": "code",
      "metadata": {
        "id": "UqBvkcMaA4kb"
      },
      "source": [
        "class FormulaCar(SportCar):\n",
        "\n",
        "  kerusakan = []\n",
        "  \n",
        "  def add_kerusakan(self, kerusakan):\n",
        "    FormulaCar.kerusakan.append(kerusakan)\n",
        "  \n",
        "  def print_kerusakaan(self):\n",
        "    for elemen in FormulaCar.kerusakan:\n",
        "      print(elemen)"
      ],
      "execution_count": null,
      "outputs": []
    },
    {
      "cell_type": "code",
      "metadata": {
        "id": "HsZH1_KKDJnY"
      },
      "source": [
        "ferrari = FormulaCar(nama='ferrari', warna='merah', harga=99999, speed_limit=800)\n",
        "# ferrari = SportCar('ferrari', 'merah', 999, 80)"
      ],
      "execution_count": null,
      "outputs": []
    },
    {
      "cell_type": "code",
      "metadata": {
        "colab": {
          "base_uri": "https://localhost:8080/"
        },
        "id": "EajRYGu6D6rc",
        "outputId": "d5b1b3f1-1b46-4ca1-8fcc-d4f49c8e0d71"
      },
      "source": [
        "print(ferrari.nama)\n",
        "print(ferrari.warna)\n",
        "print(ferrari.harga)\n",
        "print(ferrari.speed_limit)"
      ],
      "execution_count": null,
      "outputs": [
        {
          "output_type": "stream",
          "name": "stdout",
          "text": [
            "ferrari\n",
            "merah\n",
            "99999\n",
            "800\n"
          ]
        }
      ]
    },
    {
      "cell_type": "code",
      "metadata": {
        "colab": {
          "base_uri": "https://localhost:8080/"
        },
        "id": "YwiQ3XUmFS6j",
        "outputId": "102e3245-40f4-4355-debd-3afddc7f3f6a"
      },
      "source": [
        "print(ferrari.bahan_bakar)"
      ],
      "execution_count": null,
      "outputs": [
        {
          "output_type": "stream",
          "name": "stdout",
          "text": [
            "pertamax\n"
          ]
        }
      ]
    },
    {
      "cell_type": "code",
      "metadata": {
        "id": "5OOyos3MEZb0"
      },
      "source": [
        "ferrari.add_kerusakan('ban pecah')\n",
        "ferrari.add_kerusakan('ban speedometer tidak jalan')\n",
        "ferrari.add_kerusakan('rem terlalu keras')"
      ],
      "execution_count": null,
      "outputs": []
    },
    {
      "cell_type": "code",
      "metadata": {
        "colab": {
          "base_uri": "https://localhost:8080/"
        },
        "id": "YBFuaLElErQF",
        "outputId": "da0e94d7-c4d2-435b-e3fd-5894fc980a39"
      },
      "source": [
        "ferrari.print_kerusakaan()"
      ],
      "execution_count": null,
      "outputs": [
        {
          "output_type": "stream",
          "name": "stdout",
          "text": [
            "ban pecah\n",
            "ban speedometer tidak jalan\n",
            "rem terlalu keras\n"
          ]
        }
      ]
    },
    {
      "cell_type": "markdown",
      "metadata": {
        "id": "t5sjKKO0ETjS"
      },
      "source": [
        "*child class* memanggil *method* yg ada di *parent class*"
      ]
    },
    {
      "cell_type": "code",
      "metadata": {
        "colab": {
          "base_uri": "https://localhost:8080/"
        },
        "id": "guJVKGwXEDzo",
        "outputId": "8ffdd723-6118-4bb9-bd70-85c4051955fa"
      },
      "source": [
        "converted_harga_juta = ferrari.convert_harga_juta(ferrari.harga)\n",
        "print(converted_harga_juta)"
      ],
      "execution_count": null,
      "outputs": [
        {
          "output_type": "stream",
          "name": "stdout",
          "text": [
            "99999000000\n"
          ]
        }
      ]
    },
    {
      "cell_type": "markdown",
      "metadata": {
        "id": "IQynHUCJrdZv"
      },
      "source": [
        "# ***Overriding***"
      ]
    },
    {
      "cell_type": "markdown",
      "metadata": {
        "id": "ftz6eYyi9IU_"
      },
      "source": [
        "*override* method `print_deskripsi()`"
      ]
    },
    {
      "cell_type": "code",
      "metadata": {
        "id": "Rg-jXFtO7eZn"
      },
      "source": [
        "class SportCar(Car):\n",
        "\n",
        "  bahan_bakar = 'pertamax'\n",
        "  min_speed_limit = 70\n",
        "\n",
        "  def __init__(self, nama, warna, harga, speed_limit):\n",
        "    Car.__init__(self, nama, warna, harga)\n",
        "    if speed_limit < SportCar.min_speed_limit:\n",
        "      self.speed_limit = SportCar.min_speed_limit\n",
        "    else:\n",
        "      self.speed_limit = speed_limit\n",
        "    Car.change_bahan_bakar(SportCar.bahan_bakar)\n",
        "\n",
        "  def print_deskripsi(self):\n",
        "    print(f'''\n",
        "    deskripsi mobil:\n",
        "    mobil: {self.nama}\n",
        "    warna: {self.warna}\n",
        "    harga: {self.harga}\n",
        "    speed limit: {self.speed_limit}\n",
        "    bahan bakar: {Car.bahan_bakar}\n",
        "    ''')\n",
        "\n",
        "  def print_speed_limit(self):\n",
        "    print(f'speed limit mobil ini adalah {self.speed_limit}')"
      ],
      "execution_count": null,
      "outputs": []
    },
    {
      "cell_type": "code",
      "metadata": {
        "id": "WBDnyum98RXD"
      },
      "source": [
        "ferrari = SportCar(nama='ferrari', warna='merah', harga=999, speed_limit=60)\n",
        "# ferrari = SportCar('ferrari', 'merah', 999, 60)"
      ],
      "execution_count": null,
      "outputs": []
    },
    {
      "cell_type": "code",
      "metadata": {
        "colab": {
          "base_uri": "https://localhost:8080/"
        },
        "id": "bW5s-CME8TUr",
        "outputId": "c0759985-7d84-4664-93bf-a232b64218d8"
      },
      "source": [
        "ferrari.print_deskripsi()"
      ],
      "execution_count": null,
      "outputs": [
        {
          "output_type": "stream",
          "name": "stdout",
          "text": [
            "\n",
            "    deskripsi mobil:\n",
            "    mobil: ferrari\n",
            "    warna: merah\n",
            "    harga: 999\n",
            "    speed limit: 70\n",
            "    bahan bakar: pertamax\n",
            "    \n"
          ]
        }
      ]
    },
    {
      "cell_type": "markdown",
      "metadata": {
        "id": "I6NXx9ssiqiz"
      },
      "source": [
        "# ***Study Case***"
      ]
    },
    {
      "cell_type": "markdown",
      "metadata": {
        "id": "KX-LGOOgistl"
      },
      "source": [
        "1.   Buat class **Hewan** yang memiliki *class attributes* **nama_latin** dan *instance  attributes* **nama** dan **umur**\n",
        "2.   Di *class* **Hewan**, memiliki *instance method* **bangun**, & *class method*  **change_nama_latin**\n",
        "3.   Buat *child class* **Kucing** yang memiliki *value class attributes* yang berbeda dengan *parent class*, menggunakan *class method* **change_nama_latin**\n",
        "4.   Di *child class*, *override method* **bangun**\n",
        "5.   Di *child class*, buat *method* **lari** yang memiliki  parameter **kecepatan**. Jika *value* dari parameter kecepatan  lebih dari 10, maka *print* **cepat sekali** selain itu print **lambat**\n",
        "\n"
      ]
    }
  ]
}