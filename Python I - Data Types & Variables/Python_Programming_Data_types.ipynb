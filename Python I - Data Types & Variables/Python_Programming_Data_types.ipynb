{
  "nbformat": 4,
  "nbformat_minor": 0,
  "metadata": {
    "colab": {
      "provenance": [],
      "collapsed_sections": [],
      "include_colab_link": true
    },
    "kernelspec": {
      "name": "python3",
      "display_name": "Python 3"
    },
    "language_info": {
      "name": "python"
    }
  },
  "cells": [
    {
      "cell_type": "markdown",
      "metadata": {
        "id": "view-in-github",
        "colab_type": "text"
      },
      "source": [
        "<a href=\"https://colab.research.google.com/github/AnggaPradiktas/tutorials/blob/main/Python_Programming_Data_types.ipynb\" target=\"_parent\"><img src=\"https://colab.research.google.com/assets/colab-badge.svg\" alt=\"Open In Colab\"/></a>"
      ]
    },
    {
      "cell_type": "markdown",
      "metadata": {
        "id": "2de6IKrwnoPp"
      },
      "source": [
        "# ***Variables in General***"
      ]
    },
    {
      "cell_type": "code",
      "metadata": {
        "id": "4fr2x879nur8",
        "colab": {
          "base_uri": "https://localhost:8080/"
        },
        "outputId": "e57c36c0-e5f2-4ad0-f4fe-98b04d092c66"
      },
      "source": [
        "user_1 = 'budi'\n",
        "print(user_1)"
      ],
      "execution_count": null,
      "outputs": [
        {
          "output_type": "stream",
          "name": "stdout",
          "text": [
            "budi\n"
          ]
        }
      ]
    },
    {
      "cell_type": "code",
      "metadata": {
        "id": "d_I7yLWwn5jU",
        "colab": {
          "base_uri": "https://localhost:8080/"
        },
        "outputId": "84d87851-e254-487f-f1a3-d0d5b092c832"
      },
      "source": [
        "lokasi_1 = lokasi_2 = lokasi_3 = 'jakarta'\n",
        "print(lokasi_1, lokasi_2, lokasi_3)"
      ],
      "execution_count": null,
      "outputs": [
        {
          "output_type": "stream",
          "name": "stdout",
          "text": [
            "jakarta jakarta jakarta\n"
          ]
        }
      ]
    },
    {
      "cell_type": "code",
      "metadata": {
        "id": "vaYW6Fi2nx19",
        "colab": {
          "base_uri": "https://localhost:8080/"
        },
        "outputId": "03733f84-47c7-40de-fd89-4f27bf177963"
      },
      "source": [
        "user_1, user_2, user_3 = 'budi', 'andi', 'rini'\n",
        "print(user_1, user_2, user_3)"
      ],
      "execution_count": null,
      "outputs": [
        {
          "output_type": "stream",
          "name": "stdout",
          "text": [
            "budi andi rini\n"
          ]
        }
      ]
    },
    {
      "cell_type": "markdown",
      "metadata": {
        "id": "8WmkcccdYgP4"
      },
      "source": [
        "# **Tipe Data *Primitives***"
      ]
    },
    {
      "cell_type": "markdown",
      "metadata": {
        "id": "txgsEqsUYr_F"
      },
      "source": [
        "## **String**"
      ]
    },
    {
      "cell_type": "markdown",
      "metadata": {
        "id": "khvOKxl1oz6L"
      },
      "source": [
        "### ***Concatinate String***"
      ]
    },
    {
      "cell_type": "code",
      "metadata": {
        "id": "ju297lG4RuOb",
        "colab": {
          "base_uri": "https://localhost:8080/"
        },
        "outputId": "e9b9a297-34d8-45a9-da94-14d75ad6626e"
      },
      "source": [
        "nama = 'budi sukaji'\n",
        "\n",
        "print(nama)"
      ],
      "execution_count": null,
      "outputs": [
        {
          "output_type": "stream",
          "name": "stdout",
          "text": [
            "budi sukaji\n"
          ]
        }
      ]
    },
    {
      "cell_type": "code",
      "metadata": {
        "id": "wRnXqCSnpAq5",
        "colab": {
          "base_uri": "https://localhost:8080/"
        },
        "outputId": "3dd83ed3-1643-46b2-cbec-826677218ec6"
      },
      "source": [
        "tambah_nama_akhir = nama + ' setiadi'\n",
        "print(tambah_nama_akhir)"
      ],
      "execution_count": null,
      "outputs": [
        {
          "output_type": "stream",
          "name": "stdout",
          "text": [
            "budi sukaji setiadi\n"
          ]
        }
      ]
    },
    {
      "cell_type": "code",
      "metadata": {
        "id": "uzsrrAKBpHrf",
        "colab": {
          "base_uri": "https://localhost:8080/"
        },
        "outputId": "265d8611-cf8d-417e-f7d4-db3973bc9e14"
      },
      "source": [
        "tambah_nama_awal = 'ahmad ' + nama\n",
        "print(tambah_nama_awal)"
      ],
      "execution_count": null,
      "outputs": [
        {
          "output_type": "stream",
          "name": "stdout",
          "text": [
            "ahmad budi sukaji\n"
          ]
        }
      ]
    },
    {
      "cell_type": "markdown",
      "metadata": {
        "id": "gGxz67Bca7_k"
      },
      "source": [
        "### ***Slicing String***"
      ]
    },
    {
      "cell_type": "code",
      "metadata": {
        "id": "eIVqA596jyPa",
        "colab": {
          "base_uri": "https://localhost:8080/"
        },
        "outputId": "a4503023-2cb4-4bf4-9b05-0bd798a7ac80"
      },
      "source": [
        "nama_lengkap = 'andrian hariardi sukijang'\n",
        "\n",
        "print(nama_lengkap)"
      ],
      "execution_count": null,
      "outputs": [
        {
          "output_type": "stream",
          "name": "stdout",
          "text": [
            "andrian hariardi sukijang\n"
          ]
        }
      ]
    },
    {
      "cell_type": "code",
      "metadata": {
        "id": "p0s2xLnWjr0x",
        "colab": {
          "base_uri": "https://localhost:8080/"
        },
        "outputId": "0fa74d4f-708e-4c48-9d42-2b393d884f0d"
      },
      "source": [
        "print(nama_lengkap[0])\n",
        "print(nama_lengkap[1])\n",
        "print(nama_lengkap[2])\n",
        "print(nama_lengkap[3])"
      ],
      "execution_count": null,
      "outputs": [
        {
          "output_type": "stream",
          "name": "stdout",
          "text": [
            "a\n",
            "n\n",
            "d\n",
            "r\n"
          ]
        }
      ]
    },
    {
      "cell_type": "markdown",
      "metadata": {
        "id": "8uT77OlwjXax"
      },
      "source": [
        "jika slicing menggunakan `[<index_awal> : <index_akhir>]`, *index_akhir* tidak ikut"
      ]
    },
    {
      "cell_type": "code",
      "metadata": {
        "id": "Nsc2d8LtbKpy",
        "colab": {
          "base_uri": "https://localhost:8080/"
        },
        "outputId": "d4c11510-2301-4df9-c5ab-2058d1f072a5"
      },
      "source": [
        "print(nama_lengkap[:7])\n",
        "print(nama_lengkap[8:16])\n",
        "print(nama_lengkap[17:])"
      ],
      "execution_count": null,
      "outputs": [
        {
          "output_type": "stream",
          "name": "stdout",
          "text": [
            "andrian\n",
            "hariardi\n",
            "sukijang\n"
          ]
        }
      ]
    },
    {
      "cell_type": "markdown",
      "metadata": {
        "id": "ql9VxPZykHR3"
      },
      "source": [
        "### ***String Formatting***"
      ]
    },
    {
      "cell_type": "markdown",
      "metadata": {
        "id": "dt5sodD6ldX_"
      },
      "source": [
        "#### f-string"
      ]
    },
    {
      "cell_type": "code",
      "metadata": {
        "id": "IUK5OEK5bk69"
      },
      "source": [
        "jalan = 'timur barat'\n",
        "no = 23\n",
        "kecamatan = 'selatan'\n",
        "kelurahan = 'utara'"
      ],
      "execution_count": null,
      "outputs": []
    },
    {
      "cell_type": "code",
      "metadata": {
        "id": "Hpjr6y8kkUrB",
        "colab": {
          "base_uri": "https://localhost:8080/"
        },
        "outputId": "840b1842-4862-4556-b8bd-e07b16519e66"
      },
      "source": [
        "alamat_baru = f'alamat baru saya di jalan {jalan}, no {no}, kecamatan {kecamatan}, kelurahan {kelurahan}'\n",
        "\n",
        "print(alamat_baru)\n",
        "print(type(alamat_baru))"
      ],
      "execution_count": null,
      "outputs": [
        {
          "output_type": "stream",
          "name": "stdout",
          "text": [
            "alamat baru saya di jalan timur barat, no 23, kecamatan selatan, kelurahan utara\n",
            "<class 'str'>\n"
          ]
        }
      ]
    },
    {
      "cell_type": "markdown",
      "metadata": {
        "id": "P3ubpjE7maby"
      },
      "source": [
        "## **Integer & Float**\n"
      ]
    },
    {
      "cell_type": "markdown",
      "metadata": {
        "id": "e-WKmoU0rWYF"
      },
      "source": [
        "### **Kalkulasi Integer**"
      ]
    },
    {
      "cell_type": "code",
      "metadata": {
        "id": "_brBwds0oP7J",
        "colab": {
          "base_uri": "https://localhost:8080/"
        },
        "outputId": "d1ed3186-20a7-4a21-f921-3e22a1dfe6c1"
      },
      "source": [
        "jml_transaksi_1 = 3\n",
        "jml_transaksi_2 = 4\n",
        "\n",
        "print(type(jml_transaksi_1))\n",
        "print(jml_transaksi_1)\n",
        "print(jml_transaksi_2)"
      ],
      "execution_count": null,
      "outputs": [
        {
          "output_type": "stream",
          "name": "stdout",
          "text": [
            "<class 'int'>\n",
            "3\n",
            "4\n"
          ]
        }
      ]
    },
    {
      "cell_type": "code",
      "metadata": {
        "id": "hkRC4N8uq1X3",
        "colab": {
          "base_uri": "https://localhost:8080/"
        },
        "outputId": "ffe6c8b5-cb64-4568-bd1e-55220a54f2bc"
      },
      "source": [
        "print(jml_transaksi_1 + jml_transaksi_2)\n",
        "print(jml_transaksi_1 - jml_transaksi_2)\n",
        "print(jml_transaksi_1 * jml_transaksi_2)\n",
        "print(jml_transaksi_1 ** jml_transaksi_2)"
      ],
      "execution_count": null,
      "outputs": [
        {
          "output_type": "stream",
          "name": "stdout",
          "text": [
            "7\n",
            "-1\n",
            "12\n",
            "81\n"
          ]
        }
      ]
    },
    {
      "cell_type": "markdown",
      "metadata": {
        "id": "Laor0F9GrrLN"
      },
      "source": [
        "#### pembagian integer menjadi float"
      ]
    },
    {
      "cell_type": "markdown",
      "metadata": {
        "id": "DmLcg0iCTnGY"
      },
      "source": [
        "contoh mencari rata2"
      ]
    },
    {
      "cell_type": "code",
      "metadata": {
        "id": "wxahgSHmrKzp",
        "colab": {
          "base_uri": "https://localhost:8080/"
        },
        "outputId": "3abb3b14-1427-4a4d-ea02-53e4f9942aeb"
      },
      "source": [
        "rata2 = (jml_transaksi_1 + jml_transaksi_2) / 2\n",
        "print(type(rata2))\n",
        "print(rata2)"
      ],
      "execution_count": null,
      "outputs": [
        {
          "output_type": "stream",
          "name": "stdout",
          "text": [
            "<class 'float'>\n",
            "3.5\n"
          ]
        }
      ]
    },
    {
      "cell_type": "code",
      "source": [
        "(round(rata2))"
      ],
      "metadata": {
        "colab": {
          "base_uri": "https://localhost:8080/"
        },
        "id": "lafujNcnz8QH",
        "outputId": "ab85e0b3-a0e1-486f-ca6a-f2eb0a62de1a"
      },
      "execution_count": null,
      "outputs": [
        {
          "output_type": "execute_result",
          "data": {
            "text/plain": [
              "4"
            ]
          },
          "metadata": {},
          "execution_count": 27
        }
      ]
    },
    {
      "cell_type": "markdown",
      "metadata": {
        "id": "8jWZwizXhbM-"
      },
      "source": [
        "pembagian tanpa pembulatan dan dgn pembulatan kebawah"
      ]
    },
    {
      "cell_type": "code",
      "metadata": {
        "id": "FouWN2wyhXNY",
        "colab": {
          "base_uri": "https://localhost:8080/"
        },
        "outputId": "ba9b336d-f863-4a46-c983-760e92bf624e"
      },
      "source": [
        "print(jml_transaksi_2 / jml_transaksi_1)\n",
        "print(jml_transaksi_2 // jml_transaksi_1)"
      ],
      "execution_count": null,
      "outputs": [
        {
          "output_type": "stream",
          "name": "stdout",
          "text": [
            "1.3333333333333333\n",
            "1\n"
          ]
        }
      ]
    },
    {
      "cell_type": "markdown",
      "metadata": {
        "id": "78nAFft_h70S"
      },
      "source": [
        "#### modulo pada bilangan integer"
      ]
    },
    {
      "cell_type": "code",
      "metadata": {
        "id": "uEaYZ0AhhpyP",
        "colab": {
          "base_uri": "https://localhost:8080/"
        },
        "outputId": "e719a17d-68ed-41cf-f7f6-754479cece4c"
      },
      "source": [
        "print(9 % 1)\n",
        "print(9 % 9)\n",
        "print(9 % 2)\n",
        "print(9 % 3)\n",
        "print(9 % 5)\n",
        "print(9 % 6)\n",
        "print(9 % 7)"
      ],
      "execution_count": null,
      "outputs": [
        {
          "output_type": "stream",
          "name": "stdout",
          "text": [
            "0\n",
            "0\n",
            "1\n",
            "0\n",
            "4\n",
            "3\n",
            "2\n"
          ]
        }
      ]
    },
    {
      "cell_type": "markdown",
      "metadata": {
        "id": "tiyrPuYnrdeh"
      },
      "source": [
        "### **Kalkulasi Float**"
      ]
    },
    {
      "cell_type": "code",
      "metadata": {
        "id": "_RAPbmHwoYRX",
        "colab": {
          "base_uri": "https://localhost:8080/"
        },
        "outputId": "c5c32009-f1c7-4706-d7c4-58622dd240ea"
      },
      "source": [
        "berat_1 = 7.3631\n",
        "berat_2 = 3.312\n",
        "\n",
        "print(berat_1)\n",
        "print(berat_2)"
      ],
      "execution_count": null,
      "outputs": [
        {
          "output_type": "stream",
          "name": "stdout",
          "text": [
            "7.3631\n",
            "3.312\n"
          ]
        }
      ]
    },
    {
      "cell_type": "code",
      "metadata": {
        "id": "sijPYsl5oT41",
        "colab": {
          "base_uri": "https://localhost:8080/"
        },
        "outputId": "a15d5a74-47cc-4aa0-f7f9-3a85fffbcfbe"
      },
      "source": [
        "print(berat_1 + berat_2)\n",
        "print(berat_1 - berat_2)\n",
        "print(berat_2 - berat_1)\n",
        "print((berat_2 - berat_1) * -1)"
      ],
      "execution_count": null,
      "outputs": [
        {
          "output_type": "stream",
          "name": "stdout",
          "text": [
            "10.6751\n",
            "4.0511\n",
            "-4.0511\n",
            "4.0511\n"
          ]
        }
      ]
    },
    {
      "cell_type": "code",
      "metadata": {
        "id": "q3uwhvXhqd-w",
        "colab": {
          "base_uri": "https://localhost:8080/"
        },
        "outputId": "588b024f-c675-4c8a-93f1-77ad64de5959"
      },
      "source": [
        "print(berat_1 * berat_2)\n",
        "print(berat_1 / berat_2)\n",
        "print(berat_1 // berat_2)"
      ],
      "execution_count": null,
      "outputs": [
        {
          "output_type": "stream",
          "name": "stdout",
          "text": [
            "24.3865872\n",
            "2.223158212560387\n",
            "2.0\n"
          ]
        }
      ]
    },
    {
      "cell_type": "markdown",
      "metadata": {
        "id": "Ut1DtW_IifAD"
      },
      "source": [
        "#### modulo pada bilangan float"
      ]
    },
    {
      "cell_type": "code",
      "metadata": {
        "id": "wokua2fgiYBf",
        "colab": {
          "base_uri": "https://localhost:8080/"
        },
        "outputId": "3303fb83-ad58-4a75-94fa-e1e5ff1f484a"
      },
      "source": [
        "print(berat_1 % berat_2)"
      ],
      "execution_count": null,
      "outputs": [
        {
          "output_type": "stream",
          "name": "stdout",
          "text": [
            "0.7391000000000005\n"
          ]
        }
      ]
    },
    {
      "cell_type": "markdown",
      "metadata": {
        "id": "IgXd10gRrz_0"
      },
      "source": [
        "### **kalkulasi integer dgn float**"
      ]
    },
    {
      "cell_type": "code",
      "metadata": {
        "id": "1c7qLoBrqgtU"
      },
      "source": [
        "print(jml_transaksi_1 + berat_2)\n",
        "print(berat_2 - jml_transaksi_1)"
      ],
      "execution_count": null,
      "outputs": []
    },
    {
      "cell_type": "markdown",
      "metadata": {
        "id": "wNqk0bpCsK2q"
      },
      "source": [
        "## **Boolean**"
      ]
    },
    {
      "cell_type": "code",
      "metadata": {
        "id": "Rmdvu2ihsVBf",
        "colab": {
          "base_uri": "https://localhost:8080/"
        },
        "outputId": "8ed68abd-23be-4c59-a3ed-2f21c2f1b446"
      },
      "source": [
        "is_married = True\n",
        "is_arrived = False\n",
        "\n",
        "print(type(is_married))\n",
        "print(is_married)\n",
        "print(is_arrived)"
      ],
      "execution_count": null,
      "outputs": [
        {
          "output_type": "stream",
          "name": "stdout",
          "text": [
            "<class 'bool'>\n",
            "True\n",
            "False\n"
          ]
        }
      ]
    },
    {
      "cell_type": "code",
      "source": [
        "True + False"
      ],
      "metadata": {
        "colab": {
          "base_uri": "https://localhost:8080/"
        },
        "id": "PVgdOs080ZHB",
        "outputId": "6ab92494-986e-4899-bf8a-43fed84b4e0c"
      },
      "execution_count": null,
      "outputs": [
        {
          "output_type": "execute_result",
          "data": {
            "text/plain": [
              "1"
            ]
          },
          "metadata": {},
          "execution_count": 36
        }
      ]
    },
    {
      "cell_type": "code",
      "source": [
        "True + True"
      ],
      "metadata": {
        "colab": {
          "base_uri": "https://localhost:8080/"
        },
        "id": "fcpphvPv0cPs",
        "outputId": "890c35dd-d832-4fde-fcbc-383133edb0b5"
      },
      "execution_count": null,
      "outputs": [
        {
          "output_type": "execute_result",
          "data": {
            "text/plain": [
              "2"
            ]
          },
          "metadata": {},
          "execution_count": 37
        }
      ]
    },
    {
      "cell_type": "code",
      "source": [
        "False + False + 1.0"
      ],
      "metadata": {
        "colab": {
          "base_uri": "https://localhost:8080/"
        },
        "id": "OwGz78yq0eJ3",
        "outputId": "5fca5a32-01db-4097-97fd-448740ab1548"
      },
      "execution_count": null,
      "outputs": [
        {
          "output_type": "execute_result",
          "data": {
            "text/plain": [
              "1.0"
            ]
          },
          "metadata": {},
          "execution_count": 40
        }
      ]
    },
    {
      "cell_type": "markdown",
      "metadata": {
        "id": "85oChqtltoSQ"
      },
      "source": [
        "# **Tipe Data *Collections***"
      ]
    },
    {
      "cell_type": "markdown",
      "metadata": {
        "id": "Ri9YmGHYtwd8"
      },
      "source": [
        "## **List**"
      ]
    },
    {
      "cell_type": "code",
      "metadata": {
        "id": "yZVu5bMNuiad",
        "colab": {
          "base_uri": "https://localhost:8080/"
        },
        "outputId": "cfebe017-9bd7-487f-f0fc-828ea28ecea5"
      },
      "source": [
        "mix_data_types = ['apel', True, 'pisang', 92, -0.2551, ['a', 'b', 'c']]\n",
        "\n",
        "print(type(mix_data_types))\n",
        "print(mix_data_types)"
      ],
      "execution_count": null,
      "outputs": [
        {
          "output_type": "stream",
          "name": "stdout",
          "text": [
            "<class 'list'>\n",
            "['apel', True, 'pisang', 92, -0.2551, ['a', 'b', 'c']]\n"
          ]
        }
      ]
    },
    {
      "cell_type": "code",
      "metadata": {
        "id": "m3JKK5evuUEI",
        "colab": {
          "base_uri": "https://localhost:8080/"
        },
        "outputId": "d08e001a-f97b-41c7-a28f-4bda24836f90"
      },
      "source": [
        "buah = ['apel', 'belimbing', 'ceri', 'duren']\n",
        "\n",
        "print(buah)"
      ],
      "execution_count": null,
      "outputs": [
        {
          "output_type": "stream",
          "name": "stdout",
          "text": [
            "['apel', 'belimbing', 'ceri', 'duren']\n"
          ]
        }
      ]
    },
    {
      "cell_type": "markdown",
      "metadata": {
        "id": "IOhOipnzai2e"
      },
      "source": [
        "### ***Concatinate List***"
      ]
    },
    {
      "cell_type": "markdown",
      "metadata": {
        "id": "Ha8v9UnddBfi"
      },
      "source": [
        "concat list berfungsi untuk menambahkan 1 list dgn list yg lain, menjadi list baru"
      ]
    },
    {
      "cell_type": "code",
      "metadata": {
        "id": "Ero12cDham3d",
        "colab": {
          "base_uri": "https://localhost:8080/"
        },
        "outputId": "3479c736-26c3-4b1e-987f-0c55d2e2f173"
      },
      "source": [
        "concat_lists = mix_data_types + buah\n",
        "\n",
        "print(concat_lists)"
      ],
      "execution_count": null,
      "outputs": [
        {
          "output_type": "stream",
          "name": "stdout",
          "text": [
            "['apel', True, 'pisang', 92, -0.2551, ['a', 'b', 'c'], 'apel', 'belimbing', 'ceri', 'duren']\n"
          ]
        }
      ]
    },
    {
      "cell_type": "markdown",
      "metadata": {
        "id": "pwOo1ypLYLdI"
      },
      "source": [
        "### ***Built-in Functions in List***"
      ]
    },
    {
      "cell_type": "markdown",
      "metadata": {
        "id": "YRA4ZDzwYVxq"
      },
      "source": [
        "#### sorted\n",
        "\n",
        "`sorted()`: untuk mengurutkan elemen dalam list, *ascending* maupun *descending*. \n",
        "\n",
        "`sorted()` berfungsi jika smua elemen dalam list memiliki tipe data yg sama."
      ]
    },
    {
      "cell_type": "code",
      "metadata": {
        "id": "KQtBVAg4vKnv",
        "colab": {
          "base_uri": "https://localhost:8080/"
        },
        "outputId": "bdf3fb20-c9de-4f98-9cb4-030ac1f9c289"
      },
      "source": [
        "# print(sorted(mix_data_types))\n",
        "print(sorted(buah))\n",
        "print(sorted(buah, reverse=False))\n",
        "print(sorted(buah, reverse=True))"
      ],
      "execution_count": null,
      "outputs": [
        {
          "output_type": "stream",
          "name": "stdout",
          "text": [
            "['apel', 'belimbing', 'ceri', 'duren']\n",
            "['apel', 'belimbing', 'ceri', 'duren']\n",
            "['duren', 'ceri', 'belimbing', 'apel']\n"
          ]
        }
      ]
    },
    {
      "cell_type": "markdown",
      "metadata": {
        "id": "2tnGXjKWYjgT"
      },
      "source": [
        "#### max & min\n",
        "\n",
        "`max()`: mencari elemen dgn value terbesar dalam list\n",
        "\n",
        "`min()`: mencari elemen dgn value terkecil dalam list\n",
        "\n",
        "`min()` & `max()` berfungsi ketika semua elemen dalam list memiliki tipe data yg"
      ]
    },
    {
      "cell_type": "code",
      "metadata": {
        "id": "7BhOpNKAY_c5",
        "colab": {
          "base_uri": "https://localhost:8080/"
        },
        "outputId": "7d4ebe8e-949d-4da4-c4fe-96e5dbd92cd7"
      },
      "source": [
        "# print(max(mix_data_types))\n",
        "print(max(buah))\n",
        "print(min(buah))"
      ],
      "execution_count": null,
      "outputs": [
        {
          "output_type": "stream",
          "name": "stdout",
          "text": [
            "duren\n",
            "apel\n"
          ]
        }
      ]
    },
    {
      "cell_type": "markdown",
      "metadata": {
        "id": "6aZ6M5b7ZfH2"
      },
      "source": [
        "#### menambah & menghapus elemen dalam list"
      ]
    },
    {
      "cell_type": "code",
      "metadata": {
        "id": "t_S3mNsXbHfS",
        "colab": {
          "base_uri": "https://localhost:8080/"
        },
        "outputId": "be9feeec-c7b6-4370-9311-cc5a8566b842"
      },
      "source": [
        "buah = ['apel', 'belimbing', 'ceri', 'duren']\n",
        "\n",
        "print(buah)"
      ],
      "execution_count": null,
      "outputs": [
        {
          "output_type": "stream",
          "name": "stdout",
          "text": [
            "['apel', 'belimbing', 'ceri', 'duren']\n"
          ]
        }
      ]
    },
    {
      "cell_type": "markdown",
      "metadata": {
        "id": "8ZkLNHCSb8vy"
      },
      "source": [
        "`append(<value_baru>)`: menambahkan elemen baru pada index terakhir dalam list"
      ]
    },
    {
      "cell_type": "code",
      "metadata": {
        "id": "8jpIX_xebI0U",
        "colab": {
          "base_uri": "https://localhost:8080/"
        },
        "outputId": "e8fe52f0-d580-4e0d-f169-75453f4d410b"
      },
      "source": [
        "buah.append('jeruk')\n",
        "\n",
        "print(buah)"
      ],
      "execution_count": null,
      "outputs": [
        {
          "output_type": "stream",
          "name": "stdout",
          "text": [
            "['apel', 'belimbing', 'ceri', 'duren', 'jeruk']\n"
          ]
        }
      ]
    },
    {
      "cell_type": "code",
      "source": [
        "buah + ['naga']"
      ],
      "metadata": {
        "colab": {
          "base_uri": "https://localhost:8080/"
        },
        "id": "iqiP_ojS1OTy",
        "outputId": "583fea49-479b-4fea-8099-461602092d60"
      },
      "execution_count": null,
      "outputs": [
        {
          "output_type": "execute_result",
          "data": {
            "text/plain": [
              "['apel', 'belimbing', 'ceri', 'duren', 'jeruk', 'naga']"
            ]
          },
          "metadata": {},
          "execution_count": 48
        }
      ]
    },
    {
      "cell_type": "code",
      "source": [
        "buah"
      ],
      "metadata": {
        "colab": {
          "base_uri": "https://localhost:8080/"
        },
        "id": "k9nfhh0R1WXk",
        "outputId": "7419a514-ac1a-450d-da56-f394cd6c6ee8"
      },
      "execution_count": null,
      "outputs": [
        {
          "output_type": "execute_result",
          "data": {
            "text/plain": [
              "['apel', 'belimbing', 'ceri', 'duren', 'jeruk']"
            ]
          },
          "metadata": {},
          "execution_count": 49
        }
      ]
    },
    {
      "cell_type": "markdown",
      "metadata": {
        "id": "99gq_Y7LcAS0"
      },
      "source": [
        "`insert(<index>, <value_baru>)`: menambahkan elemen baru pada index tertentu dalam list"
      ]
    },
    {
      "cell_type": "code",
      "metadata": {
        "id": "H5KpJSZwbbyZ",
        "colab": {
          "base_uri": "https://localhost:8080/"
        },
        "outputId": "5da0c5bb-7708-4ae7-e89e-89f5dbc7728c"
      },
      "source": [
        "buah.insert(2, 'cermai')\n",
        "\n",
        "print(buah)"
      ],
      "execution_count": null,
      "outputs": [
        {
          "output_type": "stream",
          "name": "stdout",
          "text": [
            "['apel', 'belimbing', 'cermai', 'ceri', 'duren', 'jeruk']\n"
          ]
        }
      ]
    },
    {
      "cell_type": "markdown",
      "metadata": {
        "id": "b8aGrq4ocN-1"
      },
      "source": [
        "`remove(<value_yg_mau_di_hapus>)`: menghapus elemen berdasarkan value nya"
      ]
    },
    {
      "cell_type": "code",
      "metadata": {
        "id": "nxzLoeCPcTZr",
        "colab": {
          "base_uri": "https://localhost:8080/"
        },
        "outputId": "6607a6d8-6da9-4e63-eaa6-9ff37218704d"
      },
      "source": [
        "buah.remove('ceri')\n",
        "\n",
        "print(buah)"
      ],
      "execution_count": null,
      "outputs": [
        {
          "output_type": "stream",
          "name": "stdout",
          "text": [
            "['apel', 'belimbing', 'cermai', 'duren', 'jeruk']\n"
          ]
        }
      ]
    },
    {
      "cell_type": "markdown",
      "metadata": {
        "id": "R9ANnWdBcnL_"
      },
      "source": [
        "`del`: menghapus elemen berdasarkan index nya"
      ]
    },
    {
      "cell_type": "code",
      "metadata": {
        "id": "tRoJ3ccQcoTo"
      },
      "source": [
        "del buah[-1]\n",
        "\n",
        "print(buah)"
      ],
      "execution_count": null,
      "outputs": []
    },
    {
      "cell_type": "code",
      "source": [
        "buah"
      ],
      "metadata": {
        "colab": {
          "base_uri": "https://localhost:8080/"
        },
        "id": "VfKHw-Mh1oAu",
        "outputId": "35dc4bfd-fbab-4e84-d6ef-5c7eda7eeace"
      },
      "execution_count": null,
      "outputs": [
        {
          "output_type": "execute_result",
          "data": {
            "text/plain": [
              "['apel', 'belimbing', 'cermai', 'duren', 'jeruk']"
            ]
          },
          "metadata": {},
          "execution_count": 53
        }
      ]
    },
    {
      "cell_type": "markdown",
      "metadata": {
        "id": "vF2yNTq-cwlW"
      },
      "source": [
        "`pop(<index>)`: mengambil elemen dari list berdasarkan indexnya, untuk diproses lagi"
      ]
    },
    {
      "cell_type": "code",
      "metadata": {
        "id": "hiGIrX9LcxBE",
        "colab": {
          "base_uri": "https://localhost:8080/"
        },
        "outputId": "877ee3f9-dedf-49fc-96b9-159b3e41e0be"
      },
      "source": [
        "buah_index_ke_2 = buah.pop(2)\n",
        "\n",
        "print(buah_index_ke_2)\n",
        "print(buah)"
      ],
      "execution_count": null,
      "outputs": [
        {
          "output_type": "stream",
          "name": "stdout",
          "text": [
            "cermai\n",
            "['apel', 'belimbing', 'duren', 'jeruk']\n"
          ]
        }
      ]
    },
    {
      "cell_type": "markdown",
      "metadata": {
        "id": "7VNPHV9zayFB"
      },
      "source": [
        "#### length dalam lists"
      ]
    },
    {
      "cell_type": "markdown",
      "metadata": {
        "id": "DPHYHuPYbA8h"
      },
      "source": [
        "`len()`: untuk menghitung jumlah elemen dalam list"
      ]
    },
    {
      "cell_type": "code",
      "metadata": {
        "id": "7tjjajmTa7aG",
        "colab": {
          "base_uri": "https://localhost:8080/"
        },
        "outputId": "d9813257-388e-43ac-8a0c-72579e5a532d"
      },
      "source": [
        "print(mix_data_types)"
      ],
      "execution_count": null,
      "outputs": [
        {
          "output_type": "stream",
          "name": "stdout",
          "text": [
            "['apel', True, 'pisang', 92, -0.2551, ['a', 'b', 'c']]\n"
          ]
        }
      ]
    },
    {
      "cell_type": "code",
      "metadata": {
        "id": "Bqja5ygua-DS",
        "colab": {
          "base_uri": "https://localhost:8080/"
        },
        "outputId": "e761509f-a84b-4d34-a95a-7685e2325e81"
      },
      "source": [
        "print(len(mix_data_types))"
      ],
      "execution_count": null,
      "outputs": [
        {
          "output_type": "stream",
          "name": "stdout",
          "text": [
            "6\n"
          ]
        }
      ]
    },
    {
      "cell_type": "markdown",
      "metadata": {
        "id": "j9VNTRG7d2t1"
      },
      "source": [
        "### ***Slicing List***"
      ]
    },
    {
      "cell_type": "code",
      "metadata": {
        "id": "uUmK_sPFd15Q"
      },
      "source": [
        "buah = ['apel', 'belimbing', 'ceri', 'duren']\n",
        "\n",
        "print(buah)"
      ],
      "execution_count": null,
      "outputs": []
    },
    {
      "cell_type": "code",
      "metadata": {
        "id": "oDIJuAPsd_Mo"
      },
      "source": [
        "print(buah[0])\n",
        "print(buah[1])\n",
        "\n",
        "print(buah[-1])\n",
        "print(buah[-2])"
      ],
      "execution_count": null,
      "outputs": []
    },
    {
      "cell_type": "markdown",
      "metadata": {
        "id": "6JjbAK6peaQ9"
      },
      "source": [
        "jika slicing menggunakan `[<index_awal> : <index_akhir>]`, *index_akhir* tidak ikut"
      ]
    },
    {
      "cell_type": "code",
      "metadata": {
        "id": "72jsT_gteFLz"
      },
      "source": [
        "print(buah[0:3])\n",
        "print(buah[:3])"
      ],
      "execution_count": null,
      "outputs": []
    },
    {
      "cell_type": "code",
      "metadata": {
        "id": "3nAt5OqIeMOF"
      },
      "source": [
        "print(buah[-3:-1])\n",
        "print(buah[-3:])"
      ],
      "execution_count": null,
      "outputs": []
    },
    {
      "cell_type": "markdown",
      "metadata": {
        "id": "zngwxVrveg4S"
      },
      "source": [
        "## **Tuple**"
      ]
    },
    {
      "cell_type": "code",
      "metadata": {
        "id": "zA4MpC7demM4",
        "colab": {
          "base_uri": "https://localhost:8080/"
        },
        "outputId": "d14fd8e4-d550-4721-8fc8-a4c15cb4ac84"
      },
      "source": [
        "tuple_numbers = (1,2,3,4,5)\n",
        "\n",
        "print(tuple_numbers)"
      ],
      "execution_count": null,
      "outputs": [
        {
          "output_type": "stream",
          "name": "stdout",
          "text": [
            "(1, 2, 3, 4, 5)\n"
          ]
        }
      ]
    },
    {
      "cell_type": "code",
      "metadata": {
        "id": "vKC6MKvDhb-3",
        "colab": {
          "base_uri": "https://localhost:8080/"
        },
        "outputId": "eeb42857-28da-427d-ef39-a0175f499042"
      },
      "source": [
        "mix_tuple = ('a', 'i', 'merupakan adalah', 2, 6.431, 61.124, True, False)\n",
        "\n",
        "print(mix_tuple)"
      ],
      "execution_count": null,
      "outputs": [
        {
          "output_type": "stream",
          "name": "stdout",
          "text": [
            "('a', 'i', 'merupakan adalah', 2, 6.431, 61.124, True, False)\n"
          ]
        }
      ]
    },
    {
      "cell_type": "markdown",
      "metadata": {
        "id": "Wwvx9TIQhynZ"
      },
      "source": [
        "### **Contoh *Tuple* Termasuk *Immutable***"
      ]
    },
    {
      "cell_type": "code",
      "metadata": {
        "id": "EOBFZfJMj3Pc",
        "colab": {
          "base_uri": "https://localhost:8080/"
        },
        "outputId": "09b7b07c-70e7-48d9-a7a8-ac60c45d8444"
      },
      "source": [
        "print(tuple_numbers)"
      ],
      "execution_count": null,
      "outputs": [
        {
          "output_type": "stream",
          "name": "stdout",
          "text": [
            "(1, 2, 3, 4, 5)\n"
          ]
        }
      ]
    },
    {
      "cell_type": "markdown",
      "metadata": {
        "id": "_BovaOttoVFc"
      },
      "source": [
        "tidak bisa melakukan perubahan elemen"
      ]
    },
    {
      "cell_type": "code",
      "metadata": {
        "id": "XlPjlhDBhmXw",
        "colab": {
          "base_uri": "https://localhost:8080/",
          "height": 240
        },
        "outputId": "c7af5e3e-6345-4e8f-b601-cdb156a75c2a"
      },
      "source": [
        "print(tuple_numbers[0])\n",
        "\n",
        "tuple_numbers[0] = 99\n",
        "print(tuple_numbers)"
      ],
      "execution_count": null,
      "outputs": [
        {
          "output_type": "stream",
          "name": "stdout",
          "text": [
            "1\n"
          ]
        },
        {
          "output_type": "error",
          "ename": "TypeError",
          "evalue": "ignored",
          "traceback": [
            "\u001b[0;31m---------------------------------------------------------------------------\u001b[0m",
            "\u001b[0;31mTypeError\u001b[0m                                 Traceback (most recent call last)",
            "\u001b[0;32m<ipython-input-60-781baa7f2c59>\u001b[0m in \u001b[0;36m<module>\u001b[0;34m()\u001b[0m\n\u001b[1;32m      1\u001b[0m \u001b[0mprint\u001b[0m\u001b[0;34m(\u001b[0m\u001b[0mtuple_numbers\u001b[0m\u001b[0;34m[\u001b[0m\u001b[0;36m0\u001b[0m\u001b[0;34m]\u001b[0m\u001b[0;34m)\u001b[0m\u001b[0;34m\u001b[0m\u001b[0;34m\u001b[0m\u001b[0m\n\u001b[1;32m      2\u001b[0m \u001b[0;34m\u001b[0m\u001b[0m\n\u001b[0;32m----> 3\u001b[0;31m \u001b[0mtuple_numbers\u001b[0m\u001b[0;34m[\u001b[0m\u001b[0;36m0\u001b[0m\u001b[0;34m]\u001b[0m \u001b[0;34m=\u001b[0m \u001b[0;36m99\u001b[0m\u001b[0;34m\u001b[0m\u001b[0;34m\u001b[0m\u001b[0m\n\u001b[0m\u001b[1;32m      4\u001b[0m \u001b[0mprint\u001b[0m\u001b[0;34m(\u001b[0m\u001b[0mtuple_numbers\u001b[0m\u001b[0;34m)\u001b[0m\u001b[0;34m\u001b[0m\u001b[0;34m\u001b[0m\u001b[0m\n",
            "\u001b[0;31mTypeError\u001b[0m: 'tuple' object does not support item assignment"
          ]
        }
      ]
    },
    {
      "cell_type": "markdown",
      "metadata": {
        "id": "asd6GchGoake"
      },
      "source": [
        "tidak bisa menghapus elemen tertentu dalam *tuple*"
      ]
    },
    {
      "cell_type": "code",
      "metadata": {
        "id": "LUZ2GE6-j1RS",
        "colab": {
          "base_uri": "https://localhost:8080/",
          "height": 168
        },
        "outputId": "f727ca9f-f59a-420c-cf67-45cc6d4fb8be"
      },
      "source": [
        "del tuple_numbers[0]"
      ],
      "execution_count": null,
      "outputs": [
        {
          "output_type": "error",
          "ename": "NameError",
          "evalue": "ignored",
          "traceback": [
            "\u001b[0;31m---------------------------------------------------------------------------\u001b[0m",
            "\u001b[0;31mNameError\u001b[0m                                 Traceback (most recent call last)",
            "\u001b[0;32m<ipython-input-65-406de406383f>\u001b[0m in \u001b[0;36m<module>\u001b[0;34m()\u001b[0m\n\u001b[0;32m----> 1\u001b[0;31m \u001b[0;32mdel\u001b[0m \u001b[0mtuple_numbers\u001b[0m\u001b[0;34m[\u001b[0m\u001b[0;36m0\u001b[0m\u001b[0;34m]\u001b[0m\u001b[0;34m\u001b[0m\u001b[0;34m\u001b[0m\u001b[0m\n\u001b[0m",
            "\u001b[0;31mNameError\u001b[0m: name 'tuple_numbers' is not defined"
          ]
        }
      ]
    },
    {
      "cell_type": "markdown",
      "metadata": {
        "id": "avdCbSP2iMtd"
      },
      "source": [
        "### ***Concate Tuple***"
      ]
    },
    {
      "cell_type": "markdown",
      "metadata": {
        "id": "9VDEDQrginaf"
      },
      "source": [
        "karena *tuple* itu *immutable*, maka jika ingin menambahkan elemen baru harus disimpan dlm variable baru dgn cara di *concate*"
      ]
    },
    {
      "cell_type": "code",
      "metadata": {
        "id": "xA_cAcmeh4Uw",
        "colab": {
          "base_uri": "https://localhost:8080/"
        },
        "outputId": "5c13d5aa-2258-4aa6-86c2-de399a93579b"
      },
      "source": [
        "print(tuple_numbers)\n",
        "\n",
        "tuple_new_numbers = tuple_numbers + (6,7,8)\n",
        "\n",
        "print(tuple_new_numbers)"
      ],
      "execution_count": null,
      "outputs": [
        {
          "output_type": "stream",
          "name": "stdout",
          "text": [
            "(1, 2, 3, 4, 5)\n",
            "(1, 2, 3, 4, 5, 6, 7, 8)\n"
          ]
        }
      ]
    },
    {
      "cell_type": "markdown",
      "metadata": {
        "id": "dZ2_J-S_jw0C"
      },
      "source": [
        "### ***Delete Tuple***"
      ]
    },
    {
      "cell_type": "code",
      "metadata": {
        "id": "dT5sDL8wiegK",
        "colab": {
          "base_uri": "https://localhost:8080/",
          "height": 240
        },
        "outputId": "4816bac9-6f69-4392-d4c1-55ab10f20822"
      },
      "source": [
        "print(tuple_numbers)\n",
        "\n",
        "del tuple_numbers\n",
        "\n",
        "print(tuple_numbers)"
      ],
      "execution_count": null,
      "outputs": [
        {
          "output_type": "error",
          "ename": "NameError",
          "evalue": "ignored",
          "traceback": [
            "\u001b[0;31m---------------------------------------------------------------------------\u001b[0m",
            "\u001b[0;31mNameError\u001b[0m                                 Traceback (most recent call last)",
            "\u001b[0;32m<ipython-input-66-ca856c54d1dc>\u001b[0m in \u001b[0;36m<module>\u001b[0;34m()\u001b[0m\n\u001b[0;32m----> 1\u001b[0;31m \u001b[0mprint\u001b[0m\u001b[0;34m(\u001b[0m\u001b[0mtuple_numbers\u001b[0m\u001b[0;34m)\u001b[0m\u001b[0;34m\u001b[0m\u001b[0;34m\u001b[0m\u001b[0m\n\u001b[0m\u001b[1;32m      2\u001b[0m \u001b[0;34m\u001b[0m\u001b[0m\n\u001b[1;32m      3\u001b[0m \u001b[0;32mdel\u001b[0m \u001b[0mtuple_numbers\u001b[0m\u001b[0;34m\u001b[0m\u001b[0;34m\u001b[0m\u001b[0m\n\u001b[1;32m      4\u001b[0m \u001b[0;34m\u001b[0m\u001b[0m\n\u001b[1;32m      5\u001b[0m \u001b[0mprint\u001b[0m\u001b[0;34m(\u001b[0m\u001b[0mtuple_numbers\u001b[0m\u001b[0;34m)\u001b[0m\u001b[0;34m\u001b[0m\u001b[0;34m\u001b[0m\u001b[0m\n",
            "\u001b[0;31mNameError\u001b[0m: name 'tuple_numbers' is not defined"
          ]
        }
      ]
    },
    {
      "cell_type": "markdown",
      "metadata": {
        "id": "JhpEpR6ukoHo"
      },
      "source": [
        "### ***Length***"
      ]
    },
    {
      "cell_type": "code",
      "metadata": {
        "id": "DEZjLdJSkkZo",
        "colab": {
          "base_uri": "https://localhost:8080/"
        },
        "outputId": "4ad86b63-c837-4de9-c90f-b12e2afc4b7c"
      },
      "source": [
        "tuple_numbers = (1,2,3,4,5)\n",
        "\n",
        "print(tuple_numbers)\n",
        "print(len(tuple_numbers))"
      ],
      "execution_count": null,
      "outputs": [
        {
          "output_type": "stream",
          "name": "stdout",
          "text": [
            "(1, 2, 3, 4, 5)\n",
            "5\n"
          ]
        }
      ]
    },
    {
      "cell_type": "markdown",
      "metadata": {
        "id": "Q1OL7YhJTmiE"
      },
      "source": [
        "### ***Zip***"
      ]
    },
    {
      "cell_type": "markdown",
      "metadata": {
        "id": "T1GA3_54TypZ"
      },
      "source": [
        "*zip* untuk menggabungkan elemen per *index* dari beberapa *tuple* atau bisa juga *list*"
      ]
    },
    {
      "cell_type": "code",
      "metadata": {
        "id": "Odtan4THTmJA",
        "colab": {
          "base_uri": "https://localhost:8080/"
        },
        "outputId": "d778d272-1b3e-4424-b725-d1269e86ca7e"
      },
      "source": [
        "nama = ('budi', 'andi', 'riri', 'roro')\n",
        "umur = (33, 23, 26)\n",
        "\n",
        "# nama = ['budi', 'andi', 'riri', 'roro']\n",
        "# umur = [33, 23, 26]\n",
        "\n",
        "print(nama)\n",
        "print(umur)"
      ],
      "execution_count": null,
      "outputs": [
        {
          "output_type": "stream",
          "name": "stdout",
          "text": [
            "('budi', 'andi', 'riri', 'roro')\n",
            "(33, 23, 26)\n"
          ]
        }
      ]
    },
    {
      "cell_type": "markdown",
      "metadata": {
        "id": "pqmU_rpyLp4E"
      },
      "source": [
        "hasil dari *zip* adalah *zip object*, maka utk bisa membaca hasil dri *zip*, harus di *convert* ke *list* atau *tuple* dulu.\n",
        "\n",
        "*list* atau *tuple* yg ingin di *zip*, harus memiliki jumlah elemen yg sama, jika tidak, elemen yg tidak ada pasangan tidak akan dibaca."
      ]
    },
    {
      "cell_type": "code",
      "metadata": {
        "id": "6IZU9Bn5Ug7d",
        "colab": {
          "base_uri": "https://localhost:8080/"
        },
        "outputId": "495f0f6f-dd4b-42c3-bde7-4b10821112d1"
      },
      "source": [
        "zipped = zip(nama, umur)\n",
        "\n",
        "print(zipped)\n",
        "print(list(zipped))"
      ],
      "execution_count": null,
      "outputs": [
        {
          "output_type": "stream",
          "name": "stdout",
          "text": [
            "<zip object at 0x7f69047d40f0>\n",
            "[('budi', 33), ('andi', 23), ('riri', 26)]\n"
          ]
        }
      ]
    },
    {
      "cell_type": "code",
      "source": [
        "nama_list = ['budi', 'andi', 'riri', 'roro']\n",
        "umur_list = [33, 23, 26]\n",
        "\n",
        "zipped_list = zip(nama, umur)\n",
        "list(zipped_list)"
      ],
      "metadata": {
        "colab": {
          "base_uri": "https://localhost:8080/"
        },
        "id": "prEALLkQ3Q5U",
        "outputId": "32714f56-f359-4733-b646-d550878ec519"
      },
      "execution_count": null,
      "outputs": [
        {
          "output_type": "execute_result",
          "data": {
            "text/plain": [
              "[('budi', 33), ('andi', 23), ('riri', 26)]"
            ]
          },
          "metadata": {},
          "execution_count": 72
        }
      ]
    },
    {
      "cell_type": "markdown",
      "metadata": {
        "id": "1oGiAIAqlcs5"
      },
      "source": [
        "### ***Slicing Tuple***"
      ]
    },
    {
      "cell_type": "code",
      "metadata": {
        "id": "4h27Buapk5hI",
        "colab": {
          "base_uri": "https://localhost:8080/"
        },
        "outputId": "8ab494be-3610-4769-cf01-9fc72179cc7b"
      },
      "source": [
        "print(tuple_numbers[0])\n",
        "print(tuple_numbers[1])\n",
        "\n",
        "print(tuple_numbers[-1])\n",
        "print(tuple_numbers[-2])"
      ],
      "execution_count": null,
      "outputs": [
        {
          "output_type": "stream",
          "name": "stdout",
          "text": [
            "1\n",
            "2\n",
            "5\n",
            "4\n"
          ]
        }
      ]
    },
    {
      "cell_type": "markdown",
      "metadata": {
        "id": "72Qe8aRLk5hM"
      },
      "source": [
        "jika slicing menggunakan `[<index_awal> : <index_akhir>]`, *index_akhir* tidak ikut"
      ]
    },
    {
      "cell_type": "code",
      "metadata": {
        "id": "i3EdVfpvk5hN",
        "colab": {
          "base_uri": "https://localhost:8080/"
        },
        "outputId": "9263e569-a9a1-456e-df1b-9cc87514654e"
      },
      "source": [
        "print(tuple_numbers[0:3])\n",
        "print(tuple_numbers[:3])"
      ],
      "execution_count": null,
      "outputs": [
        {
          "output_type": "stream",
          "name": "stdout",
          "text": [
            "(1, 2, 3)\n",
            "(1, 2, 3)\n"
          ]
        }
      ]
    },
    {
      "cell_type": "code",
      "metadata": {
        "id": "igTJKIfdk5hO",
        "colab": {
          "base_uri": "https://localhost:8080/"
        },
        "outputId": "e697bb3a-8b21-45e5-faac-d46226423de1"
      },
      "source": [
        "print(tuple_numbers[-3:-1])\n",
        "print(tuple_numbers[-3:])"
      ],
      "execution_count": null,
      "outputs": [
        {
          "output_type": "stream",
          "name": "stdout",
          "text": [
            "(3, 4)\n",
            "(3, 4, 5)\n"
          ]
        }
      ]
    },
    {
      "cell_type": "markdown",
      "metadata": {
        "id": "GUf30bIel23e"
      },
      "source": [
        "## **Set**"
      ]
    },
    {
      "cell_type": "code",
      "metadata": {
        "id": "T94pflCzmAxu",
        "colab": {
          "base_uri": "https://localhost:8080/"
        },
        "outputId": "72e67436-7bcf-48d8-fe8a-37aa48f79ccb"
      },
      "source": [
        "set_numbers = {1,2,3,5,4}\n",
        "\n",
        "print(set_numbers)"
      ],
      "execution_count": null,
      "outputs": [
        {
          "output_type": "stream",
          "name": "stdout",
          "text": [
            "{1, 2, 3, 4, 5}\n"
          ]
        }
      ]
    },
    {
      "cell_type": "code",
      "metadata": {
        "id": "jbs34peemDPu",
        "colab": {
          "base_uri": "https://localhost:8080/"
        },
        "outputId": "7fc7c9f9-c1c6-4e73-fb18-4d2828ea888e"
      },
      "source": [
        "mixed_set = {1, 2, 0.351, 8.134, False, 'ini budi'}\n",
        "#mengapa False sebelum 8.134?\n",
        "print(mixed_set)"
      ],
      "execution_count": null,
      "outputs": [
        {
          "output_type": "stream",
          "name": "stdout",
          "text": [
            "{0.351, 1, 2, False, 8.134, 'ini budi'}\n"
          ]
        }
      ]
    },
    {
      "cell_type": "markdown",
      "metadata": {
        "id": "qzaSOd5SmPq9"
      },
      "source": [
        "### **Contoh *set* tidak mengandung duplikat elemen**"
      ]
    },
    {
      "cell_type": "code",
      "metadata": {
        "id": "a0X1W8hWmLVv",
        "colab": {
          "base_uri": "https://localhost:8080/"
        },
        "outputId": "3f74933b-fb40-4cf4-c870-ff52a25817af"
      },
      "source": [
        "random_set_numbers = {4,5,5,1,2,3,3}\n",
        "\n",
        "print(random_set_numbers)"
      ],
      "execution_count": null,
      "outputs": [
        {
          "output_type": "stream",
          "name": "stdout",
          "text": [
            "{1, 2, 3, 4, 5}\n"
          ]
        }
      ]
    },
    {
      "cell_type": "markdown",
      "metadata": {
        "id": "a4wM3rwZnV66"
      },
      "source": [
        "### **Contoh *set* memiliki *index* yg tidak berurutan**"
      ]
    },
    {
      "cell_type": "markdown",
      "metadata": {
        "id": "B236evf9nc6t"
      },
      "source": [
        "set akan langsung mengurutkan elemen nya dari kecil ke besar dan menghapus duplikasi elemen\n",
        "\n",
        "oleh karena itu, tidak bisa mengakses per *index* nya"
      ]
    },
    {
      "cell_type": "code",
      "metadata": {
        "id": "qTIGJKV2nNrx",
        "colab": {
          "base_uri": "https://localhost:8080/",
          "height": 168
        },
        "outputId": "b975fa2d-cabe-41c1-d380-5b0c20234ea6"
      },
      "source": [
        "print(random_set_numbers[0])"
      ],
      "execution_count": null,
      "outputs": [
        {
          "output_type": "error",
          "ename": "TypeError",
          "evalue": "ignored",
          "traceback": [
            "\u001b[0;31m---------------------------------------------------------------------------\u001b[0m",
            "\u001b[0;31mTypeError\u001b[0m                                 Traceback (most recent call last)",
            "\u001b[0;32m<ipython-input-79-6c9ebe273825>\u001b[0m in \u001b[0;36m<module>\u001b[0;34m()\u001b[0m\n\u001b[0;32m----> 1\u001b[0;31m \u001b[0mprint\u001b[0m\u001b[0;34m(\u001b[0m\u001b[0mrandom_set_numbers\u001b[0m\u001b[0;34m[\u001b[0m\u001b[0;36m0\u001b[0m\u001b[0;34m]\u001b[0m\u001b[0;34m)\u001b[0m\u001b[0;34m\u001b[0m\u001b[0;34m\u001b[0m\u001b[0m\n\u001b[0m",
            "\u001b[0;31mTypeError\u001b[0m: 'set' object is not subscriptable"
          ]
        }
      ]
    },
    {
      "cell_type": "markdown",
      "metadata": {
        "id": "irxJMfbRn5-q"
      },
      "source": [
        "### **Add & Remove *Set***"
      ]
    },
    {
      "cell_type": "code",
      "metadata": {
        "id": "exgw2ssOnRVx"
      },
      "source": [
        "print(random_set_numbers)"
      ],
      "execution_count": null,
      "outputs": []
    },
    {
      "cell_type": "markdown",
      "metadata": {
        "id": "vzLMuGyPqgp0"
      },
      "source": [
        "menambahkan elemen baru pd *index* terakhir"
      ]
    },
    {
      "cell_type": "code",
      "metadata": {
        "id": "XW-dpFWSoFUB"
      },
      "source": [
        "random_set_numbers.add(6)\n",
        "\n",
        "print(random_set_numbers)"
      ],
      "execution_count": null,
      "outputs": []
    },
    {
      "cell_type": "markdown",
      "metadata": {
        "id": "gQ1OWk16qdfb"
      },
      "source": [
        "menghapus elemen berdasarkan *value* nya"
      ]
    },
    {
      "cell_type": "code",
      "metadata": {
        "id": "0KXlEeRtoNvG"
      },
      "source": [
        "random_set_numbers.remove(2)\n",
        "\n",
        "print(random_set_numbers)"
      ],
      "execution_count": null,
      "outputs": []
    },
    {
      "cell_type": "markdown",
      "metadata": {
        "id": "FXVnakR3qoyf"
      },
      "source": [
        "## **Dictionary**"
      ]
    },
    {
      "cell_type": "code",
      "metadata": {
        "id": "FtPfHzpT750w",
        "colab": {
          "base_uri": "https://localhost:8080/"
        },
        "outputId": "62a03bed-65dd-47fb-cf51-bcaead96f957"
      },
      "source": [
        "dict_user = {'nama': 'budi', 'umur': 25, 'sudah_menikah': False, 3: 'integer as key', True: 'boolean as key'}\n",
        "\n",
        "print(dict_user)\n",
        "\n",
        "print(dict_user['nama'])\n",
        "print(dict_user[3])\n",
        "print(dict_user[True])"
      ],
      "execution_count": null,
      "outputs": [
        {
          "output_type": "stream",
          "name": "stdout",
          "text": [
            "{'nama': 'budi', 'umur': 25, 'sudah_menikah': False, 3: 'integer as key', True: 'boolean as key'}\n",
            "budi\n",
            "integer as key\n",
            "boolean as key\n"
          ]
        }
      ]
    },
    {
      "cell_type": "markdown",
      "metadata": {
        "id": "L7DNdR4J84ar"
      },
      "source": [
        "### ***Print All Keys, Values, & key-value pairs***"
      ]
    },
    {
      "cell_type": "code",
      "metadata": {
        "id": "LFVyzcTN88yH",
        "colab": {
          "base_uri": "https://localhost:8080/"
        },
        "outputId": "11c72d31-323f-4551-f20c-5f2eb4c45f6d"
      },
      "source": [
        "print(dict_user.keys())"
      ],
      "execution_count": null,
      "outputs": [
        {
          "output_type": "stream",
          "name": "stdout",
          "text": [
            "dict_keys(['nama', 'umur', 'sudah_menikah', 3, True])\n"
          ]
        }
      ]
    },
    {
      "cell_type": "code",
      "metadata": {
        "id": "oPjv9RLB8-qV",
        "colab": {
          "base_uri": "https://localhost:8080/"
        },
        "outputId": "8cbf2a64-31df-4248-fc76-a9ccee0db7dc"
      },
      "source": [
        "print(dict_user.values())"
      ],
      "execution_count": null,
      "outputs": [
        {
          "output_type": "stream",
          "name": "stdout",
          "text": [
            "dict_values(['budi', 25, False, 'integer as key', 'boolean as key'])\n"
          ]
        }
      ]
    },
    {
      "cell_type": "code",
      "metadata": {
        "id": "BNMXkEb89AAC",
        "colab": {
          "base_uri": "https://localhost:8080/"
        },
        "outputId": "34af7e80-b39e-4d07-eca4-5b79dbcd7b22"
      },
      "source": [
        "print(dict_user.items())"
      ],
      "execution_count": null,
      "outputs": [
        {
          "output_type": "stream",
          "name": "stdout",
          "text": [
            "dict_items([('nama', 'budi'), ('umur', 25), ('sudah_menikah', False), (3, 'integer as key'), (True, 'boolean as key')])\n"
          ]
        }
      ]
    },
    {
      "cell_type": "markdown",
      "metadata": {
        "id": "exNJQFxf8VkO"
      },
      "source": [
        "### ***Add & Remove Key-Value Pair***"
      ]
    },
    {
      "cell_type": "code",
      "metadata": {
        "id": "1J0DDYBZ8b14",
        "colab": {
          "base_uri": "https://localhost:8080/"
        },
        "outputId": "407d8ff9-09c8-4cb5-df33-01fb1948d5f2"
      },
      "source": [
        "print(dict_user)"
      ],
      "execution_count": null,
      "outputs": [
        {
          "output_type": "stream",
          "name": "stdout",
          "text": [
            "{'nama': 'budi', 'umur': 25, 'sudah_menikah': False, 3: 'integer as key', True: 'boolean as key'}\n"
          ]
        }
      ]
    },
    {
      "cell_type": "code",
      "metadata": {
        "id": "UDboYjFI8d1A",
        "colab": {
          "base_uri": "https://localhost:8080/"
        },
        "outputId": "2b9a545a-246d-4bab-bb89-dea4682b8449"
      },
      "source": [
        "dict_user['alamat'] = 'jl barat no 2 kecamatan utara kelurahan selatan'\n",
        "\n",
        "print(dict_user)"
      ],
      "execution_count": null,
      "outputs": [
        {
          "output_type": "stream",
          "name": "stdout",
          "text": [
            "{'nama': 'budi', 'umur': 25, 'sudah_menikah': False, 3: 'integer as key', True: 'boolean as key', 'alamat': 'jl barat no 2 kecamatan utara kelurahan selatan'}\n"
          ]
        }
      ]
    },
    {
      "cell_type": "code",
      "metadata": {
        "id": "o6bo4vq28m9G",
        "colab": {
          "base_uri": "https://localhost:8080/"
        },
        "outputId": "ac961a50-632a-40d4-82fd-eb59fef2711d"
      },
      "source": [
        "del dict_user['umur']\n",
        "\n",
        "print(dict_user)"
      ],
      "execution_count": null,
      "outputs": [
        {
          "output_type": "stream",
          "name": "stdout",
          "text": [
            "{'nama': 'budi', 'sudah_menikah': False, 3: 'integer as key', True: 'boolean as key', 'alamat': 'jl barat no 2 kecamatan utara kelurahan selatan'}\n"
          ]
        }
      ]
    },
    {
      "cell_type": "markdown",
      "metadata": {
        "id": "vf_OK3nh_sY_"
      },
      "source": [
        "# ***Study Case Example***"
      ]
    },
    {
      "cell_type": "markdown",
      "metadata": {
        "id": "9bXotpby_4wY"
      },
      "source": [
        "install *requests* library"
      ]
    },
    {
      "cell_type": "code",
      "metadata": {
        "id": "zWmx4Sig_uDW"
      },
      "source": [
        "!pip install requests"
      ],
      "execution_count": null,
      "outputs": []
    },
    {
      "cell_type": "markdown",
      "metadata": {
        "id": "SGf8Zgpb_9cQ"
      },
      "source": [
        "import *requests* library"
      ]
    },
    {
      "cell_type": "code",
      "metadata": {
        "id": "XsE3ZZKgAAHi"
      },
      "source": [
        "import requests"
      ],
      "execution_count": null,
      "outputs": []
    },
    {
      "cell_type": "markdown",
      "metadata": {
        "id": "1SvMO8u-kOT7"
      },
      "source": [
        "melihat deskripsi dari library"
      ]
    },
    {
      "cell_type": "code",
      "metadata": {
        "id": "JPJ2jYQvkUjF"
      },
      "source": [
        "help(requests)"
      ],
      "execution_count": null,
      "outputs": []
    },
    {
      "cell_type": "markdown",
      "metadata": {
        "id": "kh0f4881C2qz"
      },
      "source": [
        "fetch data from URL & print response code"
      ]
    },
    {
      "cell_type": "code",
      "metadata": {
        "id": "UFMPvj_T_z_U"
      },
      "source": [
        "fetch_data = requests.get('https://jsonplaceholder.typicode.com/posts')\n",
        "\n",
        "print(fetch_data)"
      ],
      "execution_count": null,
      "outputs": []
    },
    {
      "cell_type": "markdown",
      "metadata": {
        "id": "GGVFPoh5C6WP"
      },
      "source": [
        "menggunakan `.json()` agar bisa akses value data nya\n",
        "\n",
        "cek tipe data: *list of dictionaries*"
      ]
    },
    {
      "cell_type": "code",
      "metadata": {
        "id": "dU2QpLwNALSI"
      },
      "source": [
        "posts = fetch_data.json()\n",
        "\n",
        "print(type(posts))\n",
        "print(posts)"
      ],
      "execution_count": null,
      "outputs": []
    },
    {
      "cell_type": "markdown",
      "metadata": {
        "id": "4MmOtapiDGIj"
      },
      "source": [
        "slicing data dr index ke-2 s/d ke-7"
      ]
    },
    {
      "cell_type": "code",
      "metadata": {
        "id": "p9RidWIAAc4W"
      },
      "source": [
        "selected_posts = posts[2:7]\n",
        "\n",
        "print(selected_posts)"
      ],
      "execution_count": null,
      "outputs": []
    },
    {
      "cell_type": "markdown",
      "metadata": {
        "id": "viBaIF5ODb4P"
      },
      "source": [
        "hapus elemen dgn index ke-1 dri *selected_posts*"
      ]
    },
    {
      "cell_type": "code",
      "metadata": {
        "id": "sXX9vAQHBo_S"
      },
      "source": [
        "del selected_posts[1]\n",
        "\n",
        "print(selected_posts)"
      ],
      "execution_count": null,
      "outputs": []
    },
    {
      "cell_type": "markdown",
      "metadata": {
        "id": "O-XSGslcN36T"
      },
      "source": [
        "# ***Study Case***"
      ]
    },
    {
      "cell_type": "markdown",
      "metadata": {
        "id": "oBqnWqVpN8vG"
      },
      "source": [
        "1.   Dengan menggunakan library `requests`, tariklah data dari users dari link https://jsonplaceholder.typicode.com/users\n",
        "2.   Simpan data hasil penarikan ke dalam variable dengan nama **users**\n",
        "3.   Identifikasi tipe data dari **users**\n",
        "4.   Ambil data user dgn **id = 3** sampai dgn **id = 7**, lalu simpan dalam variable baru bernama **selected_users**\n",
        "5.   Hapus user dgn **id = 4** dari **selected_users**\n"
      ]
    }
  ]
}