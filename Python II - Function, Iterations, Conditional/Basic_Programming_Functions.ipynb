{
  "nbformat": 4,
  "nbformat_minor": 0,
  "metadata": {
    "kernelspec": {
      "display_name": "Python 3 (ipykernel)",
      "language": "python",
      "name": "python3"
    },
    "language_info": {
      "codemirror_mode": {
        "name": "ipython",
        "version": 3
      },
      "file_extension": ".py",
      "mimetype": "text/x-python",
      "name": "python",
      "nbconvert_exporter": "python",
      "pygments_lexer": "ipython3",
      "version": "3.8.8"
    },
    "colab": {
      "provenance": [],
      "collapsed_sections": [],
      "toc_visible": true,
      "include_colab_link": true
    }
  },
  "cells": [
    {
      "cell_type": "markdown",
      "metadata": {
        "id": "view-in-github",
        "colab_type": "text"
      },
      "source": [
        "<a href=\"https://colab.research.google.com/github/AnggaPradiktas/tutorials/blob/main/Basic_Programming_Functions.ipynb\" target=\"_parent\"><img src=\"https://colab.research.google.com/assets/colab-badge.svg\" alt=\"Open In Colab\"/></a>"
      ]
    },
    {
      "cell_type": "markdown",
      "metadata": {
        "id": "SmdOyeZWYLxn"
      },
      "source": [
        "# Functions"
      ]
    },
    {
      "cell_type": "code",
      "source": [
        "# Halo"
      ],
      "metadata": {
        "id": "5NE-rDChPhUA"
      },
      "execution_count": null,
      "outputs": []
    },
    {
      "cell_type": "code",
      "source": [
        "list_num = [1,2,3]"
      ],
      "metadata": {
        "id": "iKJ740RTMqBA"
      },
      "execution_count": null,
      "outputs": []
    },
    {
      "cell_type": "code",
      "source": [
        "max(list_num)"
      ],
      "metadata": {
        "colab": {
          "base_uri": "https://localhost:8080/"
        },
        "id": "DQH_DG23M31E",
        "outputId": "f9c8e922-25eb-4fd4-93e4-6705df5420f0"
      },
      "execution_count": null,
      "outputs": [
        {
          "output_type": "execute_result",
          "data": {
            "text/plain": [
              "3"
            ]
          },
          "metadata": {},
          "execution_count": 3
        }
      ]
    },
    {
      "cell_type": "code",
      "source": [
        "min(list_num)"
      ],
      "metadata": {
        "colab": {
          "base_uri": "https://localhost:8080/"
        },
        "id": "SEEMAD2UNC0-",
        "outputId": "8f7f6cd4-a6ff-4a3b-cb3f-8bdad0bcfa47"
      },
      "execution_count": null,
      "outputs": [
        {
          "output_type": "execute_result",
          "data": {
            "text/plain": [
              "1"
            ]
          },
          "metadata": {},
          "execution_count": 4
        }
      ]
    },
    {
      "cell_type": "code",
      "source": [
        "sum(list_num)"
      ],
      "metadata": {
        "colab": {
          "base_uri": "https://localhost:8080/"
        },
        "id": "0U3EBxb0NIjY",
        "outputId": "d6878e1c-5927-4358-aca8-ebd9d6cba7a4"
      },
      "execution_count": null,
      "outputs": [
        {
          "output_type": "execute_result",
          "data": {
            "text/plain": [
              "6"
            ]
          },
          "metadata": {},
          "execution_count": 5
        }
      ]
    },
    {
      "cell_type": "code",
      "source": [
        "sum(list_num)/len(list_num)"
      ],
      "metadata": {
        "colab": {
          "base_uri": "https://localhost:8080/"
        },
        "id": "kMWI94cfNLuC",
        "outputId": "e9384f81-854e-49d3-982e-2ad9cf98a33c"
      },
      "execution_count": null,
      "outputs": [
        {
          "output_type": "execute_result",
          "data": {
            "text/plain": [
              "2.0"
            ]
          },
          "metadata": {},
          "execution_count": 7
        }
      ]
    },
    {
      "cell_type": "code",
      "source": [
        "list_num_2 = [0.1,1,False]"
      ],
      "metadata": {
        "id": "klf-qoieNbF4"
      },
      "execution_count": null,
      "outputs": []
    },
    {
      "cell_type": "code",
      "source": [
        "list_num.append(4)"
      ],
      "metadata": {
        "id": "BebPC_H2Nlsx"
      },
      "execution_count": null,
      "outputs": []
    },
    {
      "cell_type": "code",
      "source": [
        "r = range(4,6)"
      ],
      "metadata": {
        "id": "0qFsijI1QyEP"
      },
      "execution_count": null,
      "outputs": []
    },
    {
      "cell_type": "code",
      "source": [
        "for i in range(4,6):\n",
        "  list_num.append(i)"
      ],
      "metadata": {
        "id": "Q-HVHvETOCqc"
      },
      "execution_count": null,
      "outputs": []
    },
    {
      "cell_type": "code",
      "source": [
        "list_num + [6,7]"
      ],
      "metadata": {
        "colab": {
          "base_uri": "https://localhost:8080/"
        },
        "id": "WxnDjOzQRMIY",
        "outputId": "630f1618-429d-4c78-9ddc-6a39948fab21"
      },
      "execution_count": null,
      "outputs": [
        {
          "output_type": "execute_result",
          "data": {
            "text/plain": [
              "[1, 2, 3, 4, 5, 6, 7]"
            ]
          },
          "metadata": {},
          "execution_count": 57
        }
      ]
    },
    {
      "cell_type": "code",
      "source": [
        "n = 55.6\n",
        "round(n)"
      ],
      "metadata": {
        "colab": {
          "base_uri": "https://localhost:8080/"
        },
        "id": "Xncods7xOTD-",
        "outputId": "3458b578-ea98-4c72-df99-1386a701cc05"
      },
      "execution_count": null,
      "outputs": [
        {
          "output_type": "execute_result",
          "data": {
            "text/plain": [
              "56"
            ]
          },
          "metadata": {},
          "execution_count": 42
        }
      ]
    },
    {
      "cell_type": "code",
      "source": [
        "import math\n",
        "math.ceil(n)"
      ],
      "metadata": {
        "colab": {
          "base_uri": "https://localhost:8080/"
        },
        "id": "nUgXaCdTOdpj",
        "outputId": "785192d1-46bc-4737-d6ae-6ab59d68cccb"
      },
      "execution_count": null,
      "outputs": [
        {
          "output_type": "execute_result",
          "data": {
            "text/plain": [
              "56"
            ]
          },
          "metadata": {},
          "execution_count": 44
        }
      ]
    },
    {
      "cell_type": "code",
      "source": [
        "def square(nomer):\n",
        "  value = nomer ** 2\n",
        "  print(value)"
      ],
      "metadata": {
        "id": "lGtvj-jhRuCa"
      },
      "execution_count": null,
      "outputs": []
    },
    {
      "cell_type": "code",
      "source": [
        "square(9)"
      ],
      "metadata": {
        "colab": {
          "base_uri": "https://localhost:8080/"
        },
        "id": "5XmCZmucR8Wq",
        "outputId": "fdd45e9b-054f-4f47-d7e9-0928365c22dc"
      },
      "execution_count": null,
      "outputs": [
        {
          "output_type": "stream",
          "name": "stdout",
          "text": [
            "81\n"
          ]
        }
      ]
    },
    {
      "cell_type": "code",
      "source": [
        "def square(nomer):\n",
        "  value = nomer ** 2\n",
        "  return value"
      ],
      "metadata": {
        "id": "sXte3tWUTCl0"
      },
      "execution_count": null,
      "outputs": []
    },
    {
      "cell_type": "code",
      "source": [
        "num = square(9)"
      ],
      "metadata": {
        "id": "1LNHZh2uTTEp"
      },
      "execution_count": null,
      "outputs": []
    },
    {
      "cell_type": "code",
      "source": [
        "num"
      ],
      "metadata": {
        "colab": {
          "base_uri": "https://localhost:8080/"
        },
        "id": "LHm-CUqMTkjM",
        "outputId": "d42e4dd4-3d21-485b-de78-9ce3197bcd68"
      },
      "execution_count": null,
      "outputs": [
        {
          "output_type": "execute_result",
          "data": {
            "text/plain": [
              "81"
            ]
          },
          "metadata": {},
          "execution_count": 73
        }
      ]
    },
    {
      "cell_type": "code",
      "source": [
        "def square_2(nomer):\n",
        "  value = nomer ** 2\n",
        "  return value"
      ],
      "metadata": {
        "id": "QwX8NjFATl1E"
      },
      "execution_count": null,
      "outputs": []
    },
    {
      "cell_type": "code",
      "source": [
        "square_2(square(9))"
      ],
      "metadata": {
        "colab": {
          "base_uri": "https://localhost:8080/"
        },
        "id": "3UAbjfB2Tpv7",
        "outputId": "f93c72ab-368a-4547-e1fb-719a6589731f"
      },
      "execution_count": null,
      "outputs": [
        {
          "output_type": "execute_result",
          "data": {
            "text/plain": [
              "6561"
            ]
          },
          "metadata": {},
          "execution_count": 77
        }
      ]
    },
    {
      "cell_type": "code",
      "metadata": {
        "id": "SKp897C3-opM"
      },
      "source": [
        "def hitung(angka, kali, tambah): #input\n",
        "  angka = angka * kali + tambah #body/process\n",
        "  return angka #output"
      ],
      "execution_count": null,
      "outputs": []
    },
    {
      "cell_type": "code",
      "source": [
        "n = int(input())\n",
        "m = int(input())\n",
        "k = int(input())\n",
        "print(hitung(n, m, k))"
      ],
      "metadata": {
        "colab": {
          "base_uri": "https://localhost:8080/"
        },
        "id": "fG26xnMDUOWE",
        "outputId": "da403fbf-e449-4bba-f2ec-02017a60263e"
      },
      "execution_count": null,
      "outputs": [
        {
          "output_type": "stream",
          "name": "stdout",
          "text": [
            "33\n",
            "5\n",
            "2\n",
            "167\n"
          ]
        }
      ]
    },
    {
      "cell_type": "code",
      "metadata": {
        "colab": {
          "base_uri": "https://localhost:8080/"
        },
        "id": "bpfkMH2q_qVR",
        "outputId": "93965c12-2fda-4164-c4e2-8b479d996997"
      },
      "source": [
        "def akar(angka): #input\n",
        "  angka = angka ** (1/2) #body/process\n",
        "  return angka #output\n",
        "\n",
        "n = int(input())\n",
        "print(akar(n))"
      ],
      "execution_count": null,
      "outputs": [
        {
          "output_type": "stream",
          "name": "stdout",
          "text": [
            "6\n",
            "2.449489742783178\n"
          ]
        }
      ]
    },
    {
      "cell_type": "markdown",
      "metadata": {
        "id": "narrow-efficiency"
      },
      "source": [
        "## User defined functions"
      ]
    },
    {
      "cell_type": "code",
      "metadata": {
        "id": "radio-bride"
      },
      "source": [
        "def square():\n",
        "    \"\"\"\n",
        "    ini dokumentasi\n",
        "    pangkat 2 dari bilangan 5\n",
        "    \"\"\"\n",
        "    new_value = 5 ** 2\n",
        "    print(new_value)"
      ],
      "execution_count": null,
      "outputs": []
    },
    {
      "cell_type": "code",
      "metadata": {
        "id": "I-V7h-x6AJQz",
        "colab": {
          "base_uri": "https://localhost:8080/"
        },
        "outputId": "51dbd960-3ada-4100-d18e-2f0f985904dc"
      },
      "source": [
        "square()"
      ],
      "execution_count": null,
      "outputs": [
        {
          "output_type": "stream",
          "name": "stdout",
          "text": [
            "25\n"
          ]
        }
      ]
    },
    {
      "cell_type": "markdown",
      "metadata": {
        "id": "dietary-boating"
      },
      "source": [
        "## Without parameter"
      ]
    },
    {
      "cell_type": "code",
      "metadata": {
        "id": "racial-leone",
        "colab": {
          "base_uri": "https://localhost:8080/"
        },
        "outputId": "9c391c44-af22-471a-c972-06eeb7aacb44"
      },
      "source": [
        "# Define the function shout\n",
        "def shout():\n",
        "    \"\"\"Print a string with three exclamation marks\"\"\"\n",
        "    # Concatenate the strings: shout_word\n",
        "    shout_word = 'congratulations' + '!!!'\n",
        "\n",
        "    # Print shout_word\n",
        "    print(shout_word)\n",
        "\n",
        "# Call shout\n",
        "shout()"
      ],
      "execution_count": null,
      "outputs": [
        {
          "output_type": "stream",
          "name": "stdout",
          "text": [
            "congratulations!!!\n"
          ]
        }
      ]
    },
    {
      "cell_type": "code",
      "metadata": {
        "id": "mature-smile",
        "colab": {
          "base_uri": "https://localhost:8080/",
          "height": 168
        },
        "outputId": "b297cfcd-8ca6-472c-a7d0-6418110d887e"
      },
      "source": [
        "shout(\"Keren\")"
      ],
      "execution_count": null,
      "outputs": [
        {
          "output_type": "error",
          "ename": "TypeError",
          "evalue": "ignored",
          "traceback": [
            "\u001b[0;31m---------------------------------------------------------------------------\u001b[0m",
            "\u001b[0;31mTypeError\u001b[0m                                 Traceback (most recent call last)",
            "\u001b[0;32m<ipython-input-98-3d30ba0ddf3a>\u001b[0m in \u001b[0;36m<module>\u001b[0;34m()\u001b[0m\n\u001b[0;32m----> 1\u001b[0;31m \u001b[0mshout\u001b[0m\u001b[0;34m(\u001b[0m\u001b[0;34m\"Keren\"\u001b[0m\u001b[0;34m)\u001b[0m\u001b[0;34m\u001b[0m\u001b[0;34m\u001b[0m\u001b[0m\n\u001b[0m",
            "\u001b[0;31mTypeError\u001b[0m: shout() takes 0 positional arguments but 1 was given"
          ]
        }
      ]
    },
    {
      "cell_type": "markdown",
      "metadata": {
        "id": "northern-provision"
      },
      "source": [
        "## With parameter"
      ]
    },
    {
      "cell_type": "code",
      "metadata": {
        "id": "pending-livestock",
        "colab": {
          "base_uri": "https://localhost:8080/"
        },
        "outputId": "e1e1f026-ac19-4f86-88d4-49a7e30d96b2"
      },
      "source": [
        "# Define shout with the parameter, word\n",
        "def shout(word):\n",
        "    \"\"\"Print a string with three exclamation marks\"\"\"\n",
        "    # Concatenate the strings: shout_word\n",
        "    shout_word = word + '!!!'\n",
        "\n",
        "    # Print shout_word\n",
        "    print(shout_word)\n",
        "\n",
        "# Call shout with the string 'congratulations'\n",
        "shout('selamat')"
      ],
      "execution_count": null,
      "outputs": [
        {
          "output_type": "stream",
          "name": "stdout",
          "text": [
            "selamat!!!\n"
          ]
        }
      ]
    },
    {
      "cell_type": "code",
      "metadata": {
        "id": "immediate-bikini",
        "colab": {
          "base_uri": "https://localhost:8080/"
        },
        "outputId": "e0b24bf0-fd84-4f3c-8bea-a598b807e894"
      },
      "source": [
        "shout(\"OK\")"
      ],
      "execution_count": null,
      "outputs": [
        {
          "output_type": "stream",
          "name": "stdout",
          "text": [
            "OK!!!\n"
          ]
        }
      ]
    },
    {
      "cell_type": "markdown",
      "metadata": {
        "id": "narrative-anxiety"
      },
      "source": [
        "## Functions that return a single variable"
      ]
    },
    {
      "cell_type": "code",
      "metadata": {
        "id": "premier-momentum"
      },
      "source": [
        "# Define shout with the parameter, word\n",
        "def shout(word):\n",
        "    \"\"\"Return a string with three exclamation marks\"\"\"\n",
        "    # Concatenate the strings: shout_word\n",
        "    shout_word = word + '!!!'\n",
        "\n",
        "    # Replace print with return\n",
        "    return shout_word"
      ],
      "execution_count": null,
      "outputs": []
    },
    {
      "cell_type": "code",
      "metadata": {
        "id": "sporting-settlement",
        "colab": {
          "base_uri": "https://localhost:8080/"
        },
        "outputId": "dd4ebf55-1d35-467a-f973-c9403c4ff154"
      },
      "source": [
        "# Pass 'congratulations' to shout: yell\n",
        "yell = shout('congratulations')\n",
        "\n",
        "# Print yell\n",
        "print(yell)"
      ],
      "execution_count": null,
      "outputs": [
        {
          "output_type": "stream",
          "name": "stdout",
          "text": [
            "congratulations!!!\n"
          ]
        }
      ]
    },
    {
      "cell_type": "markdown",
      "metadata": {
        "id": "other-revolution"
      },
      "source": [
        "## Multiple variable"
      ]
    },
    {
      "cell_type": "code",
      "metadata": {
        "id": "sharp-overhead"
      },
      "source": [
        "# Define shout with parameters word1 and word2\n",
        "def shout(word1, word2):\n",
        "    \"\"\"Concatenate strings with three exclamation marks\"\"\"\n",
        "    # Concatenate word1 with '!!!': shout1\n",
        "    shout1 = word1 + '!!!'\n",
        "    \n",
        "    # Concatenate word2 with '!!!': shout2\n",
        "    shout2 = word2 + '!!!'\n",
        "    \n",
        "    # Concatenate shout1 with shout2: new_shout\n",
        "    new_shout = shout1 + shout2\n",
        "\n",
        "    # Return new_shout\n",
        "    return new_shout"
      ],
      "execution_count": null,
      "outputs": []
    },
    {
      "cell_type": "code",
      "metadata": {
        "id": "social-genesis",
        "colab": {
          "base_uri": "https://localhost:8080/"
        },
        "outputId": "916d2d7d-32d6-4248-80da-cdfae100182c"
      },
      "source": [
        "# Pass 'congratulations' and 'you' to shout: yell\n",
        "yell = shout('hello','world')\n",
        "\n",
        "# Print yell\n",
        "print(yell)"
      ],
      "execution_count": null,
      "outputs": [
        {
          "output_type": "stream",
          "name": "stdout",
          "text": [
            "hello!!!world!!!\n"
          ]
        }
      ]
    },
    {
      "cell_type": "code",
      "source": [
        "def raise_both(value1, value2):\n",
        "  new_value1 = value1 ** 2\n",
        "  new_value2 = value2 ** 2\n",
        "\n",
        "  all_values = (new_value1,new_value2)\n",
        "  return all_values"
      ],
      "metadata": {
        "id": "SxPevHVmZEk6"
      },
      "execution_count": null,
      "outputs": []
    },
    {
      "cell_type": "code",
      "source": [
        "raise_both(2,3)"
      ],
      "metadata": {
        "colab": {
          "base_uri": "https://localhost:8080/"
        },
        "id": "zLOcHxRZZTgp",
        "outputId": "28c01835-66a0-49d9-a294-5757f3fb1ab1"
      },
      "execution_count": null,
      "outputs": [
        {
          "output_type": "execute_result",
          "data": {
            "text/plain": [
              "(4, 9)"
            ]
          },
          "metadata": {},
          "execution_count": 111
        }
      ]
    },
    {
      "cell_type": "markdown",
      "source": [
        "## ***Global Variable vs Local Variable***"
      ],
      "metadata": {
        "id": "g3AATKQ-7OjX"
      }
    },
    {
      "cell_type": "markdown",
      "source": [
        "*local variable* tidak bisa di akses dari luar function\n",
        "\n",
        "*global variable* bisa diakses dari dalam function, tapi tidak bisa di manipulasi (diubah) "
      ],
      "metadata": {
        "id": "RELUiZyj7edy"
      }
    },
    {
      "cell_type": "code",
      "source": [
        "a = 1\n",
        "b = 11\n",
        "\n",
        "def print_var():\n",
        "  \"\"\"this function will print a variable\"\"\"\n",
        "\n",
        "  a = 2\n",
        "  # b = b + 4\n",
        "  # c = b\n",
        "\n",
        "  print(f'[inside function] local variable a: {a}')\n",
        "  print(f'[inside function] global variable b: {b}')"
      ],
      "metadata": {
        "id": "h_WIMbXC7BK3"
      },
      "execution_count": null,
      "outputs": []
    },
    {
      "cell_type": "code",
      "source": [
        "print_var()\n",
        "\n",
        "print(f'global variable a: {a}')"
      ],
      "metadata": {
        "colab": {
          "base_uri": "https://localhost:8080/"
        },
        "id": "8uCue18w7iu_",
        "outputId": "b5995308-9812-4b30-c302-582bdad7a9bb"
      },
      "execution_count": null,
      "outputs": [
        {
          "output_type": "stream",
          "name": "stdout",
          "text": [
            "[inside function] local variable a: 2\n",
            "[inside function] global variable b: 11\n",
            "global variable a: 1\n"
          ]
        }
      ]
    },
    {
      "cell_type": "markdown",
      "source": [
        "**gunakan** `global <variable_name>` jika ingin mengakses *global variable* dari dalam function"
      ],
      "metadata": {
        "id": "odoxIFIV7nIB"
      }
    },
    {
      "cell_type": "code",
      "source": [
        "a = 1\n",
        "\n",
        "def print_var():\n",
        "  \"\"\"this function will print a variable\"\"\"\n",
        "\n",
        "  global a\n",
        "  a = 2\n",
        "  \n",
        "  print(f'[inside function] local variable a: {a}')"
      ],
      "metadata": {
        "id": "t9RarKXh7kE8"
      },
      "execution_count": null,
      "outputs": []
    },
    {
      "cell_type": "code",
      "source": [
        "print_var()\n",
        "\n",
        "print(f'global variable a: {a}')"
      ],
      "metadata": {
        "colab": {
          "base_uri": "https://localhost:8080/"
        },
        "id": "c31tza_B7oq1",
        "outputId": "8c873fc8-4a1b-4157-b94b-a2ae6503ba47"
      },
      "execution_count": null,
      "outputs": [
        {
          "output_type": "stream",
          "name": "stdout",
          "text": [
            "[inside function] local variable a: 2\n",
            "global variable a: 2\n"
          ]
        }
      ]
    },
    {
      "cell_type": "markdown",
      "source": [
        "## ***Arguments & Keyword Arguments***"
      ],
      "metadata": {
        "id": "HEa798th7sUT"
      }
    },
    {
      "cell_type": "code",
      "source": [
        "def hello_func(nama, umur):\n",
        "  \"\"\"return string hello with args `nama` & `umur`\"\"\"\n",
        "\n",
        "  return f'hello {nama}, berumur {umur}'"
      ],
      "metadata": {
        "id": "a9zjqxlh7p_d"
      },
      "execution_count": null,
      "outputs": []
    },
    {
      "cell_type": "markdown",
      "source": [
        "*function call* **tanpa keyword**, argument harus terurut sesuai saat *function declaration*"
      ],
      "metadata": {
        "id": "oLPvWs4x7zhb"
      }
    },
    {
      "cell_type": "code",
      "source": [
        "result = hello_func('budi', 28)\n",
        "print(result)"
      ],
      "metadata": {
        "colab": {
          "base_uri": "https://localhost:8080/"
        },
        "id": "3TVt4i1x7xkT",
        "outputId": "6761495a-e3b4-47af-eac4-7a77f82a5fc9"
      },
      "execution_count": null,
      "outputs": [
        {
          "output_type": "stream",
          "name": "stdout",
          "text": [
            "hello budi, berumur 28\n"
          ]
        }
      ]
    },
    {
      "cell_type": "markdown",
      "source": [
        "*function call* **dgn keyword**"
      ],
      "metadata": {
        "id": "dz-WawMt73uA"
      }
    },
    {
      "cell_type": "code",
      "source": [
        "result = hello_func(umur=28, nama='budi')\n",
        "print(result)"
      ],
      "metadata": {
        "colab": {
          "base_uri": "https://localhost:8080/"
        },
        "id": "krZveqQe71m-",
        "outputId": "1e32752e-ea2b-4862-dae8-e31025600202"
      },
      "execution_count": null,
      "outputs": [
        {
          "output_type": "stream",
          "name": "stdout",
          "text": [
            "hello budi, berumur 28\n"
          ]
        }
      ]
    },
    {
      "cell_type": "markdown",
      "source": [
        "## ***Function with Default Value***"
      ],
      "metadata": {
        "id": "ghQTGGRg8HTS"
      }
    },
    {
      "cell_type": "markdown",
      "source": [
        "**by** default, `perkalian_pangkat` selalu melakukan perkalian pangkat 2"
      ],
      "metadata": {
        "id": "M-u3-WhE8LkQ"
      }
    },
    {
      "cell_type": "code",
      "source": [
        "def perkalian_pangkat(angka=4, pangkat=2):\n",
        "  \"\"\"return `angka` dipangkatkan dengan `pangkat`\"\"\"\n",
        "\n",
        "  return angka ** pangkat"
      ],
      "metadata": {
        "id": "6Ol8g3nj73PM"
      },
      "execution_count": null,
      "outputs": []
    },
    {
      "cell_type": "code",
      "source": [
        "perkalian_pangkat(6)"
      ],
      "metadata": {
        "colab": {
          "base_uri": "https://localhost:8080/"
        },
        "id": "N8aHVFId8NRq",
        "outputId": "200cfa2d-7835-4377-ee48-e15e5e10bb1d"
      },
      "execution_count": null,
      "outputs": [
        {
          "output_type": "execute_result",
          "data": {
            "text/plain": [
              "36"
            ]
          },
          "metadata": {},
          "execution_count": 123
        }
      ]
    },
    {
      "cell_type": "markdown",
      "source": [
        "argument `pangkat` juga bisa di isi dgn angka selain 2"
      ],
      "metadata": {
        "id": "Cbna3Bzu8QK2"
      }
    },
    {
      "cell_type": "code",
      "source": [
        "perkalian_pangkat(3, 4)"
      ],
      "metadata": {
        "colab": {
          "base_uri": "https://localhost:8080/"
        },
        "id": "Osr2tTTi8Ode",
        "outputId": "9f86f2a4-3b9d-4617-e856-f7f0516916a0"
      },
      "execution_count": null,
      "outputs": [
        {
          "output_type": "execute_result",
          "data": {
            "text/plain": [
              "81"
            ]
          },
          "metadata": {},
          "execution_count": 120
        }
      ]
    },
    {
      "cell_type": "markdown",
      "source": [
        "## ***Function with Multiple Arguments***"
      ],
      "metadata": {
        "id": "eDRQuSqq8Vk2"
      }
    },
    {
      "cell_type": "markdown",
      "source": [
        "### *Multiple Args Example*"
      ],
      "metadata": {
        "id": "EKkhM-Ac8e7h"
      }
    },
    {
      "cell_type": "code",
      "source": [
        "def print_multi_args(*args):\n",
        "  \"\"\"print multiple args\"\"\"\n",
        "  \n",
        "  print(type(args))\n",
        "  for arg in args:\n",
        "    print(arg)"
      ],
      "metadata": {
        "id": "A2l8Mbye8PlT"
      },
      "execution_count": null,
      "outputs": []
    },
    {
      "cell_type": "code",
      "source": [
        "print_multi_args(1,2,3,4,6,7,8,9)"
      ],
      "metadata": {
        "colab": {
          "base_uri": "https://localhost:8080/"
        },
        "id": "bmBWgaVA8YCz",
        "outputId": "48a08438-3122-41de-8f7e-ec51e8545a87"
      },
      "execution_count": null,
      "outputs": [
        {
          "output_type": "stream",
          "name": "stdout",
          "text": [
            "<class 'tuple'>\n",
            "1\n",
            "2\n",
            "3\n",
            "4\n",
            "6\n",
            "7\n",
            "8\n",
            "9\n"
          ]
        }
      ]
    },
    {
      "cell_type": "code",
      "source": [
        "def add_all(*args):\n",
        "  sum_all = 0\n",
        "  for num in args:\n",
        "    sum_all += num\n",
        "  \n",
        "  return sum_all"
      ],
      "metadata": {
        "id": "uf4GE5zObkDA"
      },
      "execution_count": null,
      "outputs": []
    },
    {
      "cell_type": "code",
      "source": [
        "add_all(1,2,3,4,5,6)"
      ],
      "metadata": {
        "colab": {
          "base_uri": "https://localhost:8080/"
        },
        "id": "oOkYI5YtbwTV",
        "outputId": "96f4b2d3-1699-486d-a58b-c5fed7676328"
      },
      "execution_count": null,
      "outputs": [
        {
          "output_type": "execute_result",
          "data": {
            "text/plain": [
              "21"
            ]
          },
          "metadata": {},
          "execution_count": 133
        }
      ]
    },
    {
      "cell_type": "markdown",
      "source": [
        "### *Multiple Key Args Example*"
      ],
      "metadata": {
        "id": "I-GOjBJU8bN-"
      }
    },
    {
      "cell_type": "code",
      "source": [
        "def print_multi_key_args(**kwargs):\n",
        "  \"\"\"print multiple keyword args\"\"\"\n",
        "  \n",
        "  print(type(kwargs))\n",
        "  for key, value in kwargs.items():\n",
        "    print(f'{key}: {value}')"
      ],
      "metadata": {
        "id": "55IJdlBk8ZQN"
      },
      "execution_count": null,
      "outputs": []
    },
    {
      "cell_type": "code",
      "source": [
        "print_multi_key_args(nama='budi', umur=23, sudah_menikah=False)"
      ],
      "metadata": {
        "colab": {
          "base_uri": "https://localhost:8080/"
        },
        "id": "LNVEf_Xl8aru",
        "outputId": "b0f08e8e-9357-4b8d-d48a-3dff19324f95"
      },
      "execution_count": null,
      "outputs": [
        {
          "output_type": "stream",
          "name": "stdout",
          "text": [
            "<class 'dict'>\n",
            "nama: budi\n",
            "umur: 23\n",
            "sudah_menikah: False\n"
          ]
        }
      ]
    },
    {
      "cell_type": "markdown",
      "source": [
        "## ***Map Function***"
      ],
      "metadata": {
        "id": "C7dPbKgQ8n3J"
      }
    },
    {
      "cell_type": "markdown",
      "source": [
        "Contoh dgn ***regular function***"
      ],
      "metadata": {
        "id": "aFMueIWY813d"
      }
    },
    {
      "cell_type": "code",
      "source": [
        "def pangkat_kuadrat_regular(nums):\n",
        "  \"\"\"return setiap angka pada nums di pangkat 2\"\"\"\n",
        "\n",
        "  result = []\n",
        "  for num in nums:\n",
        "    result.append(num ** 2)\n",
        "\n",
        "  return result"
      ],
      "metadata": {
        "id": "IknWvPIW8jjM"
      },
      "execution_count": null,
      "outputs": []
    },
    {
      "cell_type": "code",
      "source": [
        "ls = [1,2,3,4,5,6,7]\n",
        "\n",
        "result = pangkat_kuadrat_regular(ls)\n",
        "\n",
        "print(result)"
      ],
      "metadata": {
        "colab": {
          "base_uri": "https://localhost:8080/"
        },
        "id": "XG7cyn2x83ky",
        "outputId": "2f65677f-2b60-4932-b26a-bea84fcf75c9"
      },
      "execution_count": null,
      "outputs": [
        {
          "output_type": "stream",
          "name": "stdout",
          "text": [
            "[1, 4, 9, 16, 25, 36, 49]\n"
          ]
        }
      ]
    },
    {
      "cell_type": "markdown",
      "source": [
        "Contoh dgn ***map function***"
      ],
      "metadata": {
        "id": "Z-rsEZUn886l"
      }
    },
    {
      "cell_type": "code",
      "source": [
        "def pangkat_kuadrat_map(num):\n",
        "  \"\"\"return num di pangkat 2\"\"\"\n",
        "\n",
        "  return num ** 2"
      ],
      "metadata": {
        "id": "Hi9SHacm843E"
      },
      "execution_count": null,
      "outputs": []
    },
    {
      "cell_type": "code",
      "source": [
        "ls = [1,2,3,4,5,6,7]\n",
        "\n",
        "result = list(map(pangkat_kuadrat_map, ls))\n",
        "\n",
        "print(result)"
      ],
      "metadata": {
        "colab": {
          "base_uri": "https://localhost:8080/"
        },
        "id": "wCbTYoWi8-PU",
        "outputId": "83140a9e-b8c3-4fcb-fa20-ad3074da5a30"
      },
      "execution_count": null,
      "outputs": [
        {
          "output_type": "stream",
          "name": "stdout",
          "text": [
            "[1, 4, 9, 16, 25, 36, 49]\n"
          ]
        }
      ]
    },
    {
      "cell_type": "code",
      "source": [
        "list_dups = [1,2,1,3,3,3,4,5,6]"
      ],
      "metadata": {
        "id": "XiIqhz75dy6V"
      },
      "execution_count": null,
      "outputs": []
    },
    {
      "cell_type": "code",
      "source": [
        "list(set(list_dups))"
      ],
      "metadata": {
        "colab": {
          "base_uri": "https://localhost:8080/"
        },
        "id": "_RqYP3TFd-l7",
        "outputId": "5974dbc2-af56-4218-8d19-2380a9b021a3"
      },
      "execution_count": null,
      "outputs": [
        {
          "output_type": "execute_result",
          "data": {
            "text/plain": [
              "[1, 2, 3, 4, 5, 6]"
            ]
          },
          "metadata": {},
          "execution_count": 141
        }
      ]
    },
    {
      "cell_type": "markdown",
      "source": [
        "## ***Filter Function***"
      ],
      "metadata": {
        "id": "AvCJ2eHr9Fy5"
      }
    },
    {
      "cell_type": "markdown",
      "source": [
        "Contoh dgn ***regular function***"
      ],
      "metadata": {
        "id": "Hb_h_zUY9Q9P"
      }
    },
    {
      "cell_type": "code",
      "source": [
        "def find_odd_number_regular(nums):\n",
        "  \"\"\"loop over `nums` and return only the odd numbers\"\"\"\n",
        "\n",
        "  result = []\n",
        "  for num in nums:\n",
        "    if num % 2 == 0:\n",
        "      result.append(num)\n",
        "\n",
        "  return result"
      ],
      "metadata": {
        "id": "-qAWh08F8_g-"
      },
      "execution_count": null,
      "outputs": []
    },
    {
      "cell_type": "code",
      "source": [
        "ls = [1,2,3,4,5,6,7]\n",
        "\n",
        "result = find_odd_number_regular(ls)\n",
        "print(result)"
      ],
      "metadata": {
        "colab": {
          "base_uri": "https://localhost:8080/"
        },
        "id": "EhAeA7Q89I2m",
        "outputId": "73234ed8-f21d-469e-bf70-07f146d3ba70"
      },
      "execution_count": null,
      "outputs": [
        {
          "output_type": "stream",
          "name": "stdout",
          "text": [
            "[2, 4, 6]\n"
          ]
        }
      ]
    },
    {
      "cell_type": "markdown",
      "source": [
        "Contoh dgn ***filter function***"
      ],
      "metadata": {
        "id": "HsAAkkZJ9R4t"
      }
    },
    {
      "cell_type": "code",
      "source": [
        "def find_odd_number_filter(num):\n",
        "  \"\"\"return if num is odd number\"\"\"\n",
        "\n",
        "  if num % 2 == 0:\n",
        "    return True\n",
        "  else:\n",
        "    return False"
      ],
      "metadata": {
        "id": "5t7Qe4tI9OMx"
      },
      "execution_count": null,
      "outputs": []
    },
    {
      "cell_type": "code",
      "source": [
        "def find_odd_number_filter(num):\n",
        "  \"\"\"return if num is odd number\"\"\"\n",
        "\n",
        "  return num % 2 == 0"
      ],
      "metadata": {
        "id": "J9qtbGn49Ull"
      },
      "execution_count": null,
      "outputs": []
    },
    {
      "cell_type": "code",
      "source": [
        "ls = [1,2,3,4,5,6,7]\n",
        "\n",
        "result = list(filter(find_odd_number_filter, ls))\n",
        "print(result)"
      ],
      "metadata": {
        "colab": {
          "base_uri": "https://localhost:8080/"
        },
        "id": "tjg5sk5Q9VnR",
        "outputId": "1f33d604-21e4-4b16-e074-ea5bca1c89c5"
      },
      "execution_count": null,
      "outputs": [
        {
          "output_type": "stream",
          "name": "stdout",
          "text": [
            "[2, 4, 6]\n"
          ]
        }
      ]
    },
    {
      "cell_type": "markdown",
      "source": [
        "Contoh dgn ***regular function***"
      ],
      "metadata": {
        "id": "hlUK4wtG9hj_"
      }
    },
    {
      "cell_type": "code",
      "source": [
        "def contain_words_regular(words):\n",
        "  \"\"\"loop over `words` and return if it contains `selatan`\"\"\"\n",
        "\n",
        "  result = []\n",
        "  for word in words:\n",
        "    if 'selatan' in word:\n",
        "      result.append(word)\n",
        "\n",
        "  return result"
      ],
      "metadata": {
        "id": "jjpA6vOs9mlC"
      },
      "execution_count": null,
      "outputs": []
    },
    {
      "cell_type": "code",
      "source": [
        "strings = ['rumahku bertempat di utara', 'rumahmu aku tidak tahu', 'sedangkan rumah dia di selatan']\n",
        "\n",
        "result = contain_words_regular(strings)\n",
        "print(result)"
      ],
      "metadata": {
        "colab": {
          "base_uri": "https://localhost:8080/"
        },
        "id": "OGQdrFem9qTh",
        "outputId": "0e483dd2-645c-4631-9ca6-3ca4b835080f"
      },
      "execution_count": null,
      "outputs": [
        {
          "output_type": "stream",
          "name": "stdout",
          "text": [
            "['sedangkan rumah dia di selatan']\n"
          ]
        }
      ]
    },
    {
      "cell_type": "markdown",
      "source": [
        "Contoh dgn ***filter function***"
      ],
      "metadata": {
        "id": "ZgdkriVG9jLi"
      }
    },
    {
      "cell_type": "code",
      "source": [
        "def contain_words_filter(word):\n",
        "  \"\"\"return if `word` contains the `selatan`\"\"\"\n",
        "\n",
        "  return 'selatan' in word"
      ],
      "metadata": {
        "id": "BydvF0BT9WpE"
      },
      "execution_count": null,
      "outputs": []
    },
    {
      "cell_type": "code",
      "source": [
        "strings = ['rumahku bertempat di utara', 'rumahmu aku tidak tahu', 'sedangkan rumah dia di selatan']\n",
        "\n",
        "result = list(filter(contain_words_filter, strings))\n",
        "print(result)"
      ],
      "metadata": {
        "colab": {
          "base_uri": "https://localhost:8080/"
        },
        "id": "qfFd6jdq9sNi",
        "outputId": "b10baa09-ecb7-48ff-cf5e-417034f01134"
      },
      "execution_count": null,
      "outputs": [
        {
          "output_type": "stream",
          "name": "stdout",
          "text": [
            "['sedangkan rumah dia di selatan']\n"
          ]
        }
      ]
    },
    {
      "cell_type": "markdown",
      "source": [
        "#Lambda Function"
      ],
      "metadata": {
        "id": "L0bPWBwtfexU"
      }
    },
    {
      "cell_type": "code",
      "source": [
        "result = lambda x: x ** 2"
      ],
      "metadata": {
        "id": "X3xbhGOL9tWn"
      },
      "execution_count": null,
      "outputs": []
    },
    {
      "cell_type": "code",
      "source": [
        "result(3)"
      ],
      "metadata": {
        "colab": {
          "base_uri": "https://localhost:8080/"
        },
        "id": "IWHJkefZfxGW",
        "outputId": "3135afec-dbb2-4771-fea4-251def4463c8"
      },
      "execution_count": null,
      "outputs": [
        {
          "output_type": "execute_result",
          "data": {
            "text/plain": [
              "9"
            ]
          },
          "metadata": {},
          "execution_count": 151
        }
      ]
    },
    {
      "cell_type": "code",
      "source": [
        "num = [1,2,3,4,5]\n",
        "list(map(result, num))"
      ],
      "metadata": {
        "colab": {
          "base_uri": "https://localhost:8080/"
        },
        "id": "zdxQpYZGf4KP",
        "outputId": "481f8428-194b-4f86-b411-9f0249effb8d"
      },
      "execution_count": null,
      "outputs": [
        {
          "output_type": "execute_result",
          "data": {
            "text/plain": [
              "[1, 4, 9, 16, 25]"
            ]
          },
          "metadata": {},
          "execution_count": 156
        }
      ]
    },
    {
      "cell_type": "code",
      "source": [],
      "metadata": {
        "id": "LJBPI6OdgduP"
      },
      "execution_count": null,
      "outputs": []
    },
    {
      "cell_type": "markdown",
      "source": [
        "# Exception"
      ],
      "metadata": {
        "id": "ls9il_RIhCzD"
      }
    },
    {
      "cell_type": "code",
      "source": [
        "y = 2\n",
        "def sqrt(x, y):\n",
        "  try:\n",
        "    return x ** y\n",
        "  except:\n",
        "    print(\"Harus integer atau float\")\n"
      ],
      "metadata": {
        "id": "QDZL_mUUhEHr"
      },
      "execution_count": null,
      "outputs": []
    },
    {
      "cell_type": "code",
      "source": [
        "sqrt(2, y)"
      ],
      "metadata": {
        "colab": {
          "base_uri": "https://localhost:8080/"
        },
        "id": "IArRTy8JhZwQ",
        "outputId": "f8935bd0-18cc-4e1c-bd2c-9eb0bb6a96e3"
      },
      "execution_count": null,
      "outputs": [
        {
          "output_type": "execute_result",
          "data": {
            "text/plain": [
              "4"
            ]
          },
          "metadata": {},
          "execution_count": 167
        }
      ]
    },
    {
      "cell_type": "code",
      "source": [
        "max() min() append()"
      ],
      "metadata": {
        "id": "3efc_VjmkPyD"
      },
      "execution_count": null,
      "outputs": []
    },
    {
      "cell_type": "code",
      "source": [
        "def sqrt(x):\n",
        "    return x ** 3"
      ],
      "metadata": {
        "id": "E2rbkRFaha73"
      },
      "execution_count": null,
      "outputs": []
    },
    {
      "cell_type": "code",
      "source": [
        "sqrt('w')"
      ],
      "metadata": {
        "colab": {
          "base_uri": "https://localhost:8080/",
          "height": 240
        },
        "id": "3eA2nJWOhjvP",
        "outputId": "6b0542e2-1624-4cb4-94a0-2fb491940174"
      },
      "execution_count": null,
      "outputs": [
        {
          "output_type": "error",
          "ename": "TypeError",
          "evalue": "ignored",
          "traceback": [
            "\u001b[0;31m---------------------------------------------------------------------------\u001b[0m",
            "\u001b[0;31mTypeError\u001b[0m                                 Traceback (most recent call last)",
            "\u001b[0;32m<ipython-input-164-15724ca84bd1>\u001b[0m in \u001b[0;36m<module>\u001b[0;34m()\u001b[0m\n\u001b[0;32m----> 1\u001b[0;31m \u001b[0msqrt\u001b[0m\u001b[0;34m(\u001b[0m\u001b[0;34m'w'\u001b[0m\u001b[0;34m)\u001b[0m\u001b[0;34m\u001b[0m\u001b[0;34m\u001b[0m\u001b[0m\n\u001b[0m",
            "\u001b[0;32m<ipython-input-163-cf089c681936>\u001b[0m in \u001b[0;36msqrt\u001b[0;34m(x)\u001b[0m\n\u001b[1;32m      1\u001b[0m \u001b[0;32mdef\u001b[0m \u001b[0msqrt\u001b[0m\u001b[0;34m(\u001b[0m\u001b[0mx\u001b[0m\u001b[0;34m)\u001b[0m\u001b[0;34m:\u001b[0m\u001b[0;34m\u001b[0m\u001b[0;34m\u001b[0m\u001b[0m\n\u001b[0;32m----> 2\u001b[0;31m     \u001b[0;32mreturn\u001b[0m \u001b[0mx\u001b[0m \u001b[0;34m**\u001b[0m \u001b[0;36m3\u001b[0m\u001b[0;34m\u001b[0m\u001b[0;34m\u001b[0m\u001b[0m\n\u001b[0m",
            "\u001b[0;31mTypeError\u001b[0m: unsupported operand type(s) for ** or pow(): 'str' and 'int'"
          ]
        }
      ]
    },
    {
      "cell_type": "code",
      "source": [],
      "metadata": {
        "id": "3uQ4tyWxhkrL"
      },
      "execution_count": null,
      "outputs": []
    }
  ]
}