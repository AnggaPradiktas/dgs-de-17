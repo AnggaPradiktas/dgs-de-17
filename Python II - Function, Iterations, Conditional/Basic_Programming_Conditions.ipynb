{
  "nbformat": 4,
  "nbformat_minor": 0,
  "metadata": {
    "colab": {
      "provenance": [],
      "collapsed_sections": [
        "51UXFqUJfuwq"
      ],
      "toc_visible": true,
      "include_colab_link": true
    },
    "kernelspec": {
      "name": "python3",
      "display_name": "Python 3"
    },
    "language_info": {
      "name": "python"
    }
  },
  "cells": [
    {
      "cell_type": "markdown",
      "metadata": {
        "id": "view-in-github",
        "colab_type": "text"
      },
      "source": [
        "<a href=\"https://colab.research.google.com/github/AnggaPradiktas/tutorials/blob/main/Basic_Programming_Conditions.ipynb\" target=\"_parent\"><img src=\"https://colab.research.google.com/assets/colab-badge.svg\" alt=\"Open In Colab\"/></a>"
      ]
    },
    {
      "cell_type": "markdown",
      "metadata": {
        "id": "-mHhXkP1Bo73"
      },
      "source": [
        "# Basic Programming I: Conditions"
      ]
    },
    {
      "cell_type": "markdown",
      "metadata": {
        "id": "pfVxHJswDYb0"
      },
      "source": [
        "Control Flow"
      ]
    },
    {
      "cell_type": "code",
      "metadata": {
        "colab": {
          "base_uri": "https://localhost:8080/"
        },
        "id": "QQQAs05vDRAU",
        "outputId": "083c34cc-f1aa-4894-b2dd-682f9ed0eeb4"
      },
      "source": [
        "# Sequential\n",
        "a=20\n",
        "b=15\n",
        "c=a*b\n",
        "print(\"a*b =\",c)"
      ],
      "execution_count": null,
      "outputs": [
        {
          "output_type": "stream",
          "name": "stdout",
          "text": [
            "a*b = 300\n"
          ]
        }
      ]
    },
    {
      "cell_type": "code",
      "metadata": {
        "colab": {
          "base_uri": "https://localhost:8080/"
        },
        "id": "ytnYHuN0DTTn",
        "outputId": "87963dac-6bda-41dc-cd3c-d9723f72a18f"
      },
      "source": [
        "# Conditional\n",
        "a = 5\n",
        "b = 5\n",
        "if a > b: #akan jadi False\n",
        "   print(\"a is bigger than b\")\n",
        "elif a == b:\n",
        "   print(\"a sama dengan b\")\n",
        "else:\n",
        "   print(\"a is smaller than b\")\n",
        "print(\"Done\")"
      ],
      "execution_count": null,
      "outputs": [
        {
          "output_type": "stream",
          "name": "stdout",
          "text": [
            "a sama dengan b\n",
            "Done\n"
          ]
        }
      ]
    },
    {
      "cell_type": "markdown",
      "metadata": {
        "id": "BDKJlZrhDEue"
      },
      "source": [
        "## IF statement"
      ]
    },
    {
      "cell_type": "markdown",
      "metadata": {
        "id": "7adQ6D0HDdix"
      },
      "source": [
        "Single Condition"
      ]
    },
    {
      "cell_type": "code",
      "metadata": {
        "colab": {
          "base_uri": "https://localhost:8080/"
        },
        "id": "Ry5vFetE7jfs",
        "outputId": "f9285743-2af7-4135-d178-b1406d0d1ee2"
      },
      "source": [
        "a = 4\n",
        "if a == 1:\n",
        "  print(\"a is three\")\n",
        "print(\"Done\")"
      ],
      "execution_count": null,
      "outputs": [
        {
          "output_type": "stream",
          "name": "stdout",
          "text": [
            "Done\n"
          ]
        }
      ]
    },
    {
      "cell_type": "markdown",
      "metadata": {
        "id": "tkJidOMfDju9"
      },
      "source": [
        "Two Condition"
      ]
    },
    {
      "cell_type": "code",
      "metadata": {
        "colab": {
          "base_uri": "https://localhost:8080/"
        },
        "id": "QpCZyf1bDnX5",
        "outputId": "98b67a62-b76a-4f61-cdb3-878a13de1957"
      },
      "source": [
        "a = 5\n",
        "b = 5\n",
        "if a > b:\n",
        "   print(\"a is bigger than b\")\n",
        "else:\n",
        "   print(\"a is smaller than b\")\n",
        "print(\"Done\")"
      ],
      "execution_count": null,
      "outputs": [
        {
          "output_type": "stream",
          "name": "stdout",
          "text": [
            "a is smaller than b\n",
            "Done\n"
          ]
        }
      ]
    },
    {
      "cell_type": "markdown",
      "metadata": {
        "id": "Qh9dg_1mDlSv"
      },
      "source": [
        "Multiple Condition"
      ]
    },
    {
      "cell_type": "code",
      "metadata": {
        "colab": {
          "base_uri": "https://localhost:8080/"
        },
        "id": "rgeZHAbL9eip",
        "outputId": "805fbafa-d4cc-4227-a90a-de3afcfeebe4"
      },
      "source": [
        "a = 7\n",
        "b = 7\n",
        "if a > b:\n",
        "   print(\"a is bigger than b\")\n",
        "elif a == b:\n",
        "   print(\"a is sama dengan b\")\n",
        "else:\n",
        "   print(\"a and b is the different\")"
      ],
      "execution_count": null,
      "outputs": [
        {
          "output_type": "stream",
          "name": "stdout",
          "text": [
            "a is sama dengan b\n"
          ]
        }
      ]
    },
    {
      "cell_type": "code",
      "metadata": {
        "id": "vnpc44MKEf-Q",
        "colab": {
          "base_uri": "https://localhost:8080/"
        },
        "outputId": "076a9e43-f9fb-4759-c9bc-d101c6ae2eef"
      },
      "source": [
        "a = 2\n",
        "if a == 1:\n",
        "   print(\"a is 1\")\n",
        "elif a == 2:\n",
        "   print(\"a is 2\")\n",
        "elif a == 3:\n",
        "   print(\"a is 3\")\n",
        "elif a == 4:\n",
        "   print(\"a is 4\")\n",
        "elif a == 5:\n",
        "   print(\"a is 5\")\n",
        "else:\n",
        "   print(\"a is other than 1, 2, 3, 4, or 5\")"
      ],
      "execution_count": null,
      "outputs": [
        {
          "output_type": "stream",
          "name": "stdout",
          "text": [
            "a is 2\n"
          ]
        }
      ]
    },
    {
      "cell_type": "code",
      "metadata": {
        "colab": {
          "base_uri": "https://localhost:8080/"
        },
        "id": "WZsjNsh84_ZL",
        "outputId": "3e217603-f3dd-4916-a580-b7a1a055df5f"
      },
      "source": [
        "#sebuah kondisi yang menyatakan error\n",
        "a = True\n",
        "if a:\n",
        "  print(\"Success\")\n",
        "else:\n",
        "  print(\"Error\")"
      ],
      "execution_count": null,
      "outputs": [
        {
          "output_type": "stream",
          "name": "stdout",
          "text": [
            "Success\n"
          ]
        }
      ]
    },
    {
      "cell_type": "markdown",
      "metadata": {
        "id": "4Mh1aiPlD0O-"
      },
      "source": [
        "Single Expression"
      ]
    },
    {
      "cell_type": "code",
      "metadata": {
        "colab": {
          "base_uri": "https://localhost:8080/"
        },
        "id": "XMfcxOUXC9LH",
        "outputId": "ebb4b95e-bf41-4044-9ee0-a80d2e4addb6"
      },
      "source": [
        "a = 7\n",
        "b = 7\n",
        "if a <= b:\n",
        "   print(\"a is smaller or equal than b\")"
      ],
      "execution_count": null,
      "outputs": [
        {
          "output_type": "stream",
          "name": "stdout",
          "text": [
            "a is smaller or equal than b\n"
          ]
        }
      ]
    },
    {
      "cell_type": "markdown",
      "metadata": {
        "id": "2kPBzKnxD7DV"
      },
      "source": [
        "Multiple Expression"
      ]
    },
    {
      "cell_type": "code",
      "metadata": {
        "colab": {
          "base_uri": "https://localhost:8080/"
        },
        "id": "Vg6Qc4cSD9S6",
        "outputId": "53b22800-77bc-4dc8-e931-20894890017d"
      },
      "source": [
        "a = 3\n",
        "b = 7\n",
        "c = 20\n",
        "if c > b or c < a:\n",
        "  print(\"At least one of the expressions is True\")\n",
        "else:\n",
        "  print(\"All expressions is False\")"
      ],
      "execution_count": null,
      "outputs": [
        {
          "output_type": "stream",
          "name": "stdout",
          "text": [
            "At least one of the expressions is True\n"
          ]
        }
      ]
    },
    {
      "cell_type": "code",
      "metadata": {
        "colab": {
          "base_uri": "https://localhost:8080/"
        },
        "id": "iouInqsD5smu",
        "outputId": "03781884-8498-4560-8e6f-db9bbeb19b6e"
      },
      "source": [
        "a = 3\n",
        "b = 7\n",
        "c = 20\n",
        "if (a < b and b < c) or (a > c and a == b) or a == c:\n",
        "   print(\"a is smaller than b\")"
      ],
      "execution_count": null,
      "outputs": [
        {
          "output_type": "stream",
          "name": "stdout",
          "text": [
            "a is smaller than b\n"
          ]
        }
      ]
    },
    {
      "cell_type": "markdown",
      "metadata": {
        "id": "_U4ZtFqVEOMP"
      },
      "source": [
        "Shorthand"
      ]
    },
    {
      "cell_type": "code",
      "metadata": {
        "colab": {
          "base_uri": "https://localhost:8080/"
        },
        "id": "VZ5vu4fd7mE2",
        "outputId": "01306875-e972-4957-fef9-5a0ce71fd727"
      },
      "source": [
        "a = 3\n",
        "if a == 3:\n",
        "  print(\"a is three\")"
      ],
      "execution_count": null,
      "outputs": [
        {
          "output_type": "stream",
          "name": "stdout",
          "text": [
            "a is three\n"
          ]
        }
      ]
    },
    {
      "cell_type": "code",
      "metadata": {
        "colab": {
          "base_uri": "https://localhost:8080/"
        },
        "id": "8A9OKLt4D_Sn",
        "outputId": "9b86d8fa-ed62-4510-f926-cd1b516cce96"
      },
      "source": [
        "a = 3\n",
        "if a == 3: print(\"a is three\")"
      ],
      "execution_count": null,
      "outputs": [
        {
          "output_type": "stream",
          "name": "stdout",
          "text": [
            "a is three\n"
          ]
        }
      ]
    },
    {
      "cell_type": "code",
      "metadata": {
        "colab": {
          "base_uri": "https://localhost:8080/"
        },
        "id": "6yUJI5DE7rLM",
        "outputId": "a536ddda-d2cf-41b4-f363-09aeefbb9a9d"
      },
      "source": [
        "a = 5\n",
        "b = 5\n",
        "if a==b:\n",
        "  print(\"same\")\n",
        "else: \n",
        "  print(\"different\")"
      ],
      "execution_count": null,
      "outputs": [
        {
          "output_type": "stream",
          "name": "stdout",
          "text": [
            "same\n"
          ]
        }
      ]
    },
    {
      "cell_type": "code",
      "metadata": {
        "colab": {
          "base_uri": "https://localhost:8080/"
        },
        "id": "vnAs6TrIEUTk",
        "outputId": "d3fbda6f-4968-4842-d936-640d103588a9"
      },
      "source": [
        "a = 5\n",
        "b = 5\n",
        "print(\"same\") if a==b else print(\"different\")"
      ],
      "execution_count": null,
      "outputs": [
        {
          "output_type": "stream",
          "name": "stdout",
          "text": [
            "same\n"
          ]
        }
      ]
    },
    {
      "cell_type": "markdown",
      "metadata": {
        "id": "1cWJSzD5EaQG"
      },
      "source": [
        "Nested If"
      ]
    },
    {
      "cell_type": "code",
      "metadata": {
        "colab": {
          "base_uri": "https://localhost:8080/"
        },
        "id": "OIHnYOkrhD-m",
        "outputId": "16af7736-d0b7-45f3-c717-381ff741ea26"
      },
      "source": [
        "z=[1, 23, 10, 40, 100]\n",
        "print(z)"
      ],
      "execution_count": null,
      "outputs": [
        {
          "output_type": "stream",
          "name": "stdout",
          "text": [
            "[1, 23, 10, 40, 100]\n"
          ]
        }
      ]
    },
    {
      "cell_type": "code",
      "metadata": {
        "colab": {
          "base_uri": "https://localhost:8080/"
        },
        "id": "mD-bVgyZhNAk",
        "outputId": "3071e3f7-1379-42c3-eb62-cd8300968f5f"
      },
      "source": [
        "for i in z:\n",
        "  if i == 10:\n",
        "    print(\"kurang dari 10\")\n",
        "    if i <=  20:\n",
        "      print(\"kurang dari 20\")\n",
        "    else:\n",
        "      print(\"tidak kurang dari 10 dan 20\")\n",
        "  else:\n",
        "    print(\"tidak memenuhi apapun\")"
      ],
      "execution_count": null,
      "outputs": [
        {
          "output_type": "stream",
          "name": "stdout",
          "text": [
            "tidak memenuhi apapun\n",
            "tidak memenuhi apapun\n",
            "kurang dari 10\n",
            "kurang dari 20\n",
            "tidak memenuhi apapun\n",
            "tidak memenuhi apapun\n"
          ]
        }
      ]
    },
    {
      "cell_type": "code",
      "metadata": {
        "id": "d4keqF8Ej4Lf"
      },
      "source": [
        "x = 21"
      ],
      "execution_count": null,
      "outputs": []
    },
    {
      "cell_type": "code",
      "metadata": {
        "colab": {
          "base_uri": "https://localhost:8080/"
        },
        "id": "_0HKbBPVEXZH",
        "outputId": "8a8141ec-1e5b-43fe-d67c-3b67ae002017"
      },
      "source": [
        "if x > 20:\n",
        "  print(\"Above twenty, \")\n",
        "  if x > 40:\n",
        "    print(\"and also above 40\")\n",
        "    if x > 50:\n",
        "      print(\"and also above 50\")\n",
        "  else:\n",
        "    print(\"but not above 40\")\n",
        "else:\n",
        "  print(\"Below twenty\")"
      ],
      "execution_count": null,
      "outputs": [
        {
          "output_type": "stream",
          "name": "stdout",
          "text": [
            "Above twenty, \n",
            "but not above 40\n"
          ]
        }
      ]
    },
    {
      "cell_type": "markdown",
      "metadata": {
        "id": "51UXFqUJfuwq"
      },
      "source": [
        "## Switch case"
      ]
    },
    {
      "cell_type": "code",
      "metadata": {
        "colab": {
          "base_uri": "https://localhost:8080/"
        },
        "id": "sirdNjUZf2Tk",
        "outputId": "6409665b-0b7e-4883-85f4-a31f503a0bd8"
      },
      "source": [
        "# Python code\n",
        "def switch_months(argument):\n",
        "    switcher = {\n",
        "        1: \"January\",\n",
        "        2: \"February\",\n",
        "        3: \"March\",\n",
        "        4: \"April\",\n",
        "        5: \"May\",\n",
        "        6: \"June\",\n",
        "        7: \"July\",\n",
        "        8: \"August\",\n",
        "        9: \"September\",\n",
        "        10: \"October\",\n",
        "        11: \"November\",\n",
        "        12: \"December\",\n",
        "        13: \"gaji ke 13\"\n",
        "    }\n",
        "    return switcher.get(argument, \"Invalid month\")\n",
        "print(switch_months(13))"
      ],
      "execution_count": null,
      "outputs": [
        {
          "output_type": "stream",
          "name": "stdout",
          "text": [
            "gaji ke 13\n"
          ]
        }
      ]
    },
    {
      "cell_type": "code",
      "metadata": {
        "id": "U1yXoNzilfCB"
      },
      "source": [
        "z=[1, 23, 10, 40, 100]"
      ],
      "execution_count": null,
      "outputs": []
    },
    {
      "cell_type": "code",
      "metadata": {
        "colab": {
          "base_uri": "https://localhost:8080/"
        },
        "id": "bY1AKHtTlhk6",
        "outputId": "7fb40065-b673-40f5-9a8c-324b23ca09f2"
      },
      "source": [
        "z"
      ],
      "execution_count": null,
      "outputs": [
        {
          "output_type": "execute_result",
          "data": {
            "text/plain": [
              "[1, 23, 10, 40, 100]"
            ]
          },
          "metadata": {},
          "execution_count": 94
        }
      ]
    },
    {
      "cell_type": "code",
      "metadata": {
        "id": "Rk9kQtQxlixa"
      },
      "source": [
        "import pandas as pd"
      ],
      "execution_count": null,
      "outputs": []
    },
    {
      "cell_type": "code",
      "metadata": {
        "colab": {
          "base_uri": "https://localhost:8080/"
        },
        "id": "rJan2_ALjh-S",
        "outputId": "e140d5e7-4d36-4878-f4b5-842a36ce549b"
      },
      "source": [
        "print(switch_months(1))"
      ],
      "execution_count": null,
      "outputs": [
        {
          "output_type": "stream",
          "name": "stdout",
          "text": [
            "January\n"
          ]
        }
      ]
    },
    {
      "cell_type": "code",
      "metadata": {
        "colab": {
          "base_uri": "https://localhost:8080/"
        },
        "id": "x3GzZx3ofyre",
        "outputId": "26b9694e-ca60-4a9f-c1ac-458d8f9ae287"
      },
      "source": [
        "month = {\t1:'January',\n",
        "          2:'February',\n",
        "          3:'March',\n",
        "          4:'April',\n",
        "          5:'May',\n",
        "          6:'June',\n",
        "          7:'July',\n",
        "          8:'August',\n",
        "          9:'September',\n",
        "          10:'October',\n",
        "          11:'November',\n",
        "          12:'December'}\n",
        "print(month[1])"
      ],
      "execution_count": null,
      "outputs": [
        {
          "output_type": "stream",
          "name": "stdout",
          "text": [
            "January\n"
          ]
        }
      ]
    },
    {
      "cell_type": "markdown",
      "metadata": {
        "id": "cpGmGx439u3Q"
      },
      "source": [
        "### Input"
      ]
    },
    {
      "cell_type": "code",
      "metadata": {
        "colab": {
          "base_uri": "https://localhost:8080/"
        },
        "id": "Fa3PDOqS9Krj",
        "outputId": "a01970bd-44b9-464f-d9df-bf994b99c30e"
      },
      "source": [
        "x = int(input())\n",
        "print(type(x))"
      ],
      "execution_count": null,
      "outputs": [
        {
          "output_type": "stream",
          "name": "stdout",
          "text": [
            "20\n",
            "<class 'int'>\n"
          ]
        }
      ]
    },
    {
      "cell_type": "code",
      "metadata": {
        "colab": {
          "base_uri": "https://localhost:8080/"
        },
        "id": "E4SrBeKc8dVx",
        "outputId": "fc6d9ad8-eb6b-4b44-a51f-1bb3ab28d857"
      },
      "source": [
        "x = int(input())\n",
        "\n",
        "if x > 20:\n",
        "  print(\"Above twenty, \")\n",
        "  if x > 40:\n",
        "    print(\"and also above 40\")\n",
        "  else:\n",
        "    print(\"but not above 40\")\n",
        "else:\n",
        "  print(\"Below twenty\")"
      ],
      "execution_count": null,
      "outputs": [
        {
          "output_type": "stream",
          "name": "stdout",
          "text": [
            "100\n",
            "Above twenty, \n",
            "and also above 40\n"
          ]
        }
      ]
    },
    {
      "cell_type": "markdown",
      "metadata": {
        "id": "r6OlsZCk90Dh"
      },
      "source": [
        "# Cases"
      ]
    },
    {
      "cell_type": "markdown",
      "metadata": {
        "id": "HqPo2HsXIe8h"
      },
      "source": [
        "1. Given a number, determine whether that number is odd or even\n"
      ]
    },
    {
      "cell_type": "markdown",
      "metadata": {
        "id": "8POX-x9j-Iic"
      },
      "source": [
        "ganjil: 1 3 5 7 9 11 13 ....  \n",
        "genap : 2 4 6 8 10 12 ...."
      ]
    },
    {
      "cell_type": "markdown",
      "metadata": {
        "id": "WciWphhV_SzK"
      },
      "source": [
        "x % 2 == 0 -> genap  \n",
        "x jika dibagi dengan 2, maka hasil baginya adalah 0"
      ]
    },
    {
      "cell_type": "code",
      "metadata": {
        "colab": {
          "base_uri": "https://localhost:8080/"
        },
        "id": "QN9IZkD7qJKZ",
        "outputId": "be0364d6-b002-4d51-8a2e-c50f6aca698e"
      },
      "source": [
        "x = int(input())\n",
        "\n",
        "if x % 2 == 0:\n",
        "  print(\"Even\")\n",
        "else:\n",
        "  print(\"Odd\")"
      ],
      "execution_count": null,
      "outputs": [
        {
          "output_type": "stream",
          "name": "stdout",
          "text": [
            "13\n",
            "Odd\n"
          ]
        }
      ]
    },
    {
      "cell_type": "markdown",
      "metadata": {
        "id": "ZcRh4j4TI3_A"
      },
      "source": [
        "2. Given a number, determine whether that number is positive, negative, or zero\n"
      ]
    },
    {
      "cell_type": "code",
      "metadata": {
        "colab": {
          "base_uri": "https://localhost:8080/"
        },
        "id": "jfz4SoDXqJ9P",
        "outputId": "b701b0da-5321-47e6-9fd7-fd6f68b2a88f"
      },
      "source": [
        "x = int(input())\n",
        "\n",
        "if x > 0:\n",
        "  print(\"positive\")\n",
        "elif x < 0:\n",
        "  print(\"negative\")\n",
        "else:\n",
        "  print(\"zero\")"
      ],
      "execution_count": null,
      "outputs": [
        {
          "output_type": "stream",
          "name": "stdout",
          "text": [
            "-1\n",
            "negative\n"
          ]
        }
      ]
    },
    {
      "cell_type": "markdown",
      "metadata": {
        "id": "Zxl1Z74GJg9V"
      },
      "source": [
        "3. A school has following rules for grading system:  \n",
        "a. Below 50 - Bad  \n",
        "b. 50 to 75 - Good  \n",
        "c. Above 75 - Excellent  \n",
        "Ask user to enter marks and print the corresponding grade."
      ]
    },
    {
      "cell_type": "code",
      "metadata": {
        "colab": {
          "base_uri": "https://localhost:8080/"
        },
        "id": "qh5I4d2fqL--",
        "outputId": "ff986684-5d4d-40ff-8641-3e15264d4af1"
      },
      "source": [
        "x = int(input())\n",
        "\n",
        "if x < 50:\n",
        "  print(\"bad\")\n",
        "elif (x >= 50) and (x <= 75):\n",
        "  print(\"good\")\n",
        "elif x > 75:\n",
        "  print(\"excellent\")"
      ],
      "execution_count": null,
      "outputs": [
        {
          "output_type": "stream",
          "name": "stdout",
          "text": [
            "10\n",
            "bad\n"
          ]
        }
      ]
    },
    {
      "cell_type": "code",
      "metadata": {
        "colab": {
          "base_uri": "https://localhost:8080/"
        },
        "id": "e6jiF_8gA0dh",
        "outputId": "e1154555-f84c-4704-cbc1-35d0a2c66d59"
      },
      "source": [
        "x = int(input())\n",
        "\n",
        "if x < 50:\n",
        "  print(\"bad\")\n",
        "elif x <= 75:\n",
        "  print(\"good\")\n",
        "else:\n",
        "  print(\"excellent\")"
      ],
      "execution_count": null,
      "outputs": [
        {
          "output_type": "stream",
          "name": "stdout",
          "text": [
            "76\n",
            "excellent\n"
          ]
        }
      ]
    },
    {
      "cell_type": "markdown",
      "metadata": {
        "id": "hiM17yONKrm0"
      },
      "source": [
        "4. Given a number, determine whether that number is positive, negative, or zero.  \n",
        " If the number is positive, determine whether the number is odd or even"
      ]
    },
    {
      "cell_type": "code",
      "metadata": {
        "id": "EIWI8UpzJhZ0",
        "colab": {
          "base_uri": "https://localhost:8080/"
        },
        "outputId": "af0f57e2-9196-49b0-b4bf-6b12df801155"
      },
      "source": [
        "x = int(input())\n",
        "\n",
        "if x > 0: #positif\n",
        "  print(\"positive\")\n",
        "  if x % 2 == 0: #genap\n",
        "    print(\"Even\")\n",
        "  else:\n",
        "    print(\"Odd\")\n",
        "elif x < 0:\n",
        "  print(\"negative\")\n",
        "else:\n",
        "  print(\"zero\")"
      ],
      "execution_count": null,
      "outputs": [
        {
          "output_type": "stream",
          "name": "stdout",
          "text": [
            "10\n",
            "positive\n",
            "Even\n"
          ]
        }
      ]
    },
    {
      "cell_type": "code",
      "metadata": {
        "colab": {
          "base_uri": "https://localhost:8080/"
        },
        "id": "QTXbb-y1nBtF",
        "outputId": "0fb8b227-68b8-4b99-aa29-58f9c97f24fe"
      },
      "source": [
        "print(\"Hello World!\")"
      ],
      "execution_count": null,
      "outputs": [
        {
          "output_type": "stream",
          "name": "stdout",
          "text": [
            "Hello World!\n"
          ]
        }
      ]
    },
    {
      "cell_type": "code",
      "metadata": {
        "id": "Ba_T976Tn2sG"
      },
      "source": [
        "# The first line of the input contains an integer 𝑁 (2≤𝑁≤10), the number of integers your program should add.\n",
        "\n",
        "# The next line contains the 𝑁 integers to add, each between 0 and 1000."
      ],
      "execution_count": null,
      "outputs": []
    },
    {
      "cell_type": "code",
      "metadata": {
        "id": "3MJ7p4oAoZm8"
      },
      "source": [
        "number = [2,3,4,5,6,7,8,9,10]"
      ],
      "execution_count": null,
      "outputs": []
    },
    {
      "cell_type": "code",
      "metadata": {
        "id": "cq8lA7V_pciP"
      },
      "source": [
        "from random import randint, randrange"
      ],
      "execution_count": null,
      "outputs": []
    },
    {
      "cell_type": "code",
      "metadata": {
        "colab": {
          "base_uri": "https://localhost:8080/"
        },
        "id": "Odf2zWkNoi-d",
        "outputId": "8d29e713-d193-4449-940b-074500f5e82e"
      },
      "source": [
        "number = int(input())\n",
        "random_number = randrange(0 ,1000)\n",
        "sum = 0\n",
        "\n",
        "for n in range(number, number+1):\n",
        "  add_rand_number = n + random_number\n",
        "  sum = sum + n\n",
        "  print(add_rand_number)\n",
        "  print(sum)"
      ],
      "execution_count": null,
      "outputs": [
        {
          "output_type": "stream",
          "name": "stdout",
          "text": [
            "3\n",
            "648\n",
            "3\n"
          ]
        }
      ]
    },
    {
      "cell_type": "code",
      "metadata": {
        "colab": {
          "base_uri": "https://localhost:8080/"
        },
        "id": "wrAzdK77p79l",
        "outputId": "3063f3ae-696e-44fd-ee2f-4dc57e8ca5ea"
      },
      "source": [
        "number = int(input())\n",
        "random_number = randrange(0 ,1000)\n",
        "\n",
        "for n in range(number):\n",
        "  add_rand_number = n + random_number\n",
        "  print(add_rand_number)\n"
      ],
      "execution_count": null,
      "outputs": [
        {
          "output_type": "stream",
          "name": "stdout",
          "text": [
            "3\n",
            "403\n",
            "404\n",
            "405\n"
          ]
        }
      ]
    },
    {
      "cell_type": "code",
      "metadata": {
        "colab": {
          "base_uri": "https://localhost:8080/"
        },
        "id": "Qk_3LAHQtSYX",
        "outputId": "e8955ab4-f1e9-42be-8d6e-05c68d5f3cb3"
      },
      "source": [
        "number = int(input())\n",
        "random_number = randrange(0 ,1000)\n",
        "if number < 0:\n",
        "   print(\"Enter a positive number\")\n",
        "else:\n",
        "   sum = 0\n",
        "   # use while loop to iterate until zero\n",
        "   while(number > 0):\n",
        "       sum += number\n",
        "       number -= 1\n",
        "   print(\"The sum is\", sum)"
      ],
      "execution_count": null,
      "outputs": [
        {
          "output_type": "stream",
          "name": "stdout",
          "text": [
            "10\n",
            "The sum is 55\n"
          ]
        }
      ]
    },
    {
      "cell_type": "code",
      "metadata": {
        "colab": {
          "base_uri": "https://localhost:8080/"
        },
        "id": "0a8RJ9_zs4AZ",
        "outputId": "6c1bc3b2-5ec5-4123-9090-c0e1b0d8dbe2"
      },
      "source": [
        "n = int(input(\"Enter number\"))\n",
        "sum = 0\n",
        "# loop from 1 to n\n",
        "for num in range(1, n + 1, 1):\n",
        "    sum = sum + num\n",
        "print(\"Sum of first \", n, \"numbers is: \", sum)"
      ],
      "execution_count": null,
      "outputs": [
        {
          "output_type": "stream",
          "name": "stdout",
          "text": [
            "Enter number12\n",
            "Sum of first  12 numbers is:  78\n"
          ]
        }
      ]
    },
    {
      "cell_type": "code",
      "metadata": {
        "colab": {
          "base_uri": "https://localhost:8080/"
        },
        "id": "I4k2LgVxt_YZ",
        "outputId": "e96b1cfa-d33c-4ced-d06c-9b4dc134b1f3"
      },
      "source": [
        "number = int(input())\n",
        "random_number = randrange(0 ,1000)\n",
        "sum = 0\n",
        "\n",
        "for num in range(number, number+1, number):\n",
        "  add_rand_number = num + random_number\n",
        "  sum = sum + num\n",
        "  print(add_rand_number)\n",
        "  print(sum)"
      ],
      "execution_count": null,
      "outputs": [
        {
          "output_type": "stream",
          "name": "stdout",
          "text": [
            "2\n",
            "49\n",
            "2\n"
          ]
        }
      ]
    },
    {
      "cell_type": "code",
      "metadata": {
        "id": "H2wyfk8guizo"
      },
      "source": [
        "fam = ['liz', 23, 'emma', 21]"
      ],
      "execution_count": null,
      "outputs": []
    },
    {
      "cell_type": "code",
      "source": [
        "# exclude emma"
      ],
      "metadata": {
        "colab": {
          "base_uri": "https://localhost:8080/"
        },
        "id": "x2L7z61BmiJ2",
        "outputId": "acf55341-aa18-4a21-c8c9-cf200ea47d6f"
      },
      "execution_count": null,
      "outputs": [
        {
          "output_type": "execute_result",
          "data": {
            "text/plain": [
              "23"
            ]
          },
          "metadata": {},
          "execution_count": 4
        }
      ]
    },
    {
      "cell_type": "code",
      "source": [
        "excluded_index = 1\n",
        "fam[:excluded_index] + fam[excluded_index+1:]"
      ],
      "metadata": {
        "colab": {
          "base_uri": "https://localhost:8080/"
        },
        "id": "H2hvkfssmi2e",
        "outputId": "f3023183-4ab3-465b-ba5a-0503b77c062e"
      },
      "execution_count": null,
      "outputs": [
        {
          "output_type": "execute_result",
          "data": {
            "text/plain": [
              "['liz', 'emma', 21]"
            ]
          },
          "metadata": {},
          "execution_count": 22
        }
      ]
    },
    {
      "cell_type": "code",
      "source": [],
      "metadata": {
        "id": "zo-rfRRL-4Dw"
      },
      "execution_count": null,
      "outputs": []
    }
  ]
}