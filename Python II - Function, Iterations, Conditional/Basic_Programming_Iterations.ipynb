{
  "nbformat": 4,
  "nbformat_minor": 0,
  "metadata": {
    "kernelspec": {
      "display_name": "Python 3 (ipykernel)",
      "language": "python",
      "name": "python3"
    },
    "language_info": {
      "codemirror_mode": {
        "name": "ipython",
        "version": 3
      },
      "file_extension": ".py",
      "mimetype": "text/x-python",
      "name": "python",
      "nbconvert_exporter": "python",
      "pygments_lexer": "ipython3",
      "version": "3.8.8"
    },
    "colab": {
      "provenance": [],
      "collapsed_sections": [
        "rbFEIEvhzs3c"
      ],
      "toc_visible": true,
      "include_colab_link": true
    }
  },
  "cells": [
    {
      "cell_type": "markdown",
      "metadata": {
        "id": "view-in-github",
        "colab_type": "text"
      },
      "source": [
        "<a href=\"https://colab.research.google.com/github/AnggaPradiktas/tutorials/blob/main/Basic_Programming_Iterations.ipynb\" target=\"_parent\"><img src=\"https://colab.research.google.com/assets/colab-badge.svg\" alt=\"Open In Colab\"/></a>"
      ]
    },
    {
      "cell_type": "markdown",
      "metadata": {
        "id": "t6oEwsT6YJNk"
      },
      "source": [
        "# Iterations"
      ]
    },
    {
      "cell_type": "markdown",
      "metadata": {
        "id": "TWuYdYaezs3P"
      },
      "source": [
        "## While Loop"
      ]
    },
    {
      "cell_type": "code",
      "metadata": {
        "id": "QiWStZ-Izs3U"
      },
      "source": [
        "# Print a while a < 10\n",
        "\n",
        "a = 0 # initiate variables\n",
        "while a < 10:\n",
        "    print(a)\n",
        "\n",
        "# Whoops, the loop is going infinity"
      ],
      "execution_count": null,
      "outputs": []
    },
    {
      "cell_type": "code",
      "metadata": {
        "id": "goVlBEIDzs3X",
        "colab": {
          "base_uri": "https://localhost:8080/"
        },
        "outputId": "78c0a6bb-5d23-428e-e0e7-9e977317f251"
      },
      "source": [
        "# Print a while a < 10\n",
        "\n",
        "a = 0 # initiate variables\n",
        "while a < 10:\n",
        "    print(a)\n",
        "    a += 1 # don't forget to make sure the condition will be satisfied"
      ],
      "execution_count": null,
      "outputs": [
        {
          "output_type": "stream",
          "name": "stdout",
          "text": [
            "0\n",
            "1\n",
            "2\n",
            "3\n",
            "4\n",
            "5\n",
            "6\n",
            "7\n",
            "8\n",
            "9\n"
          ]
        }
      ]
    },
    {
      "cell_type": "code",
      "metadata": {
        "scrolled": false,
        "id": "32ZcPdqxzs3X",
        "colab": {
          "base_uri": "https://localhost:8080/"
        },
        "outputId": "d975445d-850b-4283-e9cb-d413e69e751b"
      },
      "source": [
        "# We could use more than one condition in a while loop\n",
        "# The loop could also combined with the if-else concept\n",
        "\n",
        "# Starts from 1,\n",
        "#   as a default, print the number\n",
        "#   print \"fizz\" if the number could be divided by 3,\n",
        "#   print \"buzz\" if the number could be divided by 8,\n",
        "#   loop until the \"fizz\" is printed 5 times or the \"buzz\" is printed 3 times\n",
        "\n",
        "counter = 1\n",
        "fizz_counter = 0\n",
        "buzz_counter = 0\n",
        "\n",
        "while fizz_counter < 5 or buzz_counter < 3:\n",
        "  if (counter % 3 == 0) and (counter % 8 == 0):\n",
        "    fizz_counter += 1\n",
        "    buzz_counter += 1\n",
        "    print(\"fizzbuzz\")\n",
        "  elif counter % 3 == 0:\n",
        "    fizz_counter += 1\n",
        "    print(\"fizz\")\n",
        "  elif counter % 8 == 0:\n",
        "    buzz_counter += 1\n",
        "    print(\"buzz\")\n",
        "  else:\n",
        "    print(counter)\n",
        " \n",
        "  counter += 1"
      ],
      "execution_count": null,
      "outputs": [
        {
          "output_type": "stream",
          "name": "stdout",
          "text": [
            "1\n",
            "2\n",
            "fizz\n",
            "4\n",
            "5\n",
            "fizz\n",
            "7\n",
            "buzz\n",
            "fizz\n",
            "10\n",
            "11\n",
            "fizz\n",
            "13\n",
            "14\n",
            "fizz\n",
            "buzz\n",
            "17\n",
            "fizz\n",
            "19\n",
            "20\n",
            "fizz\n",
            "22\n",
            "23\n",
            "fizzbuzz\n"
          ]
        }
      ]
    },
    {
      "cell_type": "markdown",
      "metadata": {
        "id": "s9LE-641zs3Y"
      },
      "source": [
        "## For Loop and Iterables"
      ]
    },
    {
      "cell_type": "code",
      "metadata": {
        "colab": {
          "base_uri": "https://localhost:8080/"
        },
        "id": "P7bXQIdxuD-U",
        "outputId": "595298a7-1288-4041-8642-06f8983ace46"
      },
      "source": [
        "# List\n",
        "a = [1,2,3,4,5,6,7,8,9,10]\n",
        "for i in a:\n",
        "  print(i)"
      ],
      "execution_count": null,
      "outputs": [
        {
          "output_type": "stream",
          "name": "stdout",
          "text": [
            "1\n",
            "2\n",
            "3\n",
            "4\n",
            "5\n",
            "6\n",
            "7\n",
            "8\n",
            "9\n",
            "10\n"
          ]
        }
      ]
    },
    {
      "cell_type": "code",
      "metadata": {
        "id": "gul_jS9hzs3Y",
        "colab": {
          "base_uri": "https://localhost:8080/"
        },
        "outputId": "0eaf4134-e235-49ba-870e-4d049eefb5f8"
      },
      "source": [
        "# To use for loop in python, we have to create an iterable object first\n",
        "## For basic use, range() will do most of work\n",
        "## range(start, stop, step)\n",
        "\n",
        "range(10)\n",
        "# [0, 10)"
      ],
      "execution_count": null,
      "outputs": [
        {
          "output_type": "execute_result",
          "data": {
            "text/plain": [
              "range(0, 10)"
            ]
          },
          "metadata": {},
          "execution_count": 8
        }
      ]
    },
    {
      "cell_type": "code",
      "metadata": {
        "colab": {
          "base_uri": "https://localhost:8080/"
        },
        "id": "bVXYFjUgujav",
        "outputId": "7bc2460d-d979-42f1-fb99-7625ffaca747"
      },
      "source": [
        "list(range(10))"
      ],
      "execution_count": null,
      "outputs": [
        {
          "output_type": "execute_result",
          "data": {
            "text/plain": [
              "[0, 1, 2, 3, 4, 5, 6, 7, 8, 9]"
            ]
          },
          "metadata": {},
          "execution_count": 12
        }
      ]
    },
    {
      "cell_type": "code",
      "metadata": {
        "colab": {
          "base_uri": "https://localhost:8080/"
        },
        "id": "QyKUuXRBvH4Z",
        "outputId": "2cc209a7-098a-42b0-f32c-80bd9daa3c48"
      },
      "source": [
        "list(range(3, 15, 2))"
      ],
      "execution_count": null,
      "outputs": [
        {
          "output_type": "execute_result",
          "data": {
            "text/plain": [
              "[3, 5, 7, 9, 11, 13]"
            ]
          },
          "metadata": {},
          "execution_count": 15
        }
      ]
    },
    {
      "cell_type": "code",
      "metadata": {
        "colab": {
          "base_uri": "https://localhost:8080/"
        },
        "id": "V1tfJvspTn-s",
        "outputId": "a5a8068d-57b7-4aad-9fca-c29d6f4e7e8c"
      },
      "source": [
        "for i in range(1, 11): # will start from 0 by default\n",
        "    print(i)"
      ],
      "execution_count": null,
      "outputs": [
        {
          "output_type": "stream",
          "name": "stdout",
          "text": [
            "1\n",
            "2\n",
            "3\n",
            "4\n",
            "5\n",
            "6\n",
            "7\n",
            "8\n",
            "9\n",
            "10\n"
          ]
        }
      ]
    },
    {
      "cell_type": "code",
      "metadata": {
        "scrolled": true,
        "id": "EKwJU9tJzs3Z",
        "colab": {
          "base_uri": "https://localhost:8080/"
        },
        "outputId": "cd0f01c5-2ec6-4b0b-cd87-0a5d69a7bb07"
      },
      "source": [
        "for i in range(5, 10+1): # we could set start and stop of loop\n",
        "    print(i, i ** 2)\n",
        "    \n",
        "# Python for loop include the first number but not the last number"
      ],
      "execution_count": null,
      "outputs": [
        {
          "output_type": "stream",
          "name": "stdout",
          "text": [
            "5 25\n",
            "6 36\n",
            "7 49\n",
            "8 64\n",
            "9 81\n",
            "10 100\n"
          ]
        }
      ]
    },
    {
      "cell_type": "code",
      "metadata": {
        "id": "upR6QBM-zs3Z",
        "colab": {
          "base_uri": "https://localhost:8080/"
        },
        "outputId": "ea49f04b-e2de-44a2-de84-1acca79da890"
      },
      "source": [
        "# We could also combine for loop with if-else concept\n",
        "# Exercise: \n",
        "#   From 1 through 15, decides whether they can be divided by 3 or not!\n",
        "for i in range(1, 16):\n",
        "  if i % 3 == 0:\n",
        "    print(i, \"can be divided by 3\")\n",
        "  else:\n",
        "    print(i, \"cannot be divided by 3\")"
      ],
      "execution_count": null,
      "outputs": [
        {
          "output_type": "stream",
          "name": "stdout",
          "text": [
            "1 cannot be divided by 3\n",
            "2 cannot be divided by 3\n",
            "3 can be divided by 3\n",
            "4 cannot be divided by 3\n",
            "5 cannot be divided by 3\n",
            "6 can be divided by 3\n",
            "7 cannot be divided by 3\n",
            "8 cannot be divided by 3\n",
            "9 can be divided by 3\n",
            "10 cannot be divided by 3\n",
            "11 cannot be divided by 3\n",
            "12 can be divided by 3\n",
            "13 cannot be divided by 3\n",
            "14 cannot be divided by 3\n",
            "15 can be divided by 3\n"
          ]
        }
      ]
    },
    {
      "cell_type": "code",
      "metadata": {
        "id": "MCgc4GeEwK5e",
        "colab": {
          "base_uri": "https://localhost:8080/"
        },
        "outputId": "fd839a77-eb34-45bb-d55f-ebf0089b299d"
      },
      "source": [
        "# Penilaian ulangan mahasiswa\n",
        "# > 90 A\n",
        "# 80 - 90 B\n",
        "# 70 - 80 C\n",
        "# < 70 D\n",
        "# Nama Mahasiswa -- Nilai Ulangan -- Nilai Akhir\n",
        "# Joni           -- 92            -- A\n",
        "# albert         -- 74            -- C\n",
        "# Soni           -- 86            -- B\n",
        "\n",
        "nilai_ulangan = [92, 74, 86, 91, 79]\n",
        "nilai_akhir = []\n",
        "for i in nilai_ulangan:\n",
        "  if i >= 90:\n",
        "    nilai_akhir.append(\"A\")\n",
        "  elif i >= 80 and i < 90:\n",
        "    nilai_akhir.append(\"B\")\n",
        "  elif i >= 70 and i < 80:\n",
        "    nilai_akhir.append(\"C\")\n",
        "  else:\n",
        "    nilai_akhir.append(\"D\")\n",
        "print(nilai_akhir)"
      ],
      "execution_count": null,
      "outputs": [
        {
          "output_type": "stream",
          "name": "stdout",
          "text": [
            "['A', 'C', 'B', 'A', 'C']\n"
          ]
        }
      ]
    },
    {
      "cell_type": "code",
      "source": [
        "dict(zip(nilai_ulangan,nilai_akhir))"
      ],
      "metadata": {
        "colab": {
          "base_uri": "https://localhost:8080/"
        },
        "id": "bNexzge6TtCQ",
        "outputId": "2180957a-57a1-4215-a455-fbe730cc023f"
      },
      "execution_count": null,
      "outputs": [
        {
          "output_type": "execute_result",
          "data": {
            "text/plain": [
              "{74: 'C', 79: 'C', 86: 'B', 91: 'A', 92: 'A'}"
            ]
          },
          "metadata": {},
          "execution_count": 29
        }
      ]
    },
    {
      "cell_type": "code",
      "metadata": {
        "scrolled": true,
        "id": "WcQqHCuJzs3a",
        "colab": {
          "base_uri": "https://localhost:8080/"
        },
        "outputId": "5ae4b5e0-a045-4106-e341-248019f45c03"
      },
      "source": [
        "# String, list, and tuple are also iterable\n",
        "# More explanation about list and tuple in the next session\n",
        "\n",
        "# String\n",
        "some_string = 'Hey, I just learned how to loop in Python'\n",
        "\n",
        "for i in some_string:\n",
        "    print(i) "
      ],
      "execution_count": null,
      "outputs": [
        {
          "output_type": "stream",
          "name": "stdout",
          "text": [
            "H\n",
            "e\n",
            "y\n",
            ",\n",
            " \n",
            "I\n",
            " \n",
            "j\n",
            "u\n",
            "s\n",
            "t\n",
            " \n",
            "l\n",
            "e\n",
            "a\n",
            "r\n",
            "n\n",
            "e\n",
            "d\n",
            " \n",
            "h\n",
            "o\n",
            "w\n",
            " \n",
            "t\n",
            "o\n",
            " \n",
            "l\n",
            "o\n",
            "o\n",
            "p\n",
            " \n",
            "i\n",
            "n\n",
            " \n",
            "P\n",
            "y\n",
            "t\n",
            "h\n",
            "o\n",
            "n\n"
          ]
        }
      ]
    },
    {
      "cell_type": "code",
      "metadata": {
        "colab": {
          "base_uri": "https://localhost:8080/"
        },
        "id": "Na_nsfz6Uebw",
        "outputId": "b9b40013-1304-4759-c904-89af61f91189"
      },
      "source": [
        "# String\n",
        "some_string = 'Hey, I just learned how to loop in Python'\n",
        "some_string = some_string.split()\n",
        "print(some_string)\n",
        "\n",
        "for i in some_string:\n",
        "    print(i) "
      ],
      "execution_count": null,
      "outputs": [
        {
          "output_type": "stream",
          "name": "stdout",
          "text": [
            "['Hey,', 'I', 'just', 'learned', 'how', 'to', 'loop', 'in', 'Python']\n",
            "Hey,\n",
            "I\n",
            "just\n",
            "learned\n",
            "how\n",
            "to\n",
            "loop\n",
            "in\n",
            "Python\n"
          ]
        }
      ]
    },
    {
      "cell_type": "markdown",
      "metadata": {
        "id": "rbFEIEvhzs3c"
      },
      "source": [
        "## Nested Loop"
      ]
    },
    {
      "cell_type": "code",
      "source": [
        "list(range(3))"
      ],
      "metadata": {
        "colab": {
          "base_uri": "https://localhost:8080/"
        },
        "id": "W6TfCpvNUu_W",
        "outputId": "820e9d23-480c-4cad-eb51-863900ec49b9"
      },
      "execution_count": null,
      "outputs": [
        {
          "output_type": "execute_result",
          "data": {
            "text/plain": [
              "[0, 1, 2]"
            ]
          },
          "metadata": {},
          "execution_count": 37
        }
      ]
    },
    {
      "cell_type": "code",
      "metadata": {
        "id": "AyrUvPWqzs3c",
        "colab": {
          "base_uri": "https://localhost:8080/"
        },
        "outputId": "05ec8ba2-4860-449b-a105-4d1c39c94923"
      },
      "source": [
        "# We could use nested while and for loop\n",
        "for i in range(1,4):\n",
        "    print('outer loop ', i)\n",
        "    \n",
        "    for j in range(i):\n",
        "        print('inner loop ', j)\n",
        "    print('\\n', end = '')"
      ],
      "execution_count": null,
      "outputs": [
        {
          "output_type": "stream",
          "name": "stdout",
          "text": [
            "outer loop  1\n",
            "inner loop  0\n",
            "\n",
            "outer loop  2\n",
            "inner loop  0\n",
            "inner loop  1\n",
            "\n",
            "outer loop  3\n",
            "inner loop  0\n",
            "inner loop  1\n",
            "inner loop  2\n",
            "\n"
          ]
        }
      ]
    },
    {
      "cell_type": "code",
      "metadata": {
        "id": "CCxgDY945nvk",
        "colab": {
          "base_uri": "https://localhost:8080/"
        },
        "outputId": "3601334e-7958-44a3-f9ed-84cfa260d421"
      },
      "source": [
        "print(\"*\")\n",
        "print(\"*\")\n",
        "print(\"*\")"
      ],
      "execution_count": null,
      "outputs": [
        {
          "output_type": "stream",
          "name": "stdout",
          "text": [
            "*\n",
            "*\n",
            "*\n"
          ]
        }
      ]
    },
    {
      "cell_type": "code",
      "metadata": {
        "id": "7IS0vM4H50Hy"
      },
      "source": [
        "?print"
      ],
      "execution_count": null,
      "outputs": []
    },
    {
      "cell_type": "code",
      "metadata": {
        "id": "cGfTw0ltzs3c",
        "colab": {
          "base_uri": "https://localhost:8080/"
        },
        "outputId": "bc72319b-78d5-416e-d6c8-dc5bec2bb773"
      },
      "source": [
        "# Print pattern\n",
        "# *\n",
        "# **\n",
        "# ***\n",
        "# ****\n",
        "# *****\n",
        "\n",
        "n = int(input())\n",
        "\n",
        "for i in range(1, n+1):\n",
        "  for j in range(i):\n",
        "    print(\"*\", end = \"\")\n",
        "  print()"
      ],
      "execution_count": null,
      "outputs": [
        {
          "output_type": "stream",
          "name": "stdout",
          "text": [
            "4\n",
            "*\n",
            "**\n",
            "***\n",
            "****\n"
          ]
        }
      ]
    },
    {
      "cell_type": "markdown",
      "metadata": {
        "id": "rAh7zyEAzs3d"
      },
      "source": [
        "## Loop control"
      ]
    },
    {
      "cell_type": "code",
      "metadata": {
        "id": "uLm45E34zs3e",
        "colab": {
          "base_uri": "https://localhost:8080/"
        },
        "outputId": "59d2df88-acb0-43c3-ce69-38c0ad2852b0"
      },
      "source": [
        "for i in range(10):\n",
        "    if i == 4:\n",
        "        print('4, stopping the loop')\n",
        "        # print('break')\n",
        "        break # will terminate the loop and execute the line after the loop\n",
        "        print('break')\n",
        "    print(i)\n",
        "\n",
        "print('done')"
      ],
      "execution_count": null,
      "outputs": [
        {
          "output_type": "stream",
          "name": "stdout",
          "text": [
            "0\n",
            "1\n",
            "2\n",
            "3\n",
            "4, stopping the loop\n",
            "done\n"
          ]
        }
      ]
    },
    {
      "cell_type": "code",
      "metadata": {
        "id": "xzWc7FJKzs3e",
        "colab": {
          "base_uri": "https://localhost:8080/"
        },
        "outputId": "d0fd0553-9ef0-40c3-d62b-6f455f7be28e"
      },
      "source": [
        "n = 10\n",
        "while True:\n",
        "    print(n)\n",
        "    n = n * 10\n",
        "    if n > 10000:\n",
        "        break"
      ],
      "execution_count": null,
      "outputs": [
        {
          "output_type": "stream",
          "name": "stdout",
          "text": [
            "10\n",
            "100\n",
            "1000\n",
            "10000\n"
          ]
        }
      ]
    },
    {
      "cell_type": "code",
      "metadata": {
        "id": "sKmT-KG9zs3f",
        "colab": {
          "base_uri": "https://localhost:8080/"
        },
        "outputId": "b4e6a8b7-3afd-43fd-9c5b-54815e3a66f8"
      },
      "source": [
        "for i in range(10):\n",
        "    if i % 2 == 0:\n",
        "        print(i**2)\n",
        "        continue # will reject the lines after this line and continue to the next iteration\n",
        "        # print('4, continue the loop')\n",
        "    print(i)\n",
        "\n",
        "print('done')"
      ],
      "execution_count": null,
      "outputs": [
        {
          "output_type": "stream",
          "name": "stdout",
          "text": [
            "0\n",
            "1\n",
            "4\n",
            "3\n",
            "16\n",
            "5\n",
            "36\n",
            "7\n",
            "64\n",
            "9\n",
            "done\n"
          ]
        }
      ]
    },
    {
      "cell_type": "code",
      "metadata": {
        "id": "1BI0XRSTzs3f",
        "colab": {
          "base_uri": "https://localhost:8080/"
        },
        "outputId": "1a037c52-3e27-4661-d05e-ea711d883fd2"
      },
      "source": [
        "# for i in range(10):\n",
        "#     if i == 4:\n",
        "#         '''\n",
        "#         some block of code that previously required but then removed\n",
        "#         '''\n",
        "#         print('unlucky number')\n",
        "#     print(i)\n",
        "\n",
        "# print('done')\n",
        "\n",
        "for i in range(10):\n",
        "    if i == 4:\n",
        "        # pass # will just do nothing, act as a stub\n",
        "        print('unlucky number')\n",
        "    print(i)\n",
        "\n",
        "print('done')"
      ],
      "execution_count": null,
      "outputs": [
        {
          "output_type": "stream",
          "name": "stdout",
          "text": [
            "0\n",
            "1\n",
            "2\n",
            "3\n",
            "unlucky number\n",
            "4\n",
            "5\n",
            "6\n",
            "7\n",
            "8\n",
            "9\n",
            "done\n"
          ]
        }
      ]
    },
    {
      "cell_type": "code",
      "source": [
        "def func():\n",
        "  pass"
      ],
      "metadata": {
        "id": "6Zh1vYemX8s1"
      },
      "execution_count": null,
      "outputs": []
    },
    {
      "cell_type": "code",
      "metadata": {
        "colab": {
          "base_uri": "https://localhost:8080/"
        },
        "id": "8g4nSK-S8bZO",
        "outputId": "8c210ca9-e29c-4fc1-ad29-b115c816e258"
      },
      "source": [
        "# We could use more than one condition in a while loop\n",
        "# The loop could also combined with the if-else concept\n",
        "\n",
        "# Starts from 1,\n",
        "#   as a default, print the number\n",
        "#   print \"fizz\" if the number could be divided by 3,\n",
        "#   print \"buzz\" if the number could be divided by 8,\n",
        "#   loop until the \"fizz\" is printed 5 times or the \"buzz\" is printed 3 times\n",
        "\n",
        "counter = 1\n",
        "fizz_counter = 0\n",
        "buzz_counter = 0\n",
        "\n",
        "for i in range(1000):\n",
        "  if (counter % 3 == 0) and (counter % 8 == 0):\n",
        "    fizz_counter += 1\n",
        "    buzz_counter += 1\n",
        "    print(\"fizzbuzz\")\n",
        "  elif counter % 3 == 0:\n",
        "    fizz_counter += 1\n",
        "    print(\"fizz\")\n",
        "  elif counter % 8 == 0:\n",
        "    buzz_counter += 1\n",
        "    print(\"buzz\")\n",
        "  else:\n",
        "    print(counter)\n",
        "  \n",
        "  if fizz_counter == 5 or buzz_counter == 3:\n",
        "    break\n",
        " \n",
        "  counter += 1"
      ],
      "execution_count": null,
      "outputs": [
        {
          "output_type": "stream",
          "name": "stdout",
          "text": [
            "1\n",
            "2\n",
            "fizz\n",
            "4\n",
            "5\n",
            "fizz\n",
            "7\n",
            "buzz\n",
            "fizz\n",
            "10\n",
            "11\n",
            "fizz\n",
            "13\n",
            "14\n",
            "fizz\n"
          ]
        }
      ]
    },
    {
      "cell_type": "code",
      "metadata": {
        "colab": {
          "base_uri": "https://localhost:8080/"
        },
        "id": "NdrKRdaQ9tBf",
        "outputId": "75f96468-e166-4310-ed70-afac8cf61fdf"
      },
      "source": [
        "# bilangan sampai 21\n",
        "# bilangan 3 ok\n",
        "# bilangan 15 15\n",
        "for i in range(1,31):\n",
        "  if (i % 3 == 0) & (i % 5 != 0):\n",
        "    print(\"ok\")\n",
        "  else:\n",
        "    print(i)"
      ],
      "execution_count": null,
      "outputs": [
        {
          "output_type": "stream",
          "name": "stdout",
          "text": [
            "1\n",
            "2\n",
            "ok\n",
            "4\n",
            "5\n",
            "ok\n",
            "7\n",
            "8\n",
            "ok\n",
            "10\n",
            "11\n",
            "ok\n",
            "13\n",
            "14\n",
            "15\n",
            "16\n",
            "17\n",
            "ok\n",
            "19\n",
            "20\n",
            "ok\n",
            "22\n",
            "23\n",
            "ok\n",
            "25\n",
            "26\n",
            "ok\n",
            "28\n",
            "29\n",
            "30\n"
          ]
        }
      ]
    },
    {
      "cell_type": "code",
      "metadata": {
        "colab": {
          "base_uri": "https://localhost:8080/"
        },
        "id": "SKp897C3-opM",
        "outputId": "0635092b-539a-466d-d17a-fff1b43ae62b"
      },
      "source": [
        "def hitung(angka, kali, tambah): #input\n",
        "  angka = angka * kali + tambah #body/process\n",
        "  return angka #output\n",
        "\n",
        "n = int(input())\n",
        "print(hitung(n, 2, 3))"
      ],
      "execution_count": null,
      "outputs": [
        {
          "output_type": "stream",
          "name": "stdout",
          "text": [
            "10\n",
            "23\n"
          ]
        }
      ]
    },
    {
      "cell_type": "code",
      "metadata": {
        "colab": {
          "base_uri": "https://localhost:8080/"
        },
        "id": "bpfkMH2q_qVR",
        "outputId": "f2ffef7b-de6a-4de3-cee7-51c6f4040038"
      },
      "source": [
        "def akar(angka): #input\n",
        "  angka = angka ** (1/2) #body/process\n",
        "  return angka #output\n",
        "\n",
        "n = int(input())\n",
        "print(akar(n))"
      ],
      "execution_count": null,
      "outputs": [
        {
          "output_type": "stream",
          "name": "stdout",
          "text": [
            "16\n",
            "4.0\n"
          ]
        }
      ]
    }
  ]
}