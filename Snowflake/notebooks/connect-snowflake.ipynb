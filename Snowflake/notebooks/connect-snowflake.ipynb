{
 "cells": [
  {
   "cell_type": "code",
   "execution_count": 4,
   "id": "3a993e95",
   "metadata": {},
   "outputs": [],
   "source": [
    "# most of the imports we will need\n",
    "import json\n",
    "\n",
    "import snowflake.snowpark.functions as F\n",
    "import snowflake.snowpark.types as T\n",
    "from snowflake.snowpark.functions import udf\n",
    "from snowflake.snowpark.session import Session"
   ]
  },
  {
   "cell_type": "code",
   "execution_count": 11,
   "id": "e39333ac",
   "metadata": {},
   "outputs": [],
   "source": [
    "CONNECTION_PARAMETERS = {\n",
    "   \"account\": 'lzaftnl-bp36065',\n",
    "   \"user\": 'yourusername',\n",
    "   \"password\": 'yourpassword',\n",
    "   \"role\": 'ACCOUNTADMIN'\n",
    "}"
   ]
  },
  {
   "cell_type": "code",
   "execution_count": 12,
   "id": "9560271f",
   "metadata": {},
   "outputs": [],
   "source": [
    "session = Session.builder.configs(CONNECTION_PARAMETERS).create()"
   ]
  },
  {
   "cell_type": "code",
   "execution_count": 13,
   "id": "14fd380b",
   "metadata": {},
   "outputs": [
    {
     "data": {
      "text/plain": [
       "<snowflake.snowpark.session.Session at 0x162aec760>"
      ]
     },
     "execution_count": 13,
     "metadata": {},
     "output_type": "execute_result"
    }
   ],
   "source": [
    "session"
   ]
  },
  {
   "cell_type": "code",
   "execution_count": 14,
   "id": "d33ec7fd",
   "metadata": {},
   "outputs": [],
   "source": [
    "session.sql('CREATE OR REPLACE DATABASE HOL_DB').collect()\n",
    "session.use_database('HOL_DB')"
   ]
  },
  {
   "cell_type": "code",
   "execution_count": 15,
   "id": "536c3440",
   "metadata": {},
   "outputs": [
    {
     "data": {
      "text/plain": [
       "[Row(status='Stage area FROSTBYTE_RAW_STAGE successfully created.')]"
      ]
     },
     "execution_count": 15,
     "metadata": {},
     "output_type": "execute_result"
    }
   ],
   "source": [
    "session.sql(''' CREATE OR REPLACE STAGE FROSTBYTE_RAW_STAGE\n",
    "                URL = 's3://sfquickstarts/data-engineering-with-snowpark-python/'\n",
    "                ;''').collect()"
   ]
  },
  {
   "cell_type": "code",
   "execution_count": 16,
   "id": "4eb5b514",
   "metadata": {},
   "outputs": [
    {
     "data": {
      "text/plain": [
       "[Row(status='Warehouse HOL_WH successfully created.')]"
      ]
     },
     "execution_count": 16,
     "metadata": {},
     "output_type": "execute_result"
    }
   ],
   "source": [
    "# create a medium size warehouse\n",
    "session.sql('CREATE OR REPLACE WAREHOUSE HOL_WH WAREHOUSE_SIZE = MEDIUM, AUTO_SUSPEND = 300, AUTO_RESUME= TRUE;').collect()"
   ]
  },
  {
   "cell_type": "code",
   "execution_count": 17,
   "id": "129bf845",
   "metadata": {},
   "outputs": [],
   "source": [
    "POS_TABLES = ['country', 'franchise', 'location', 'menu', 'truck', 'order_header', 'order_detail']\n",
    "CUSTOMER_TABLES = ['customer_loyalty']\n",
    "TABLE_DICT = {\n",
    "    \"pos\": {\"schema\": \"PUBLIC\", \"tables\": POS_TABLES},\n",
    "    \"customer\": {\"schema\": \"PUBLIC\", \"tables\": CUSTOMER_TABLES}\n",
    "}"
   ]
  },
  {
   "cell_type": "code",
   "execution_count": 18,
   "id": "7b9aa6a6",
   "metadata": {},
   "outputs": [],
   "source": [
    "def load_raw_table(session, tname=None, s3dir=None, year=None, schema=None):\n",
    "    session.use_schema(schema)\n",
    "    if year is None:\n",
    "        location = \"@frostbyte_raw_stage/{}/{}\".format(s3dir, tname)\n",
    "    else:\n",
    "        print('\\tLoading year {}'.format(year)) \n",
    "        location = \"@frostbyte_raw_stage/{}/{}/year={}\".format(s3dir, tname, year)\n",
    "    \n",
    "    # we can infer schema using the parquet read option\n",
    "    df = session.read.option(\"compression\", \"snappy\") \\\n",
    "                            .parquet(location)\n",
    "    df.copy_into_table(\"{}\".format(tname))"
   ]
  },
  {
   "cell_type": "code",
   "execution_count": 19,
   "id": "e7f82ea5",
   "metadata": {},
   "outputs": [],
   "source": [
    "def load_all_raw_tables(session):\n",
    "    _ = session.sql(\"ALTER WAREHOUSE HOL_WH SET WAREHOUSE_SIZE = X2LARGE WAIT_FOR_COMPLETION = TRUE\").collect()\n",
    "\n",
    "    for s3dir, data in TABLE_DICT.items():\n",
    "        tnames = data['tables']\n",
    "        schema = data['schema']\n",
    "        for tname in tnames:\n",
    "            print(\"Loading {}\".format(tname))\n",
    "            # Only load 1 year of data for the order tables at this point\n",
    "            # We will load the 2022 data later in the lab\n",
    "            if tname in ['order_header', 'order_detail']:\n",
    "                for year in ['2021']:\n",
    "                    load_raw_table(session, tname=tname, s3dir=s3dir, year=year, schema=schema)\n",
    "            else:\n",
    "                load_raw_table(session, tname=tname, s3dir=s3dir, schema=schema)\n",
    "\n",
    "    _ = session.sql(\"ALTER WAREHOUSE HOL_WH SET WAREHOUSE_SIZE = MEDIUM\").collect()"
   ]
  },
  {
   "cell_type": "code",
   "execution_count": 20,
   "id": "1e7aafbe",
   "metadata": {},
   "outputs": [
    {
     "name": "stdout",
     "output_type": "stream",
     "text": [
      "Loading country\n",
      "Loading franchise\n",
      "Loading location\n",
      "Loading menu\n",
      "Loading truck\n",
      "Loading order_header\n",
      "\tLoading year 2021\n",
      "Loading order_detail\n",
      "\tLoading year 2021\n",
      "Loading customer_loyalty\n",
      "country: \n",
      "\t['COUNTRY_ID', 'COUNTRY', 'ISO_CURRENCY', 'ISO_COUNTRY', 'CITY_ID', 'CITY', 'CITY_POPULATION']\n",
      "\n",
      "franchise: \n",
      "\t['FRANCHISE_ID', 'FIRST_NAME', 'LAST_NAME', 'CITY', 'COUNTRY', 'E_MAIL', 'PHONE_NUMBER']\n",
      "\n",
      "location: \n",
      "\t['LOCATION_ID', 'PLACEKEY', 'LOCATION', 'CITY', 'REGION', 'ISO_COUNTRY_CODE', 'COUNTRY']\n",
      "\n",
      "menu: \n",
      "\t['MENU_ID', 'MENU_TYPE_ID', 'MENU_TYPE', 'TRUCK_BRAND_NAME', 'MENU_ITEM_ID', 'MENU_ITEM_NAME', 'ITEM_CATEGORY', 'ITEM_SUBCATEGORY', 'COST_OF_GOODS_USD', 'SALE_PRICE_USD', 'MENU_ITEM_HEALTH_METRICS_OBJ']\n",
      "\n",
      "truck: \n",
      "\t['TRUCK_ID', 'MENU_TYPE_ID', 'PRIMARY_CITY', 'REGION', 'ISO_REGION', 'COUNTRY', 'ISO_COUNTRY_CODE', 'FRANCHISE_FLAG', 'YEAR', 'MAKE', 'MODEL', 'EV_FLAG', 'FRANCHISE_ID', 'TRUCK_OPENING_DATE']\n",
      "\n",
      "order_header: \n",
      "\t['ORDER_ID', 'TRUCK_ID', 'LOCATION_ID', 'CUSTOMER_ID', 'DISCOUNT_ID', 'SHIFT_ID', 'SHIFT_START_TIME', 'SHIFT_END_TIME', 'ORDER_CHANNEL', 'ORDER_TS', 'SERVED_TS', 'ORDER_CURRENCY', 'ORDER_AMOUNT', 'ORDER_TAX_AMOUNT', 'ORDER_DISCOUNT_AMOUNT', 'ORDER_TOTAL']\n",
      "\n",
      "order_detail: \n",
      "\t['ORDER_DETAIL_ID', 'ORDER_ID', 'MENU_ITEM_ID', 'DISCOUNT_ID', 'LINE_NUMBER', 'QUANTITY', 'UNIT_PRICE', 'PRICE', 'ORDER_ITEM_DISCOUNT_AMOUNT', 'ORDER_TS']\n",
      "\n",
      "customer_loyalty: \n",
      "\t['CUSTOMER_ID', 'FIRST_NAME', 'LAST_NAME', 'CITY', 'COUNTRY', 'POSTAL_CODE', 'PREFERRED_LANGUAGE', 'GENDER', 'FAVOURITE_BRAND', 'MARITAL_STATUS', 'CHILDREN_COUNT', 'SIGN_UP_DATE', 'BIRTHDAY_DATE', 'E_MAIL', 'PHONE_NUMBER']\n",
      "\n"
     ]
    }
   ],
   "source": [
    "def validate_raw_tables(session):\n",
    "    # check column names from the inferred schema\n",
    "    for tname in POS_TABLES:\n",
    "        print('{}: \\n\\t{}\\n'.format(tname, session.table('PUBLIC.{}'.format(tname)).columns))\n",
    "\n",
    "    for tname in CUSTOMER_TABLES:\n",
    "        print('{}: \\n\\t{}\\n'.format(tname, session.table('PUBLIC.{}'.format(tname)).columns))\n",
    "\n",
    "load_all_raw_tables(session)\n",
    "validate_raw_tables(session)"
   ]
  },
  {
   "cell_type": "code",
   "execution_count": 21,
   "id": "66a8b751",
   "metadata": {},
   "outputs": [],
   "source": [
    "order_header = session.table(\"ORDER_HEADER\"\n",
    "                     ).select(F.col(\"ORDER_ID\"), \\\n",
    "                                F.col(\"TRUCK_ID\"), \\\n",
    "                                F.col(\"ORDER_TS\"), \\\n",
    "                                F.to_date(F.col(\"ORDER_TS\")).alias(\"ORDER_TS_DATE\"), \\\n",
    "                                F.col(\"ORDER_AMOUNT\"), \\\n",
    "                                F.col(\"ORDER_TAX_AMOUNT\"), \\\n",
    "                                F.col(\"ORDER_DISCOUNT_AMOUNT\"), \\\n",
    "                                F.col(\"LOCATION_ID\"), \\\n",
    "                                F.col(\"ORDER_TOTAL\"))\n",
    "\n",
    "# select specific columns from the FRANCHISE table and rename the first/last name columns\n",
    "franchise = session.table(\"FRANCHISE\"\n",
    "                  ).select(F.col(\"FRANCHISE_ID\"), \\\n",
    "                            F.col(\"FIRST_NAME\").alias(\"FRANCHISEE_FIRST_NAME\"), \\\n",
    "                            F.col(\"LAST_NAME\").alias(\"FRANCHISEE_LAST_NAME\"))\n",
    "\n",
    "# just pull the entire table for the rest of these\n",
    "order_detail = session.table(\"ORDER_DETAIL\")\n",
    "truck = session.table(\"TRUCK\")\n",
    "menu = session.table(\"MENU\")\n",
    "location = session.table(\"LOCATION\")"
   ]
  },
  {
   "cell_type": "code",
   "execution_count": 22,
   "id": "a08df4d2",
   "metadata": {},
   "outputs": [],
   "source": [
    "# join franchise to truck\n",
    "t_with_f = truck.join(franchise, truck['FRANCHISE_ID'] == franchise['FRANCHISE_ID'], rsuffix='_f')\n",
    "\n",
    "# add in order header and location\n",
    "oh_w_t_and_l = order_header.join(t_with_f, order_header['TRUCK_ID'] == t_with_f['TRUCK_ID'], rsuffix='_t') \\\n",
    "                           .join(location, order_header['LOCATION_ID'] == location['LOCATION_ID'], rsuffix='_l')\n",
    "\n",
    "# add in order detail, and menu\n",
    "final_df = order_detail.join(oh_w_t_and_l, order_detail['ORDER_ID'] == oh_w_t_and_l['ORDER_ID'], rsuffix='_oh') \\\n",
    "                       .join(menu, order_detail['MENU_ITEM_ID'] == menu['MENU_ITEM_ID'], rsuffix='_m')\n"
   ]
  },
  {
   "cell_type": "code",
   "execution_count": 23,
   "id": "e50d0a8c",
   "metadata": {},
   "outputs": [
    {
     "data": {
      "text/plain": [
       "[Row(status='View POS_FLATTENED_V successfully created.')]"
      ]
     },
     "execution_count": 23,
     "metadata": {},
     "output_type": "execute_result"
    }
   ],
   "source": [
    "# itemize final column list\n",
    "final_df = final_df.select(F.col(\"ORDER_ID\"), \n",
    "                            F.col(\"TRUCK_ID\"), \n",
    "                            F.col(\"ORDER_TS\"), \n",
    "                            F.col('ORDER_TS_DATE'), \n",
    "                            F.col(\"ORDER_DETAIL_ID\"), \n",
    "                            F.col(\"LINE_NUMBER\"), \n",
    "                            F.col(\"TRUCK_BRAND_NAME\"), \n",
    "                            F.col(\"MENU_TYPE\"), \n",
    "                            F.col(\"PRIMARY_CITY\"), \n",
    "                            F.col(\"REGION\"), \n",
    "                            F.col(\"COUNTRY\"), \n",
    "                            F.col(\"FRANCHISE_FLAG\"), \n",
    "                            F.col(\"FRANCHISE_ID\"), \n",
    "                            F.col(\"FRANCHISEE_FIRST_NAME\"), \n",
    "                            F.col(\"FRANCHISEE_LAST_NAME\"), \n",
    "                            F.col(\"LOCATION_ID\"), \n",
    "                            F.col(\"MENU_ITEM_ID\"), \n",
    "                            F.col(\"MENU_ITEM_NAME\"), \n",
    "                            F.col(\"QUANTITY\"), \n",
    "                            F.col(\"UNIT_PRICE\"), \n",
    "                            F.col(\"PRICE\"), \n",
    "                            F.col(\"ORDER_AMOUNT\"), \n",
    "                            F.col(\"ORDER_TAX_AMOUNT\"), \n",
    "                            F.col(\"ORDER_DISCOUNT_AMOUNT\"), \n",
    "                            F.col(\"ORDER_TOTAL\"))\n",
    "\n",
    "# create a view based on the above\n",
    "final_df.create_or_replace_view('POS_FLATTENED_V')"
   ]
  },
  {
   "cell_type": "code",
   "execution_count": null,
   "id": "0f02a611",
   "metadata": {},
   "outputs": [],
   "source": []
  }
 ],
 "metadata": {
  "kernelspec": {
   "display_name": "Python 3 (ipykernel)",
   "language": "python",
   "name": "python3"
  },
  "language_info": {
   "codemirror_mode": {
    "name": "ipython",
    "version": 3
   },
   "file_extension": ".py",
   "mimetype": "text/x-python",
   "name": "python",
   "nbconvert_exporter": "python",
   "pygments_lexer": "ipython3",
   "version": "3.9.12"
  }
 },
 "nbformat": 4,
 "nbformat_minor": 5
}
