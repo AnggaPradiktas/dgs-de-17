{
 "cells": [
  {
   "cell_type": "markdown",
   "metadata": {},
   "source": [
    "# JavaUDF TinyBar Chart\n",
    "\n",
    "Our goal in this exercise is to create a UDF, permanently registered, that displays visual spark bars (miniature within-cell bar charts) available for reporting on any interface.  We will do this by:\n",
    "\n",
    "- [ ] Creating a class that renders Unicode little bar charts (▁▆██)\n",
    "- [ ] Registering this UDF permanently with Snowflake (TINY_BARS)\n",
    "- [ ] Test a DataFrame using TINY_BARS\n",
    "\n",
    "![](../assets/tinybars_overview.gif)"
   ]
  },
  {
   "cell_type": "markdown",
   "metadata": {},
   "source": [
    "## Connect to Snowflake"
   ]
  },
  {
   "cell_type": "code",
   "execution_count": null,
   "metadata": {},
   "outputs": [],
   "source": [
    "import com.snowflake.snowpark._\n",
    "import com.snowflake.snowpark.functions._\n",
    "import com.snowflake.snowpark.types._"
   ]
  },
  {
   "cell_type": "code",
   "execution_count": null,
   "metadata": {},
   "outputs": [],
   "source": [
    "// Set connection properties built in de_snowpark/A-Dataframes/01-Sessions.ipynb\n",
    "val pwd = sys.env.get(\"PWD\").fold(\"\")(_.toString)\n",
    "val filename = s\"$pwd/de_snowpark/connect.properties\"\n",
    "\n",
    "val session = Session.builder.configFile(s\"$filename\").create"
   ]
  },
  {
   "cell_type": "code",
   "execution_count": null,
   "metadata": {},
   "outputs": [],
   "source": [
    "// Change to the MODELED schema in your animal [LOGIN]_DB \n",
    "session.sql(\"use schema modeled\").collect"
   ]
  },
  {
   "cell_type": "code",
   "execution_count": null,
   "metadata": {
    "tags": []
   },
   "outputs": [],
   "source": [
    "import session.implicits._"
   ]
  },
  {
   "cell_type": "code",
   "execution_count": null,
   "metadata": {},
   "outputs": [],
   "source": [
    "// Create a Snowflake internal stage that will be used by our Java UDFs\n",
    "session.sql(\"create stage if not exists RAW.JAVA_UDF_STAGE\").collect"
   ]
  },
  {
   "cell_type": "markdown",
   "metadata": {},
   "source": [
    "## Create the Class that Renders Tiny Bar Chart\n",
    "\n",
    "Create our class that draws, using unicode characters : ▁▆██▅█▄ bar charts"
   ]
  },
  {
   "cell_type": "code",
   "execution_count": null,
   "metadata": {
    "tags": []
   },
   "outputs": [],
   "source": [
    "class tinyChart() extends Serializable {\n",
    "  def tinyBars = (vals: Array[String]) => {\n",
    "    val dVals = vals.map(_.toDouble)\n",
    "    val max = dVals.max\n",
    "    // creating little bar charts like this \"▁▂▃▄▅▆▇█\" + max\n",
    "    var bars = new StringBuilder\n",
    "    dVals.foreach( (v: Double) => {\n",
    "        val percent = v / max.toFloat\n",
    "\n",
    "        if (percent < 0.125)                          { bars ++= \"▁\"}\n",
    "        else if (percent >= 0.125 && percent < 0.250) { bars ++= \"▂\"}\n",
    "        else if (percent >= 0.250 && percent < 0.375) { bars ++= \"▃\"}\n",
    "        else if (percent >= 0.375 && percent < 0.500) { bars ++= \"▄\"}\n",
    "        else if (percent >= 0.500 && percent < 0.625) { bars ++= \"▅\"}\n",
    "        else if (percent >= 0.625 && percent < 0.750) { bars ++= \"▆\"}\n",
    "        else if (percent >= 0.750 && percent < 0.875) { bars ++= \"▇\"}\n",
    "        else                                          { bars ++= \"█\"}\n",
    "    })\n",
    "    bars.toString\n",
    "  }\n",
    "}"
   ]
  },
  {
   "cell_type": "code",
   "execution_count": null,
   "metadata": {},
   "outputs": [],
   "source": [
    "// Test locally... \n",
    "println(new tinyChart().tinyBars(Array(\"3\",\"5\", \"2\")))\n",
    "println(new tinyChart().tinyBars(Array(\"1\",\"12\", \"15\", \"17\")))\n",
    "println(new tinyChart().tinyBars(Array(\"1\",\"2\",\"3\",\"4\",\"5\",\"6\",\"7\",\"8\",\"7\",\"6\",\"5\",\"4\",\"3\",\"2\",\"1\")))"
   ]
  },
  {
   "cell_type": "markdown",
   "metadata": {},
   "source": [
    "### Progress: Check\n",
    "\n",
    "- [X] Creating a class that renders Unicode little bar charts (▁▆██)\n",
    "- [ ] Registering this UDF permanently with Snowflake (TINY_BARS)\n",
    "- [ ] Test a DataFrame using TINY_BARS"
   ]
  },
  {
   "cell_type": "markdown",
   "metadata": {},
   "source": [
    "## Register UDF in Snowflake\n",
    "\n",
    "Let's create the `MODELED.TINY_BARS` UDF in Snowflake.  We'll use `registerPermanent` to collect, upload our .jar and register a permanent named JavaUDF to Snowflake."
   ]
  },
  {
   "cell_type": "code",
   "execution_count": null,
   "metadata": {},
   "outputs": [],
   "source": [
    "session.udf.registerPermanent(\"modeled.TINY_BARS\", new tinyChart().tinyBars, \"RAW.JAVA_UDF_STAGE\")"
   ]
  },
  {
   "cell_type": "markdown",
   "metadata": {},
   "source": [
    "### Progress: Check\n",
    "\n",
    "- [X] Creating a class that renders Unicode little bar charts (▁▆██)\n",
    "- [X] Registering this UDF permanently with Snowflake (TINY_BARS)\n",
    "- [ ] Test a DataFrame using TINY_BARS\n",
    "\n",
    "Now, let's try out this new UDF. We do so by creating a new DataFrame from an array, and then invoking our function via callUDF to return a new DataFrame with an additional column - the output being a little bar chart representation of the data."
   ]
  },
  {
   "cell_type": "code",
   "execution_count": null,
   "metadata": {},
   "outputs": [],
   "source": [
    "session\n",
    "    .sql(\"select array_construct('1','5','17','10','20') as input_values\")\n",
    "    .withColumn(\"barchart\", callUDF(\"modeled.TINY_BARS\", col(\"input_values\")))\n",
    ".show"
   ]
  },
  {
   "cell_type": "markdown",
   "metadata": {},
   "source": [
    "### Progress: Check\n",
    "\n",
    "- [X] Creating a class that renders Unicode little bar charts (▁▆██)\n",
    "- [X] Registering this UDF permanently with Snowflake (TINY_BARS)\n",
    "- [X] Test a DataFrame using TINY_BARS"
   ]
  }
 ],
 "metadata": {
  "kernelspec": {
   "display_name": "Snowpark (Scala 2.12)",
   "language": "scala",
   "name": "scala"
  },
  "language_info": {
   "codemirror_mode": "text/x-scala",
   "file_extension": ".sc",
   "mimetype": "text/x-scala",
   "name": "scala",
   "nbconvert_exporter": "script",
   "version": "2.12.11"
  }
 },
 "nbformat": 4,
 "nbformat_minor": 4
}
