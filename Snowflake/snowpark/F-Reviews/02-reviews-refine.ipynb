{
 "cells": [
  {
   "cell_type": "markdown",
   "metadata": {},
   "source": [
    "# Reviews Refine\n",
    "\n",
    "In this lab section, we will be cleaning up the reviews we loaded into the `RAW.ALL_REVIEWS` table, to produce a conformed model. We will get the dates cleaned up and select a handful of columns for display. \n",
    "\n",
    "![](../assets/reviews_refine.gif)\n",
    "\n",
    "In this lab we will:\n",
    "\n",
    "- [ ] Build a DataFrame using a `sqlExpr` to clean and cast the date\n",
    "- [ ] Review (evaluate) the DataFrame to validate our work\n",
    "- [ ] Create a view using this DataFrame method `createOrReplaceView()`"
   ]
  },
  {
   "cell_type": "code",
   "execution_count": null,
   "metadata": {},
   "outputs": [],
   "source": [
    "import com.snowflake.snowpark._\n",
    "import com.snowflake.snowpark.functions._\n",
    "import com.snowflake.snowpark.types._"
   ]
  },
  {
   "cell_type": "code",
   "execution_count": null,
   "metadata": {},
   "outputs": [],
   "source": [
    "// Set connection properties built in de_snowpark/A-Dataframes/01-Sessions.ipynb\n",
    "val pwd = sys.env.get(\"PWD\").fold(\"\")(_.toString)\n",
    "val filename = s\"$pwd/de_snowpark/connect.properties\"\n",
    "\n",
    "val session = Session.builder.configFile(s\"$filename\").create\n",
    "\n",
    "// Set session to use the CONFORMED schema\n",
    "session.sql(\"use schema CONFORMED\").collect"
   ]
  },
  {
   "cell_type": "markdown",
   "metadata": {},
   "source": [
    "## Build DataFrame\n",
    "\n",
    "In the following we will generate a DataFrame from our loaded `RAW.ALL_REVIEWS` table, and then build a `sqlExpr` to augment our DataFrame.  While the list of [functions available in Snowpark](https://docs.snowflake.com/en/developer-guide/snowpark/reference/scala/com/snowflake/snowpark/functions$.html) is comprehensive, you can also use SQL expressions directly.  \n",
    "\n",
    "Here we move from the programmatic DataFrame syntax and intersperse a snippet of raw SQL to read and remove the ordinal English pronunciations (aka 3rd) from the dates in our DataFrame:\n",
    "\n",
    "```sql\n",
    "to_date(\n",
    " replace(replace(replace(replace(replace(\n",
    "   review_date, 'th'), 'st'), 'nd'), 'rd'), 'Augu', 'August')\n",
    " , 'DD MON YYYY')\n",
    "```\n"
   ]
  },
  {
   "cell_type": "code",
   "execution_count": null,
   "metadata": {},
   "outputs": [],
   "source": [
    "val conformedDF = session\n",
    "    .table(\"RAW.ALL_REVIEWS\")\n",
    "    .withColumn(\"REVIEW_DATE_TYPED\", sqlExpr(\"to_date(replace(replace(replace(replace(replace(review_date, 'th'), 'st'), 'nd'), 'rd'), 'Augu', 'August'), 'DD MON YYYY')\"))\n",
    "    .select(col(\"AIRLINE\"), col(\"OVERALL\"), col(\"REVIEW_DATE_TYPED\"), col(\"TRAVELLER_TYPE\"), col(\"CUSTOMER_REVIEW\"))"
   ]
  },
  {
   "cell_type": "markdown",
   "metadata": {},
   "source": [
    "<div class=\"alert alert-block alert-info\">\n",
    "<i class=\"fas fa-question fa-2x\"></i>\n",
    "    <b>Question:</b> The SQL expression has a column named <mark>review_date</mark>. What table did that come from, and what was its original form?  HINT: You can go into Snowflake and issue a SQL query on ALL_REVIEWS to explore.\n",
    "</div>"
   ]
  },
  {
   "cell_type": "markdown",
   "metadata": {},
   "source": [
    "### Progress Check\n",
    "- [X] Build a DataFrame using a `sqlExpr` to clean and cast the date\n",
    "- [ ] Review (evaluate) the DataFrame to validate our work\n",
    "- [ ] Create a view using this DataFrame method `createOrReplaceView()`"
   ]
  },
  {
   "cell_type": "markdown",
   "metadata": {},
   "source": [
    "## Evaluate and `show` the Results"
   ]
  },
  {
   "cell_type": "code",
   "execution_count": null,
   "metadata": {},
   "outputs": [],
   "source": [
    "conformedDF.show(10)"
   ]
  },
  {
   "cell_type": "markdown",
   "metadata": {},
   "source": [
    "<div class=\"alert alert-block alert-warning\">\n",
    "<i class=\"fas fa-search fa-2x\"></i>\n",
    "<b>SQL Sleuth</b>: Did you spy your raw SQL expression?  Copy and paste (and format) this into Snowflake and run this query.... Do you see what Snowpark is generating on your behalf?\n",
    "</div>"
   ]
  },
  {
   "cell_type": "markdown",
   "metadata": {},
   "source": [
    "### Progress Check\n",
    "- [X] Build a DataFrame using a `sqlExpr` to clean and cast the date\n",
    "- [X] Review (evaluate) the DataFrame to validate our work\n",
    "- [ ] Create a view using this DataFrame method `createOrReplaceView()`"
   ]
  },
  {
   "cell_type": "markdown",
   "metadata": {},
   "source": [
    "## Create a View from Our DataFrame\n",
    "\n",
    "You can build a DataFrame, and then make it available outside of Snowpark.  For instance, it's possible you may want to make this DataFrame or flow of data available to a BI tool.  Snowpark can help you take the definition of your DataFrame and [publish it as a Snowflake view](https://docs.snowflake.com/en/developer-guide/snowpark/reference/scala/com/snowflake/snowpark/DataFrame.html#createOrReplaceView(viewName:String):Unit) so it's available without someone needing to have Scala/Notebook access.  "
   ]
  },
  {
   "cell_type": "code",
   "execution_count": null,
   "metadata": {},
   "outputs": [],
   "source": [
    "conformedDF.createOrReplaceView(\"conformed.CLEAN_REVIEWS_VW\")"
   ]
  },
  {
   "cell_type": "markdown",
   "metadata": {},
   "source": [
    "\n",
    "### Progress Check\n",
    "- [X] Build a DataFrame using a `sqlExpr` to clean and cast the date\n",
    "- [X] Review (evaluate) the DataFrame to validate our work\n",
    "- [X] Create a view using this DataFrame method `createOrReplaceView()`"
   ]
  },
  {
   "cell_type": "markdown",
   "metadata": {},
   "source": [
    "## You Try It\n",
    "\n",
    "1. Head over to https://app.snowflake.com/ and login to the class Snowflake account using your animal name and password.\n",
    "Play around with and visualize the data available in the `CONFORMED.CLEAN_REVIEWS_VW`.\n",
    "\n",
    "1. See if you can recreate the same `CLEAN_REVIEW_VW` using no `sqlExpr`.\n",
    "Create a new DataFrame, and build the same output, but instead of using a SQL Expression, build the entire expression using Snowpark operators only [replace, to_date](https://docs.snowflake.com/en/developer-guide/snowpark/reference/scala/com/snowflake/snowpark/functions$.html)"
   ]
  }
 ],
 "metadata": {
  "kernelspec": {
   "display_name": "Snowpark (Scala 2.12)",
   "language": "scala",
   "name": "scala"
  },
  "language_info": {
   "codemirror_mode": "text/x-scala",
   "file_extension": ".sc",
   "mimetype": "text/x-scala",
   "name": "scala",
   "nbconvert_exporter": "script",
   "version": "2.12.11"
  }
 },
 "nbformat": 4,
 "nbformat_minor": 4
}
