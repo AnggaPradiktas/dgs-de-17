{
 "cells": [
  {
   "cell_type": "markdown",
   "metadata": {},
   "source": [
    "# Reviews (Publish)\n",
    "\n",
    "In this section, we are going to create a couple of views that SnowBearAir dashboard developers will use to drive an executive dashboard for sentiments.\n",
    "\n",
    "In particular, we will create:\n",
    "\n",
    "* `AVG_OVERALL_SCORE_VW` : This details how SnowBearAir is doing, compared to our peers, in terms of overall scores submitted with reviews.\n",
    "* `LAST_TWENTY_SENTIMENT_VW` : This will take the most recent reviews, and using our sentiment analysis UDF, provide some additional data and ▁▆██▅█▄.\n",
    "\n",
    "Our goal is to use Snowpark, along with the other UDFs we have created (`ANALYZE_TEXT`, and `TINY_BARS`), to build these views suitable for publishing in our dashboard.\n",
    "\n",
    "- [ ] Build a DataFrame for Overall Scores\n",
    "- [ ] Publish as `AVG_OVERALL_SCORE_VW`\n",
    "- [ ] Build a DataFrame and process sentiment, and visualize sentence sentiments\n",
    "- [ ] Publish as `LAST_TWENTY_SENTIMENT_VW`\n",
    "\n",
    "![](../assets/reviews_publish.gif)\n",
    "\n"
   ]
  },
  {
   "cell_type": "code",
   "execution_count": null,
   "metadata": {},
   "outputs": [],
   "source": [
    "import com.snowflake.snowpark._\n",
    "import com.snowflake.snowpark.functions._\n",
    "import com.snowflake.snowpark.types._"
   ]
  },
  {
   "cell_type": "code",
   "execution_count": null,
   "metadata": {},
   "outputs": [],
   "source": [
    "// Set connection properties built in de_snowpark/A-Dataframes/01-Sessions.ipynb\n",
    "val pwd = sys.env.get(\"PWD\").fold(\"\")(_.toString)\n",
    "val filename = s\"$pwd/de_snowpark/connect.properties\"\n",
    "\n",
    "val session = Session.builder.configFile(s\"$filename\").create\n",
    "\n",
    "// Set schema for this session to MODELED\n",
    "session.sql(\"use schema MODELED\").collect"
   ]
  },
  {
   "cell_type": "markdown",
   "metadata": {},
   "source": [
    "### Average Overall Score by Airline\n",
    "\n",
    "First, let's load the view created in the previous lab (note the use of the table() method to load views) and `transform` this data with aggregations to return a new DataFrame: grouping by airline, computing mean overall_rating, and sorting the result."
   ]
  },
  {
   "cell_type": "code",
   "execution_count": null,
   "metadata": {},
   "outputs": [],
   "source": [
    "val overallScoreByAirlineDF = session\n",
    "    .table(\"CONFORMED.CLEAN_REVIEWS_VW\")\n",
    "    .groupBy(col(\"airline\"))\n",
    "    .agg(mean(col(\"OVERALL\")).as(\"OVERALL_RATING\"))\n",
    "    .sort(col(\"OVERALL_RATING\").desc)"
   ]
  },
  {
   "cell_type": "code",
   "execution_count": null,
   "metadata": {},
   "outputs": [],
   "source": [
    "overallScoreByAirlineDF.show(20)"
   ]
  },
  {
   "cell_type": "markdown",
   "metadata": {},
   "source": [
    "### Progress Check\n",
    "\n",
    "- [X] Build a DataFrame for Overall Scores\n",
    "- [ ] Publish as `AVG_OVERALL_SCORE_VW`\n",
    "- [ ] Build a DataFrame and process sentiment, and visualize sentence sentiments\n",
    "- [ ] Publish as `LAST_TWENTY_SENTIMENT_VW`\n",
    "\n",
    "To generate a (permanent) view based on our DataFrame we invoke the following method:"
   ]
  },
  {
   "cell_type": "code",
   "execution_count": null,
   "metadata": {},
   "outputs": [],
   "source": [
    "overallScoreByAirlineDF\n",
    "    .createOrReplaceView(\"modeled.AVG_OVERALL_SCORE_VW\")"
   ]
  },
  {
   "cell_type": "markdown",
   "metadata": {},
   "source": [
    "<div class=\"alert alert-block alert-info\">\n",
    "<i class=\"fas fa-chart-line fa-2x\"></i>\n",
    "    Head over to <a href=\"https://app.snowflake.com/\">app.snowflake.com</a> and login to the class Snowflake account using your animal name and password. Play around with and visualize the data available in the new view. What is the top airline in terms of overall customer score?\n",
    "</div>"
   ]
  },
  {
   "cell_type": "markdown",
   "metadata": {},
   "source": [
    "### Progress Check\n",
    "\n",
    "- [X] Build a DataFrame for Overall Scores\n",
    "- [X] Publish as `AVG_OVERALL_SCORE_VW`\n",
    "- [ ] Build a DataFrame and process sentiment, and visualize sentence sentiments\n",
    "- [ ] Publish as `LAST_TWENTY_SENTIMENT_VW`"
   ]
  },
  {
   "cell_type": "markdown",
   "metadata": {},
   "source": [
    "# Sentiment and ▁▆██▅█▄ \n",
    "\n",
    "Now let's generate a new DataFrame, which again calls on the view we created in the previous lab. Filter on records for `SnowBearAir`, and add an additional column passing in the customer_review text to the sentiment analysis UDF created earlier. Visualize the result in a new DataFrame which also includes the `TINY_BAR` graphical output based on the input data."
   ]
  },
  {
   "cell_type": "code",
   "execution_count": null,
   "metadata": {},
   "outputs": [],
   "source": [
    "val sentimentLastTwentyReviewsDF = session\n",
    "    .table(\"CONFORMED.CLEAN_REVIEWS_VW\")\n",
    "    .filter(col(\"AIRLINE\") === \"SnowBearAir\")\n",
    "    .sort(col(\"REVIEW_DATE_TYPED\").desc)\n",
    "    .limit(20)\n",
    "    .withColumn(\"SENTIMENT\", callUDF(\"RAW.ANALYZE_TEXT\", substring(col(\"CUSTOMER_REVIEW\"), lit(1), lit(200))))"
   ]
  },
  {
   "cell_type": "code",
   "execution_count": null,
   "metadata": {},
   "outputs": [],
   "source": [
    "sentimentLastTwentyReviewsDF.show()"
   ]
  },
  {
   "cell_type": "code",
   "execution_count": null,
   "metadata": {},
   "outputs": [],
   "source": [
    "val sentWithBarsDF = sentimentLastTwentyReviewsDF\n",
    "    .select(Seq(\n",
    "        col(\"REVIEW_DATE_TYPED\").as(\"REVIEW_DATE\")\n",
    "        ,as_double(col(\"SENTIMENT\")(\"AVERAGE_SENTIMENT\")).as(\"AVG_SENTIMENT\")\n",
    "        ,col(\"CUSTOMER_REVIEW\")\n",
    "        ,as_array(col(\"SENTIMENT\")(\"SENTIMENTS\")).as(\"SENTIMENT_INTS\")\n",
    "    ))\n",
    "    .withColumn(\"SENTIMENT_HISTOGRAM\", callUDF(\"MODELED.TINY_BARS\", col(\"SENTIMENT_INTS\")))\n",
    "    .select(Seq(\n",
    "        col(\"REVIEW_DATE\")\n",
    "        ,col(\"SENTIMENT_HISTOGRAM\")\n",
    "        ,col(\"AVG_SENTIMENT\")\n",
    "        ,col(\"CUSTOMER_REVIEW\")\n",
    "    ))"
   ]
  },
  {
   "cell_type": "code",
   "execution_count": null,
   "metadata": {},
   "outputs": [],
   "source": [
    "sentWithBarsDF.show(20)"
   ]
  },
  {
   "cell_type": "markdown",
   "metadata": {},
   "source": [
    "### Progress Check\n",
    "\n",
    "- [X] Build a DataFrame for Overall Scores\n",
    "- [X] Publish as `AVG_OVERALL_SCORE_VW`\n",
    "- [X] Build a DataFrame and process sentiment, and visualize sentence sentiments\n",
    "- [ ] Publish as `LAST_TWENTY_SENTIMENT_VW`\n",
    "\n",
    "Finally, let's generate a (permanent) view based on our DataFrame to publish our output:"
   ]
  },
  {
   "cell_type": "code",
   "execution_count": null,
   "metadata": {},
   "outputs": [],
   "source": [
    "sentWithBarsDF\n",
    "    .createOrReplaceView(\"modeled.LAST_TWENTY_SENTIMENT_VW\")"
   ]
  },
  {
   "cell_type": "markdown",
   "metadata": {},
   "source": [
    "### Progress Check\n",
    "\n",
    "- [X] Build a DataFrame for Overall Scores\n",
    "- [X] Publish as `AVG_OVERALL_SCORE_VW`\n",
    "- [X] Build a DataFrame and process sentiment, and visualize sentence sentiments\n",
    "- [X] Publish as `LAST_TWENTY_SENTIMENT_VW`"
   ]
  },
  {
   "cell_type": "markdown",
   "metadata": {},
   "source": [
    "## You Try It\n",
    "\n",
    "Navigate to <a href=\"https://app.snowflake.com/\">app.snowflake.com</a> again and and create the most interesting dashboard you can, using any of the objects/data/views we have created.\n",
    "\n",
    "\n",
    "![](../assets/reviews_model_snowsight.png)"
   ]
  }
 ],
 "metadata": {
  "kernelspec": {
   "display_name": "Snowpark (Scala 2.12)",
   "language": "scala",
   "name": "scala"
  },
  "language_info": {
   "codemirror_mode": "text/x-scala",
   "file_extension": ".sc",
   "mimetype": "text/x-scala",
   "name": "scala",
   "nbconvert_exporter": "script",
   "version": "2.12.11"
  }
 },
 "nbformat": 4,
 "nbformat_minor": 4
}
