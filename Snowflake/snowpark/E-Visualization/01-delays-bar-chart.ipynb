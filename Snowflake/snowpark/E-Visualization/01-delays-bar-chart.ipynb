{
 "cells": [
  {
   "cell_type": "markdown",
   "id": "287fcfd8-70cc-45c3-a99f-f35aa45101ec",
   "metadata": {},
   "source": [
    "# Scala Visualization\n",
    "\n",
    "In this section, we are going to make use of an existing graphing library in Scala, to visualize a dataset showing `Delay in Minutes` for a sample of flights from Seattle to San Francisco."
   ]
  },
  {
   "cell_type": "code",
   "execution_count": null,
   "id": "9ea4e654-947b-47a8-8ca6-7003425a74d7",
   "metadata": {},
   "outputs": [],
   "source": [
    "import com.snowflake.snowpark._\n",
    "import com.snowflake.snowpark.functions._\n",
    "import com.snowflake.snowpark.types._\n",
    "\n",
    "// Set connection properties built in de_snowpark/A-Dataframes/01-Sessions.ipynb\n",
    "val pwd = sys.env.get(\"PWD\").fold(\"\")(_.toString)\n",
    "val filename = s\"$pwd/de_snowpark/connect.properties\"\n",
    "\n",
    "val session = Session.builder.configFile(s\"$filename\").create\n",
    "\n",
    "// Set session to use the RAW schema\n",
    "session.sql(\"use schema RAW\").collect"
   ]
  },
  {
   "cell_type": "markdown",
   "id": "26d36bc8-5561-4063-909f-e3b261cbbb09",
   "metadata": {},
   "source": [
    "## Build DataFrame and Review\n",
    "\n",
    "First, we want to construct a new DataFrame by loading data for the Seattle (SEA) to San Francisco (SFO) flights from 2019. We then select a subset of columns and aggregate, producing new DataFrames, grouping by `OP_CARRIER`, computing max, min and mean values, and ordering the output. The resultant DataFrame can then be reviewed."
   ]
  },
  {
   "cell_type": "code",
   "execution_count": null,
   "id": "baaf7284-7b4d-4626-aa31-f7a3b85ca935",
   "metadata": {},
   "outputs": [],
   "source": [
    "val SEAtoSFODelayStatsDF =  session.table(\"raw.ONTIME_REPORTING\")\n",
    "                            .filter(col(\"YEAR\") === 2019 &&                 \n",
    "                                      col(\"ORIGIN\") === \"SEA\" && \n",
    "                                      col(\"DEST\") === \"SFO\")\n",
    "                            .select(                                    \n",
    "                                       col(\"ARR_DELAY\").cast(IntegerType) as \"ARR_DELAY\",\n",
    "                                       col(\"DEP_DELAY\").cast(IntegerType) as \"DEP_DELAY\",\n",
    "                                       col(\"ORIGIN\"), \n",
    "                                       col(\"DEST\"),\n",
    "                                       col(\"OP_CARRIER\")\n",
    "                            )\n",
    "                            .groupBy(\"OP_CARRIER\")\n",
    "                            .agg(\n",
    "                                max(col(\"ARR_DELAY\")),\n",
    "                                min(col(\"ARR_DELAY\")),\n",
    "                                mean(col(\"ARR_DELAY\")).as(\"AVG_ARR_DELAY\")\n",
    "                            )\n",
    "                            .sort (col(\"AVG_ARR_DELAY\").desc)\n",
    "\n"
   ]
  },
  {
   "cell_type": "code",
   "execution_count": null,
   "id": "4596a036-1232-46b3-b446-5f3558c77a2b",
   "metadata": {},
   "outputs": [],
   "source": [
    "var rows = SEAtoSFODelayStatsDF.collect()\n",
    "SEAtoSFODelayStatsDF.schema"
   ]
  },
  {
   "cell_type": "markdown",
   "id": "58bbbc8d-252e-4a59-be02-af77d38de66d",
   "metadata": {},
   "source": [
    "## Create Scala Method\n",
    "\n",
    "In the following code we import the open-source [EvilPlot data visualization library](https://cibotech.github.io/evilplot/), which is written in Scala, defining a new method which we will call with parameters, to make use of specific functionality from this library:"
   ]
  },
  {
   "cell_type": "code",
   "execution_count": null,
   "id": "57a21a83-c76b-480c-a57a-00697b925eee",
   "metadata": {},
   "outputs": [],
   "source": [
    "import $ivy.`io.github.cibotech::evilplot:0.8.1`\n",
    "def showPlot(plot: com.cibo.evilplot.geometry.Drawable) =\n",
    "  Image.fromRenderedImage(plot.asBufferedImage, Image.PNG)"
   ]
  },
  {
   "cell_type": "markdown",
   "id": "9ee3d8f6-a3e5-43f9-a914-7c7548099cfd",
   "metadata": {},
   "source": [
    "## Render Output\n",
    "\n",
    "Finally, we can take the array output from our DataFrame, `rows`, and pass this data into the visualisation routine run to in Scala, producing graphical output. `OP_CARRIER` is used for the x-axis value, and `AVG_ARR_DELAY` (average arrival delay) for the y-axis. We can then review the bar chart displaying `Delay in Minutes` for a sample of flights from Seattle to San Francisco."
   ]
  },
  {
   "cell_type": "code",
   "execution_count": null,
   "id": "e0421a6f-0d97-4884-b558-090f862212c5",
   "metadata": {},
   "outputs": [],
   "source": [
    "import com.cibo.evilplot.plot._\n",
    "import com.cibo.evilplot.plot.aesthetics.DefaultTheme._\n",
    "\n",
    "val delaysPlot = BarChart(\n",
    "       rows.map(r => r.getDecimal(3).doubleValue() * -1)\n",
    "   )\n",
    "  .title(\"Seattle to San Francisco (Delayed Minutes)\")\n",
    "  .xAxis(\n",
    "      rows.map(r => r.getString(0))\n",
    "  )\n",
    "  .yAxis()\n",
    "  .frame()\n",
    "  .bottomLegend()\n",
    "  .render()\n",
    "\n",
    "\n",
    "showPlot(delaysPlot)"
   ]
  }
 ],
 "metadata": {
  "kernelspec": {
   "display_name": "Snowpark (Scala 2.12)",
   "language": "scala",
   "name": "scala"
  },
  "language_info": {
   "codemirror_mode": "text/x-scala",
   "file_extension": ".sc",
   "mimetype": "text/x-scala",
   "name": "scala",
   "nbconvert_exporter": "script",
   "version": "2.12.11"
  }
 },
 "nbformat": 4,
 "nbformat_minor": 5
}
