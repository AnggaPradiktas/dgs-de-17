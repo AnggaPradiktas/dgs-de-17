{
 "cells": [
  {
   "cell_type": "markdown",
   "id": "7fa4c4a7-a551-4c66-8775-d64329acaeb5",
   "metadata": {},
   "source": [
    "# Snowpark Sessions\n",
    "\n",
    "A **session** is an entry point for the DataFrame API. It holds a connection to a Snowflake instance. A session can be initialized by providing a config file or a Map of config properties. You can set any parameters supported by the JDBC Driver. (For a list of these parameters, see [Connection Parameters](https://docs.snowflake.com/en/user-guide/jdbc-configure.html#connection-parameters) in the JDBC driver documentation.)\n",
    "\n",
    "In this Notebook you create a connection properties file to define the Snowpark connection parameters, and this will also be used in the following labs.\n",
    "\n",
    "---"
   ]
  },
  {
   "cell_type": "markdown",
   "id": "c389e04a-bb6f-47b9-a50a-726390a98c9b",
   "metadata": {},
   "source": [
    "## Initialize Account and User parameters \n",
    "\n",
    "Update the variable values below with your Snowflake account name, user name and password."
   ]
  },
  {
   "cell_type": "code",
   "execution_count": null,
   "id": "4d8801a0-bd10-45bb-a585-1cb3f857d59f",
   "metadata": {},
   "outputs": [],
   "source": [
    "val acct    = \"<your_snowflake_account_name>\" // account\n",
    "val user    = \"<your_snowflake_username>\"     // user\n",
    "val pw      = new Password(\"PASSWORD_YOU_SET_IN_SNOWFLAKE\") // password"
   ]
  },
  {
   "cell_type": "markdown",
   "id": "789ce1ae-8712-4db0-a92f-096b593b103f",
   "metadata": {},
   "source": [
    "## Generate a Connection Properties File\n",
    "\n",
    "\n",
    "```\n",
    "# connect.properties file (a text file)\n",
    "URL = https://<account>.snowflakecomputing.com\n",
    "USER = <username>\n",
    "PASSWORD = <secret>\n",
    "...\n",
    "```\n",
    "\n",
    "Any additional JDBC parameters (see [Connection Parameters](https://docs.snowflake.com/en/user-guide/jdbc-configure.html#connection-parameters) in the JDBC driver documentation) needed to connect to Snowflake can be specified (e.g. USER, ROLE, WAREHOUSE, DB, SCHEMA, etc.).\n",
    "\n",
    "Using the locally defined variables, generate a properties file that contains the session properties and pass it to the session.\n",
    "Note: you do not have to add anything to the following code block, simply run it to generate the config file."
   ]
  },
  {
   "cell_type": "code",
   "execution_count": null,
   "id": "30267edc-084f-460d-a201-86c4b45f9d49",
   "metadata": {},
   "outputs": [],
   "source": [
    "import java.io._\n",
    "\n",
    "// Create a Map to store the connection properties\n",
    "var connectionMap = Map(\n",
    "    \"URL\" -> s\"https://$acct.snowflakecomputing.com\",\n",
    "    \"USER\" -> user,\n",
    "    \"PASSWORD\" -> pw.value,\n",
    "    \"WAREHOUSE\" -> user.concat(\"_wh\"),\n",
    "    \"DB\" -> user.concat(\"_db\"),\n",
    "    \"SCHEMA\" -> \"raw\"\n",
    "    )\n",
    "\n",
    "// Write the properties key value pairs to a file\n",
    "val pwd = sys.env.get(\"PWD\").fold(\"\")(_.toString)\n",
    "val filename = s\"$pwd/de_snowpark/connect.properties\"\n",
    "val file = new File(filename)\n",
    "val bw = new BufferedWriter(new FileWriter(file))\n",
    "\n",
    "bw.write(\"# connect.properties file (a text file)\\n\")\n",
    "\n",
    "connectionMap.keys.foreach{ i => \n",
    "    val value = connectionMap.get(i).fold(\"\")(_.toString)\n",
    "    bw.write( s\"$i = $value\\n\") }\n",
    "\n",
    "bw.close()\n"
   ]
  },
  {
   "cell_type": "markdown",
   "id": "d5890f75-8845-4877-a9ab-9f171a21d21a",
   "metadata": {},
   "source": [
    "---\n",
    "## Create a Session \n",
    "\n",
    "Create a SessionBuilder object and pass in the connection properties filename and create a Snowpark session."
   ]
  },
  {
   "cell_type": "code",
   "execution_count": null,
   "id": "042c4225-f13e-42c5-ac47-2f03e059f2cb",
   "metadata": {},
   "outputs": [],
   "source": [
    "import com.snowflake.snowpark._\n",
    "\n",
    "val session = Session.builder.configFile(s\"$filename\").create"
   ]
  },
  {
   "cell_type": "markdown",
   "id": "f5417b61-0363-450a-8f3e-9f26f972b6cc",
   "metadata": {},
   "source": [
    "---\n",
    "## Get Session Values\n",
    "\n",
    "Use the session object to get the current database, schema and query tag values.\n"
   ]
  },
  {
   "cell_type": "code",
   "execution_count": null,
   "id": "67cd6c76-4ad3-4dc0-8f2f-b498de398e8f",
   "metadata": {},
   "outputs": [],
   "source": [
    "var currentDb = session.getCurrentDatabase.fold(\"\")(_.toString)\n",
    "println(s\"The current database is $currentDb\")\n",
    "\n",
    "var currentSchema = session.getCurrentSchema.fold(\"\")(_.toString)\n",
    "println(s\"The current schema is $currentSchema\")\n",
    "\n",
    "var currentTag = session.getQueryTag\n",
    "println(s\"The current query tag is $currentTag\")"
   ]
  },
  {
   "cell_type": "markdown",
   "id": "68d76ecf-4c66-4055-99ae-eff2bc74fd35",
   "metadata": {},
   "source": [
    "---\n",
    "## Define a Session Query Tag\n",
    "\n",
    "Define a query tag variable and generate the query tag value.\n",
    "\n",
    "Set the session query tag."
   ]
  },
  {
   "cell_type": "code",
   "execution_count": null,
   "id": "dbd3ae33-85c1-4592-a54e-9a9afa1286c3",
   "metadata": {},
   "outputs": [],
   "source": [
    "var userQueryTag = \"SNOWPARK_\".concat( sys.env.get(\"JUPYTERHUB_USER\") .fold(\"\")(_.toString) .toUpperCase())\n",
    "\n",
    "session.setQueryTag(userQueryTag)\n",
    "\n",
    "var currentTag = session.getQueryTag.fold(\"\")(_.toString)\n",
    "println(s\"The current query tag is $currentTag\")"
   ]
  }
 ],
 "metadata": {
  "kernelspec": {
   "display_name": "Snowpark (Scala 2.12)",
   "language": "scala",
   "name": "scala"
  },
  "language_info": {
   "codemirror_mode": "text/x-scala",
   "file_extension": ".sc",
   "mimetype": "text/x-scala",
   "name": "scala",
   "nbconvert_exporter": "script",
   "version": "2.12.11"
  }
 },
 "nbformat": 4,
 "nbformat_minor": 5
}
