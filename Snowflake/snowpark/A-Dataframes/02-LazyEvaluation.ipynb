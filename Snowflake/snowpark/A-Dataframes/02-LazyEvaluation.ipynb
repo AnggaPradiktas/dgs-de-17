{
 "cells": [
  {
   "cell_type": "markdown",
   "id": "7fa4c4a7-a551-4c66-8775-d64329acaeb5",
   "metadata": {},
   "source": [
    "# Snowpark Lazy Evaluation\n",
    "\n",
    "Snowpark SQL statements are executed lazily on the server, which reduces the amount of data transferred between your client and Snowflake.\n",
    "\n",
    "The core abstraction in Snowpark is the DataFrame, which represents a set of data and provides methods to operate on that data. In your client code, you construct a DataFrame object and specify the data that you want to make use of (e.g., the columns containing the data, the filter to apply to rows, aggregations, etc).\n",
    "\n",
    "The data is not retrieved at the time when you construct the DataFrame object. Instead, when you are ready to retrieve the data, you can perform an action that evaluates the DataFrame objects and sends the corresponding SQL statements to Snowflake for execution.\n",
    "\n",
    "---\n",
    "\n",
    "## Create a DataFrame from a SQL Query\n",
    "\n",
    "To construct a DataFrame from a SQL query,  use the `sql` method in the Session class. \n"
   ]
  },
  {
   "cell_type": "markdown",
   "id": "287fcfd8-70cc-45c3-a99f-f35aa45101ec",
   "metadata": {},
   "source": [
    "### Create a Session\n",
    "---\n",
    "\n",
    "Create a Snowpark Session by passing in the connection properties file created in the [first lab exercise](../A-Dataframes/01-Sessions.ipynb)."
   ]
  },
  {
   "cell_type": "code",
   "execution_count": null,
   "id": "dbcf2acc-cf91-460b-8332-36efe3fa1880",
   "metadata": {},
   "outputs": [],
   "source": [
    "import com.snowflake.snowpark._\n",
    "import com.snowflake.snowpark.functions._\n",
    "import com.snowflake.snowpark.types._\n",
    "\n",
    "// Set connection properties file variable\n",
    "val pwd = sys.env.get(\"PWD\").fold(\"\")(_.toString)\n",
    "val filename = s\"$pwd/de_snowpark/connect.properties\"\n",
    "\n",
    "val session = Session.builder.configFile(s\"$filename\").create\n"
   ]
  },
  {
   "cell_type": "markdown",
   "id": "aef9f159-2598-48c5-8f80-d543d51e44e1",
   "metadata": {},
   "source": [
    "Create a DataFrame that details the warehouses in your account for which you have access privileges."
   ]
  },
  {
   "cell_type": "code",
   "execution_count": null,
   "id": "67cd6c76-4ad3-4dc0-8f2f-b498de398e8f",
   "metadata": {},
   "outputs": [],
   "source": [
    "val warehouseDF = session.sql(\"show warehouses\")"
   ]
  },
  {
   "cell_type": "markdown",
   "id": "16ec353e-4b2b-446e-a705-9b9a8823cbd9",
   "metadata": {},
   "source": [
    "### Retrieving Column Definitions\n",
    "\n",
    "To retrieve the definition of the columns in the dataset for the DataFrame, call the schema method. This method returns a StructType object that contains an Array of StructField objects. Each StructField object contains the definition of a column.\n",
    "\n",
    "Call the schema function on the warehouseDF DataFrame to see the column names of the `show` command output as a table.\n"
   ]
  },
  {
   "cell_type": "code",
   "execution_count": null,
   "id": "f735a12f-1214-4652-a2ee-8a62047224d7",
   "metadata": {},
   "outputs": [],
   "source": [
    "warehouseDF.schema"
   ]
  },
  {
   "cell_type": "markdown",
   "id": "ce30d74e-1317-4a6c-998e-091c4218a411",
   "metadata": {},
   "source": [
    "Actions cause the DataFrame to be evaluated. When you call a method that performs an action, Snowpark sends the SQL query for the DataFrame to the server for evaluation.  \n",
    "\n",
    "---\n",
    "\n",
    "### Evaluate the Dataframe \n",
    "\n",
    "Run the `count` and `show` actions to cause the `warehouseDF` DataFrame to be evaluated.\n",
    "\n",
    "Examine the ```SnowflakePlan``` and view the SQL query Snowpark sends to Snowflake for evaluation.\n",
    "\n",
    "Note the addition of escape characters in the following to wrap column identifiers which are not upper case in Snowflake.\n"
   ]
  },
  {
   "cell_type": "code",
   "execution_count": null,
   "id": "7f008cde-35b3-45eb-bab2-5faa6ec339d0",
   "metadata": {},
   "outputs": [],
   "source": [
    "val num = warehouseDF.count()\n",
    "println ( s\"Number of warehouses: $num\")\n",
    "\n",
    "warehouseDF.select( col(\"\\\"name\\\"\"),col(\"\\\"state\\\"\"),col(\"\\\"size\\\"\")).show()"
   ]
  },
  {
   "cell_type": "markdown",
   "id": "9a1c3d2f-5981-4677-ab46-32f5e111e860",
   "metadata": {},
   "source": [
    "### Perform Operations Using a DataFrame\n",
    "\n",
    "Filter the `warehouseDF` DataFrame and execute the following SQL command to suspend any warehouse in the STARTED state."
   ]
  },
  {
   "cell_type": "code",
   "execution_count": null,
   "id": "4c7cbb19-0db1-4d53-8f88-15625c66e4d8",
   "metadata": {},
   "outputs": [],
   "source": [
    "val startedWarehouseDF = warehouseDF.select( col(\"\\\"name\\\"\"),col(\"\\\"state\\\"\"),col(\"\\\"size\\\"\"))\n",
    "    .filter(col(\"\\\"state\\\"\") === \"STARTED\" )\n",
    "\n",
    "var startedWarehouseArray = startedWarehouseDF.collect()\n",
    "\n",
    "\n",
    "for (wh <- startedWarehouseArray) {\n",
    "    var name = wh.get(0)\n",
    "    println(s\"Suspending warehouse: $name \")\n",
    "    session.sql(s\"alter warehouse $name suspend\").collect\n",
    "}\n"
   ]
  },
  {
   "cell_type": "markdown",
   "id": "0b19f9e9-480d-4255-8f1b-b2cddc079fff",
   "metadata": {},
   "source": [
    "---\n",
    "## Create a DataFrame from a Table\n",
    "\n",
    "To construct a DataFrame on a table,  use the `table` method in the Session class. \n",
    "\n",
    "Note that this same method is also used for Views and Streams."
   ]
  },
  {
   "cell_type": "code",
   "execution_count": null,
   "id": "d29c69a6-433c-41ad-9c02-d09853031fb0",
   "metadata": {},
   "outputs": [],
   "source": [
    "val onTimeFlightsDF = session.table(\"raw.ONTIME_REPORTING\")"
   ]
  },
  {
   "cell_type": "markdown",
   "id": "f541ea79-fac8-411b-827d-8d7cdb300586",
   "metadata": {},
   "source": [
    "Evaluate the DataFrame by calling the `count` method:"
   ]
  },
  {
   "cell_type": "code",
   "execution_count": null,
   "id": "43b2664e-3f66-42eb-adb2-4d98c3725179",
   "metadata": {},
   "outputs": [],
   "source": [
    "onTimeFlightsDF.count()"
   ]
  },
  {
   "cell_type": "markdown",
   "id": "a91e3f0f-9a67-4df5-9ff5-a0a2f28fcf5f",
   "metadata": {},
   "source": [
    "---\n",
    "## Create a DataFrame from a Sequence\n",
    "\n",
    "To construct a DataFrame from a sequence use the `createDataFrame` method in the Session class. "
   ]
  },
  {
   "cell_type": "code",
   "execution_count": null,
   "id": "9a9ebd3e-2f58-4f35-9ff3-a75992fc2789",
   "metadata": {},
   "outputs": [],
   "source": [
    "val carrierLookupDF = session.createDataFrame( Seq((\"AA\",\"American Airlines Inc.\"), \n",
    "                                         (\"FDN\",\"SnowBear Air \"),\n",
    "                                         (\"G4\",\"Allegiant Air\"),\n",
    "                                         (\"EV\",\"ExpressJet Airlines LLC\"),\n",
    "                                         (\"UA\",\"United Air Lines Inc.\"),\n",
    "                                         (\"NK\",\"Spirit Air Lines\"),\n",
    "                                         (\"OO\",\"SkyWest Airlines Inc.\"),\n",
    "                                         (\"HA\",\"Hawaiian Airlines Inc.\"),\n",
    "                                         (\"OH\",\"PSA Airlines Inc.\"),\n",
    "                                         (\"YX\",\"Republic Airline\"),\n",
    "                                         (\"AS\",\"Alaska Airlines Inc.\"),\n",
    "                                         (\"9E\",\"Endeavor Air Inc.\"), \n",
    "                                        )).toDF(\"CODE\", \"DESCRIPTION\")\n",
    "\n"
   ]
  },
  {
   "cell_type": "markdown",
   "id": "6930196d-75b4-498f-baca-c302271eb261",
   "metadata": {},
   "source": [
    "Evaluate the DataFrame by calling the `show` method."
   ]
  },
  {
   "cell_type": "code",
   "execution_count": null,
   "id": "5655f806-bee2-422a-a7e7-72113c012897",
   "metadata": {},
   "outputs": [],
   "source": [
    "carrierLookupDF.show()"
   ]
  }
 ],
 "metadata": {
  "kernelspec": {
   "display_name": "Snowpark (Scala 2.12)",
   "language": "scala",
   "name": "scala"
  },
  "language_info": {
   "codemirror_mode": "text/x-scala",
   "file_extension": ".sc",
   "mimetype": "text/x-scala",
   "name": "scala",
   "nbconvert_exporter": "script",
   "version": "2.12.11"
  }
 },
 "nbformat": 4,
 "nbformat_minor": 5
}
