{
 "cells": [
  {
   "cell_type": "markdown",
   "id": "7fa4c4a7-a551-4c66-8775-d64329acaeb5",
   "metadata": {},
   "source": [
    "# Snowpark GroupBy Transformations\n",
    "\n",
    "Snowpark API provides a Relational Grouped Data Frame to represent an underlying DataFrame with rows that are grouped by common values. \n",
    "\n",
    "These RelationalGroupedDataFrame objects can be used to define aggregations on these grouped DataFrames.\n",
    "\n",
    "---\n"
   ]
  },
  {
   "cell_type": "markdown",
   "id": "287fcfd8-70cc-45c3-a99f-f35aa45101ec",
   "metadata": {},
   "source": [
    "### Create a Session\n",
    "---\n",
    "\n",
    "Create a Snowpark Session by passing in the connection properties file created in the [first lab exercise](../A-Dataframes/01-Sessions.ipynb)."
   ]
  },
  {
   "cell_type": "code",
   "execution_count": null,
   "id": "9ea4e654-947b-47a8-8ca6-7003425a74d7",
   "metadata": {},
   "outputs": [],
   "source": [
    "import com.snowflake.snowpark._\n",
    "import com.snowflake.snowpark.functions._\n",
    "import com.snowflake.snowpark.types._\n",
    "\n",
    "// Set connection properties file variable\n",
    "val pwd = sys.env.get(\"PWD\").fold(\"\")(_.toString)\n",
    "val filename = s\"$pwd/de_snowpark/connect.properties\"\n",
    "\n",
    "val session = Session.builder.configFile(s\"$filename\").create"
   ]
  },
  {
   "cell_type": "markdown",
   "id": "16ec353e-4b2b-446e-a705-9b9a8823cbd9",
   "metadata": {},
   "source": [
    "\n",
    "---\n",
    "### Create DataFrame from a Table\n",
    "\n",
    "Create a DataFrame that contains the following:\n",
    "\n",
    "* Use the ONTIME_REPORTING table\n",
    "* Return the rows with YEAR = 2019 and ORIGIN = SEA and DEST = SFO\n",
    "* Select the YEAR, QUARTER, ARR_DELAY, DEP_DELAY, FL_DATE, ORIGIN, DEST, OP_CARRIER, and TAIL_NUM columns\n",
    "* Retrieve the definition of the columns in this dataset\n"
   ]
  },
  {
   "cell_type": "code",
   "execution_count": null,
   "id": "f735a12f-1214-4652-a2ee-8a62047224d7",
   "metadata": {},
   "outputs": [],
   "source": [
    "var SEAtoSFO2019DF =  session.table(\"raw.ONTIME_REPORTING\")\n",
    "                            .select(col(\"YEAR\"),\n",
    "                                       col(\"QUARTER\"),\n",
    "                                       col(\"ARR_DELAY\"),\n",
    "                                       col(\"DEP_DELAY\"),\n",
    "                                       col(\"FL_DATE\"), \n",
    "                                       col(\"ORIGIN\"), \n",
    "                                       col(\"DEST\"),\n",
    "                                       col(\"OP_CARRIER\"),\n",
    "                                       col(\"TAIL_NUM\"))\n",
    "                             .filter(col(\"YEAR\") === 2019 &&                 \n",
    "                                      col(\"ORIGIN\") === \"SEA\" && \n",
    "                                      col(\"DEST\") === \"SFO\")\n",
    "\n",
    "SEAtoSFO2019DF.schema"
   ]
  },
  {
   "cell_type": "markdown",
   "id": "4f01d8d0-74ae-4227-be39-fe60931bbcf0",
   "metadata": {},
   "source": [
    "Examine the results. Notice that the ARR_DELAY and DEP_DELAY columns are of the type `String`.  \n",
    "\n",
    "Create a DataFrame to transform the ARR_DELAY and DEP_DELAY columns to the `Integer` type."
   ]
  },
  {
   "cell_type": "code",
   "execution_count": null,
   "id": "baaf7284-7b4d-4626-aa31-f7a3b85ca935",
   "metadata": {},
   "outputs": [],
   "source": [
    "var SEAtoSFO2019DF =  session.table(\"raw.ONTIME_REPORTING\")\n",
    "                            .select(col(\"YEAR\"),\n",
    "                                       col(\"QUARTER\"),\n",
    "                                       col(\"ARR_DELAY\").cast(IntegerType) as \"ARR_DELAY\",\n",
    "                                       col(\"DEP_DELAY\").cast(IntegerType) as \"DEP_DELAY\",\n",
    "                                       col(\"FL_DATE\"), \n",
    "                                       col(\"ORIGIN\"), \n",
    "                                       col(\"DEST\"),\n",
    "                                       col(\"OP_CARRIER\"),\n",
    "                                       col(\"TAIL_NUM\"))\n",
    "                             .filter(col(\"YEAR\") === 2019 &&                 \n",
    "                                      col(\"ORIGIN\") === \"SEA\" && \n",
    "                                      col(\"DEST\") === \"SFO\")\n",
    "\n",
    "SEAtoSFO2019DF.schema"
   ]
  },
  {
   "cell_type": "markdown",
   "id": "ce30d74e-1317-4a6c-998e-091c4218a411",
   "metadata": {},
   "source": [
    "\n",
    "---\n",
    "## Group the Rows in a DataFrame\n",
    "\n",
    "Create a Relational Grouped Data Frame by calling the `groupBy` function to group the rows by OP_CARRIER and QUARTER."
   ]
  },
  {
   "cell_type": "code",
   "execution_count": null,
   "id": "7f008cde-35b3-45eb-bab2-5faa6ec339d0",
   "metadata": {},
   "outputs": [],
   "source": [
    "val carrierGroupRoutes2019Q1DF = SEAtoSFO2019DF.groupBy(\"OP_CARRIER\",\"QUARTER\")"
   ]
  },
  {
   "cell_type": "markdown",
   "id": "9a1c3d2f-5981-4677-ab46-32f5e111e860",
   "metadata": {},
   "source": [
    "## Compute Aggregates on the Grouped Rows \n",
    "\n",
    "---\n",
    "Create a DataFrame that aggregates the MAX, MIN and MEAN on the ARR_DELAY column for each carrier."
   ]
  },
  {
   "cell_type": "code",
   "execution_count": null,
   "id": "263f4332-4456-4fa5-98c8-6fc318be0887",
   "metadata": {},
   "outputs": [],
   "source": [
    "val aggArrSEAtoSFO2019Df = carrierGroupRoutes2019Q1DF.agg(max(col(\"ARR_DELAY\")),\n",
    "                                           min(col(\"ARR_DELAY\")),\n",
    "                                           mean(col(\"ARR_DELAY\")))\n",
    "                                      .show()\n",
    "                                               \n",
    "\n"
   ]
  }
 ],
 "metadata": {
  "kernelspec": {
   "display_name": "Snowpark (Scala 2.12)",
   "language": "scala",
   "name": "scala"
  },
  "language_info": {
   "codemirror_mode": "text/x-scala",
   "file_extension": ".sc",
   "mimetype": "text/x-scala",
   "name": "scala",
   "nbconvert_exporter": "script",
   "version": "2.12.11"
  }
 },
 "nbformat": 4,
 "nbformat_minor": 5
}
