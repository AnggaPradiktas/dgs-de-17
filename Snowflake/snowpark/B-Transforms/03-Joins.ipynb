{
 "cells": [
  {
   "cell_type": "markdown",
   "id": "7fa4c4a7-a551-4c66-8775-d64329acaeb5",
   "metadata": {},
   "source": [
    "# Snowpark Dataframe Transformations Using Joins\n",
    "\n",
    "The Snowpark API supports joins on DataFrame Objects.\n",
    "\n",
    "---\n"
   ]
  },
  {
   "cell_type": "markdown",
   "id": "287fcfd8-70cc-45c3-a99f-f35aa45101ec",
   "metadata": {},
   "source": [
    "### Create a Session\n",
    "---\n",
    "\n",
    "Create a Snowpark Session by passing in the connection properties file created in the [first lab exercise](../A-Dataframes/01-Sessions.ipynb)."
   ]
  },
  {
   "cell_type": "code",
   "execution_count": null,
   "id": "dbcf2acc-cf91-460b-8332-36efe3fa1880",
   "metadata": {},
   "outputs": [],
   "source": [
    "import com.snowflake.snowpark._\n",
    "import com.snowflake.snowpark.functions._\n",
    "import com.snowflake.snowpark.types._\n",
    "\n",
    "// Set connection properties file variable\n",
    "val pwd = sys.env.get(\"PWD\").fold(\"\")(_.toString)\n",
    "val filename = s\"$pwd/de_snowpark/connect.properties\"\n",
    "\n",
    "val session = Session.builder.configFile(s\"$filename\").create"
   ]
  },
  {
   "cell_type": "markdown",
   "id": "16ec353e-4b2b-446e-a705-9b9a8823cbd9",
   "metadata": {},
   "source": [
    "---\n",
    "### Create a DataFrame\n",
    "\n",
    "Create a DataFrame with the following:\n",
    "\n",
    "* Query the ONTIME_REPORTING table.\n",
    "* Return the rows with YEAR = 2019\n",
    "* Select the YEAR, ORIGIN, DEST, and OP_CARRIER columns.\n"
   ]
  },
  {
   "cell_type": "code",
   "execution_count": null,
   "id": "f735a12f-1214-4652-a2ee-8a62047224d7",
   "metadata": {},
   "outputs": [],
   "source": [
    "val routes2019DF =  session.table(\"raw.ONTIME_REPORTING\")\n",
    "                            .select(col(\"YEAR\"),\n",
    "                                       col(\"ORIGIN\"), \n",
    "                                       col(\"DEST\"),\n",
    "                                       col(\"OP_CARRIER\"))\n",
    "                             .filter(col(\"YEAR\") === 2019)\n",
    "                                    "
   ]
  },
  {
   "cell_type": "markdown",
   "id": "a280310f-c9f7-4c24-89a2-f871756f93f8",
   "metadata": {},
   "source": [
    "---\n",
    "\n",
    "Create a DataFrame as a lookup to associate the carrier code to the carrier name."
   ]
  },
  {
   "cell_type": "code",
   "execution_count": null,
   "id": "0da4f721-48ed-4ff7-b028-14be893855e8",
   "metadata": {},
   "outputs": [],
   "source": [
    "val carrierLookupDF = session.createDataFrame( Seq((\"AA\",\"American Airlines Inc.\"), \n",
    "                                         (\"G4\",\"Allegiant Air\"),\n",
    "                                         (\"EV\",\"ExpressJet Airlines LLC\"),\n",
    "                                         (\"UA\",\"United Air Lines Inc.\"),\n",
    "                                         (\"NK\",\"Spirit Air Lines\"),\n",
    "                                         (\"OO\",\"SkyWest Airlines Inc.\"),\n",
    "                                         (\"HA\",\"Hawaiian Airlines Inc.\"),\n",
    "                                         (\"OH\",\"PSA Airlines Inc.\"),\n",
    "                                         (\"YX\",\"Republic Airline\"),\n",
    "                                         (\"AS\",\"Alaska Airlines Inc.\"),\n",
    "                                         (\"9E\",\"Endeavor Air Inc.\"),\n",
    "                                         (\"FDN\",\"SnowBear Air \"),   \n",
    "                                        )).toDF(\"CODE\", \"DESCRIPTION\")\n"
   ]
  },
  {
   "cell_type": "markdown",
   "id": "15c11987-4240-461a-8e1c-01b06c84913c",
   "metadata": {},
   "source": [
    "---\n",
    "Create a DataFrame that holds the list of distinct carriers.\n"
   ]
  },
  {
   "cell_type": "code",
   "execution_count": null,
   "id": "3f04edd6-a571-4a48-bb8e-e4588d5fe720",
   "metadata": {},
   "outputs": [],
   "source": [
    "val carriers2019DF = routes2019DF.select(col(\"OP_CARRIER\")).distinct"
   ]
  },
  {
   "cell_type": "markdown",
   "id": "47b1a6c3-d769-439d-a587-406a7221373b",
   "metadata": {},
   "source": [
    "---\n",
    "Create a DataFrame that joins the two DataFrames constructed above, on the columns containing the carrier code:"
   ]
  },
  {
   "cell_type": "code",
   "execution_count": null,
   "id": "4e8519c8-f5f8-4ee2-8f1b-ce3202537559",
   "metadata": {},
   "outputs": [],
   "source": [
    "\n",
    "val carrierNamesDF = carriers2019DF.join(carrierLookupDF, carriers2019DF.col(\"OP_CARRIER\") === carrierLookupDF.col(\"CODE\"))\n",
    "                                   .select(col(\"OP_CARRIER\"), col(\"DESCRIPTION\"))\n",
    "                                   .show()"
   ]
  }
 ],
 "metadata": {
  "kernelspec": {
   "display_name": "Snowpark (Scala 2.12)",
   "language": "scala",
   "name": "scala"
  },
  "language_info": {
   "codemirror_mode": "text/x-scala",
   "file_extension": ".sc",
   "mimetype": "text/x-scala",
   "name": "scala",
   "nbconvert_exporter": "script",
   "version": "2.12.11"
  }
 },
 "nbformat": 4,
 "nbformat_minor": 5
}
