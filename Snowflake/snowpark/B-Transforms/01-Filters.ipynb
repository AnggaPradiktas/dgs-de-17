{
 "cells": [
  {
   "cell_type": "markdown",
   "id": "7fa4c4a7-a551-4c66-8775-d64329acaeb5",
   "metadata": {},
   "source": [
    "# Snowpark Dataframe Transformations\n",
    "\n",
    "To specify which columns should be selected and how the results should be filtered, sorted, grouped, etc., call the DataFrame methods that transform the dataset. To identify columns in these methods, use the `col` function or an expression that evaluates to a column. (See [Specifying Columns and Expressions](https://docs.snowflake.com/en/developer-guide/snowpark/working-with-dataframes.html#specifying-columns-and-expressions).) To retrieve the definition of the columns in the dataset for the DataFrame, call the schema method.\n",
    "\n",
    "---\n"
   ]
  },
  {
   "cell_type": "markdown",
   "id": "287fcfd8-70cc-45c3-a99f-f35aa45101ec",
   "metadata": {},
   "source": [
    "### Create a Session\n",
    "---\n",
    "\n",
    "Create a Snowpark Session by passing in the connection properties file created in the [first lab exercise](../A-Dataframes/01-Sessions.ipynb)."
   ]
  },
  {
   "cell_type": "code",
   "execution_count": null,
   "id": "dbcf2acc-cf91-460b-8332-36efe3fa1880",
   "metadata": {},
   "outputs": [],
   "source": [
    "import com.snowflake.snowpark._\n",
    "import com.snowflake.snowpark.functions._\n",
    "import com.snowflake.snowpark.types._\n",
    "\n",
    "// Set connection properties file variable\n",
    "val pwd = sys.env.get(\"PWD\").fold(\"\")(_.toString)\n",
    "val filename = s\"$pwd/de_snowpark/connect.properties\"\n",
    "\n",
    "val session = Session.builder.configFile(s\"$filename\").create"
   ]
  },
  {
   "cell_type": "markdown",
   "id": "16ec353e-4b2b-446e-a705-9b9a8823cbd9",
   "metadata": {},
   "source": [
    "\n",
    "---\n",
    "### Create DataFrame from a Table\n",
    "\n",
    "Create a DataFrame from the data in the `ONTIME_REPORTING` table.\n"
   ]
  },
  {
   "cell_type": "code",
   "execution_count": null,
   "id": "f735a12f-1214-4652-a2ee-8a62047224d7",
   "metadata": {},
   "outputs": [],
   "source": [
    "val onTimeReportingDF = session.table(\"raw.ONTIME_REPORTING\")"
   ]
  },
  {
   "cell_type": "markdown",
   "id": "ce30d74e-1317-4a6c-998e-091c4218a411",
   "metadata": {},
   "source": [
    "\n",
    "\n",
    "---\n",
    "## Retrieving Column Definitions\n",
    "\n",
    "To retrieve the definition of the columns in the dataset for the DataFrame, call the schema method. This method returns a StructType object that contains an Array of StructField objects. Each StructField object contains the definition of a column.\n",
    "\n",
    "Retrieve the definition of the columns in the dataset for the `onTimeReportingDF` DataFrame, by calling the `schema` method.\n",
    "\n",
    "---\n",
    "\n",
    "\n"
   ]
  },
  {
   "cell_type": "code",
   "execution_count": null,
   "id": "7f008cde-35b3-45eb-bab2-5faa6ec339d0",
   "metadata": {},
   "outputs": [],
   "source": [
    "onTimeReportingDF.schema"
   ]
  },
  {
   "cell_type": "markdown",
   "id": "9a1c3d2f-5981-4677-ab46-32f5e111e860",
   "metadata": {},
   "source": [
    "Examine the results.  Each StructField object contains the definition of a column in the DataFrame. Notice the Array is truncated.  \n",
    "\n",
    "Use the `schema.names` function to print each column name.\n",
    "\n",
    "---\n"
   ]
  },
  {
   "cell_type": "code",
   "execution_count": null,
   "id": "3f566119-5e3c-407a-a1bb-d8f0a8cc8a9c",
   "metadata": {},
   "outputs": [],
   "source": [
    "onTimeReportingDF.schema.names.foreach { println }"
   ]
  },
  {
   "cell_type": "markdown",
   "id": "b35a7f10-e7aa-4c7a-87d3-9498b6ceb900",
   "metadata": {},
   "source": [
    "### Specify the Columns to Select\n",
    "\n",
    "To specify the columns that should be selected, call the `select` method on a DataFrame.\n",
    "\n",
    "Create a DataFrame that contains the following columns:\n",
    "* Flight Date (FL_DATE)\n",
    "* Origin Airport (ORIGIN)\n",
    "* Destination Airport (DEST)\n",
    "* Flight Operating Carrier (OP_CARRIER)\n",
    "* Flight Tail Number (TAIL_NUM)"
   ]
  },
  {
   "cell_type": "code",
   "execution_count": null,
   "id": "4c7cbb19-0db1-4d53-8f88-15625c66e4d8",
   "metadata": {},
   "outputs": [],
   "source": [
    "val flightRoutesDF = onTimeReportingDF.select(col(\"FL_DATE\"), \n",
    "                                                 col(\"ORIGIN\"), \n",
    "                                                 col(\"DEST\"),\n",
    "                                                 col(\"OP_CARRIER\"),\n",
    "                                                 col(\"TAIL_NUM\"))\n",
    "                                              \n",
    "flightRoutesDF.show()"
   ]
  },
  {
   "cell_type": "markdown",
   "id": "f1157a76-2ccc-4350-a32a-82b2e499325e",
   "metadata": {},
   "source": [
    "### Specify the Rows to select\n",
    "\n",
    "To specify which rows should be returned, call the `filter` method:\n",
    "\n",
    "Create a DataFrame that contains the following rows:\n",
    "* Year is 2019 (YEAR)\n",
    "* First Quarter (QUARTER)\n",
    "* Arrival Delay is less than 0 (ARR_DELAY)\n"
   ]
  },
  {
   "cell_type": "code",
   "execution_count": null,
   "id": "e45640a9-3523-49bd-ba5c-6121ddbc0563",
   "metadata": {},
   "outputs": [],
   "source": [
    "val earlyArrivalDF = onTimeReportingDF.filter(col(\"YEAR\") === 2019 && \n",
    "                                              col(\"QUARTER\") === 1 &&\n",
    "                                              col(\"ARR_DELAY\").cast(IntegerType) < 0)"
   ]
  },
  {
   "cell_type": "code",
   "execution_count": null,
   "id": "0ff08378-b18f-43f5-912e-561afe3c79df",
   "metadata": {},
   "outputs": [],
   "source": [
    "earlyArrivalDF.count()"
   ]
  },
  {
   "cell_type": "markdown",
   "id": "86aa7095-2c6e-44d9-8734-073bd74135e3",
   "metadata": {},
   "source": [
    "## Chaining Method Calls\n",
    "\n",
    "Because `filter` and `select` methods transform a DataFrame object and return a new DataFrame object with the transformation applied, you can chain method calls together to produce a new DataFrame that is transformed.\n",
    "\n",
    "Create a DataFrame that contains the following:\n",
    "\n",
    "* Query the `ONTIME_REPORTING` table.\n",
    "* Return the rows with `YEAR = 2019` and `QUARTER = 1`.\n",
    "* Select the `YEAR`, `QUARTER`, `FL_DATE`, `ORIGIN`, `DEST`, `OP_CARRIER`, and `TAIL_NUM` columns."
   ]
  },
  {
   "cell_type": "code",
   "execution_count": null,
   "id": "c7a30e91-eda6-4d2f-b8b2-fa4e96894487",
   "metadata": {},
   "outputs": [],
   "source": [
    "val flightRoutes2019Q1DF = session.table(\"raw.ONTIME_REPORTING\")\n",
    "                           .select(col(\"YEAR\"),\n",
    "                                   col(\"QUARTER\"),\n",
    "                                   col(\"FL_DATE\"), \n",
    "                                   col(\"ORIGIN\"), \n",
    "                                   col(\"DEST\"),\n",
    "                                   col(\"OP_CARRIER\"),\n",
    "                                   col(\"TAIL_NUM\"))\n",
    "                           .filter(col(\"YEAR\") === 2019 && \n",
    "                                   col(\"QUARTER\") === 1)\n",
    "\n",
    "flightRoutes2019Q1DF.show()"
   ]
  },
  {
   "cell_type": "markdown",
   "id": "3ac57b2a-f771-4100-bddb-5c2a6920f023",
   "metadata": {},
   "source": [
    "When you chain method calls, keep in mind that the order of calls is important. Each method call returns a DataFrame that has been transformed. Make sure that subsequent calls work with the transformed DataFrame.\n",
    "\n",
    "---\n",
    "\n",
    "Using the `onTimeReportingDF` DataFrame object create a new DataFrame with the following:\n",
    "\n",
    "* Return the rows with `ORIGIN = SEA`, `DEST = SFO` and `ARR_DELAY < 0`.\n"
   ]
  },
  {
   "cell_type": "code",
   "execution_count": null,
   "id": "aaa75b27-1124-4eae-a4a3-406daf29c078",
   "metadata": {},
   "outputs": [],
   "source": [
    "val earlyArrivalF = onTimeReportingDF.select(col(\"YEAR\"),\n",
    "                                               col(\"QUARTER\"),\n",
    "                                               col(\"ARR_DELAY\"),\n",
    "                                               col(\"FL_DATE\"), \n",
    "                                               col(\"ORIGIN\"), \n",
    "                                               col(\"DEST\"),\n",
    "                                               col(\"OP_CARRIER\"),\n",
    "                                               col(\"TAIL_NUM\"))\n",
    "                                     .filter(col(\"YEAR\") === 2019 && \n",
    "                                              col(\"QUARTER\") === 1 &&\n",
    "                                              col(\"ARR_DELAY\").cast(IntegerType) < 0 &&\n",
    "                                              col(\"ORIGIN\") === \"SEA\" && \n",
    "                                              col(\"DEST\") === \"SFO\")\n",
    "\n",
    "earlyArrivalF.show()"
   ]
  }
 ],
 "metadata": {
  "kernelspec": {
   "display_name": "Snowpark (Scala 2.12)",
   "language": "scala",
   "name": "scala"
  },
  "language_info": {
   "codemirror_mode": "text/x-scala",
   "file_extension": ".sc",
   "mimetype": "text/x-scala",
   "name": "scala",
   "nbconvert_exporter": "script",
   "version": "2.12.11"
  }
 },
 "nbformat": 4,
 "nbformat_minor": 5
}
