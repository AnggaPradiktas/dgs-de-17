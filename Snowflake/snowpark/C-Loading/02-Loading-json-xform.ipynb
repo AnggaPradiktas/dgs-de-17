{
 "cells": [
  {
   "cell_type": "markdown",
   "id": "7fa4c4a7-a551-4c66-8775-d64329acaeb5",
   "metadata": {},
   "source": [
    "# Snowpark Transforming JSON Data\n",
    "\n",
    "In this lab you will perform the following:\n",
    "\n",
    "- [ ] Upload a JSON file to a Snowflake internal stage\n",
    "- [ ] Build a DataFrame that can read the data from the JSON file\n",
    "- [ ] Transform a JSON array using the flatten function\n",
    "- [ ] Load the transformed DataFrame to a table\n",
    "\n",
    "---"
   ]
  },
  {
   "cell_type": "markdown",
   "id": "287fcfd8-70cc-45c3-a99f-f35aa45101ec",
   "metadata": {},
   "source": [
    "## Create a Session\n",
    "\n",
    "Create a Snowpark Session by passing in the connection properties file created in the [first lab exercise](../A-Dataframes/01-Sessions.ipynb)."
   ]
  },
  {
   "cell_type": "code",
   "execution_count": null,
   "id": "dbcf2acc-cf91-460b-8332-36efe3fa1880",
   "metadata": {},
   "outputs": [],
   "source": [
    "import com.snowflake.snowpark._\n",
    "import com.snowflake.snowpark.functions._\n",
    "import com.snowflake.snowpark.types._\n",
    "\n",
    "// Set connection properties file variable\n",
    "val pwd = sys.env.get(\"PWD\").fold(\"\")(_.toString)\n",
    "val filename = s\"$pwd/de_snowpark/connect.properties\"\n",
    "\n",
    "val session = Session.builder.configFile(s\"$filename\").create"
   ]
  },
  {
   "cell_type": "markdown",
   "id": "6928437f-e2a9-415f-ba7f-eee66861efca",
   "metadata": {},
   "source": [
    "---\n",
    "## Put nested.json file\n",
    "\n",
    "In this section you will use the `file` convenience method of the Session object, to return a FileOperation object, which has access to `PUT`/`GET` data from Snowflake internal stages. \n",
    "\n",
    "Before calling `file.put()`, let's create a set of options to override the default values. \n",
    "  \n",
    "In our case below, we want the `PUT` command to upload a file without automatically GZIPing it by setting the AUTO_COMPRESS to FALSE, and to OVERWRITE the file if it already exists.\n",
    "\n",
    "Run the `PUT` to upload the local `nested.json` file specified by `localFileName` to your user stage `@~` specified as the `stageLocation` along with the specified options in `putOptions`.\n",
    "\n",
    "See [PUT command](https://docs.snowflake.com/en/sql-reference/sql/put.html) for full list of options."
   ]
  },
  {
   "cell_type": "code",
   "execution_count": null,
   "id": "0bcb97d5-7e89-41e2-8b29-b26d196b5965",
   "metadata": {},
   "outputs": [],
   "source": [
    "val putOptions = Map(\"AUTO_COMPRESS\" -> \"FALSE\", \"OVERWRITE\"->\"TRUE\")\n",
    "val localFileName = \"./nested.json\"\n",
    "val stageLocation = \"@~\"\n",
    "\n",
    "session.file.put(localFileName, stageLocation, putOptions)"
   ]
  },
  {
   "cell_type": "markdown",
   "id": "9c6d3f24-7c4e-4564-bc60-28c000f13954",
   "metadata": {},
   "source": [
    "---\n",
    "### Progress: Check\n",
    "\n",
    "- [X] Upload a JSON file to a Snowflake internal stage\n",
    "- [ ] Build a DataFrame that can read the data from the JSON file\n",
    "- [ ] Transform a JSON array using the flatten function\n",
    "- [ ] Load the transformed DataFrame to a table\n",
    "\n",
    "---"
   ]
  },
  {
   "cell_type": "markdown",
   "id": "afa17e66-53ae-4132-80ef-c363c1bddfa9",
   "metadata": {},
   "source": [
    "## Build a DataFrame to Read the File Data\n",
    "\n",
    "The Session object has a `read` method that can be used to load data in various supported formats, with definition of format-specific options, from a Snowflake stage to a DataFrame. \n",
    "\n",
    "Run the `json` function to upload JSON files in the stage specified by `jsonFilePath` and set the JSON file format option with the `options` method, to strip any outer array specified in the `readOptions` configuration passed in.\n"
   ]
  },
  {
   "cell_type": "code",
   "execution_count": null,
   "id": "384beaef-c70d-4f61-a075-235d3ccd4a86",
   "metadata": {},
   "outputs": [],
   "source": [
    "val jsonFilePath = \"@~/nested.json\"\n",
    "val dfRawJson = session.read.json(jsonFilePath)\n",
    "\n",
    "dfRawJson.show\n",
    "dfRawJson.count"
   ]
  },
  {
   "cell_type": "markdown",
   "id": "6810cdd4-f47a-43a8-8ebd-88ba9c3bee10",
   "metadata": {},
   "source": [
    "Use the `sqlExpr` function to construct a SQL query using dot notation to traverse a path in a JSON object, and transform the column types and order."
   ]
  },
  {
   "cell_type": "code",
   "execution_count": null,
   "id": "b2276f3c-ad59-4abf-93fc-33273b3bc217",
   "metadata": {},
   "outputs": [],
   "source": [
    "val df = dfRawJson.select(sqlExpr(\"$1:aircraft_type::string as aircraft_type, $1:engine_type as engine_type, $1:aircraft as aircraft\" ))\n",
    "df.show"
   ]
  },
  {
   "cell_type": "markdown",
   "id": "f619d958-b96f-49cf-b621-4ce8a637aa70",
   "metadata": {},
   "source": [
    "Examine the output of the `show` method. We can now access and see values from the array in the `nested.json` file from a DataFrame. \n",
    "\n",
    "---\n",
    "### Progress: Check\n",
    "\n",
    "- [X] Upload a JSON file to a Snowflake internal stage\n",
    "- [X] Build a DataFrame that can read the data from the JSON file\n",
    "- [ ] Transform a JSON array using the flatten function\n",
    "- [ ] Load the transformed DataFrame to a table\n",
    "\n",
    "---\n",
    "\n",
    "## Transform a JSON array using the Flatten Function\n",
    "\n",
    "The flatten function (explodes) compound values like arrays into multiple rows (similar to the SQL FLATTEN function).\n",
    "\n",
    "The flatten method adds the following columns to the returned DataFrame:\n",
    "\n",
    "* SEQ\n",
    "* KEY\n",
    "* PATH\n",
    "* INDEX\n",
    "* VALUE\n",
    "* THIS\n",
    "\n"
   ]
  },
  {
   "cell_type": "code",
   "execution_count": null,
   "id": "1f1189a5-c680-464a-b3d5-baeeb4dfc615",
   "metadata": {},
   "outputs": [],
   "source": [
    "val flattened = df.flatten(df(\"aircraft\"))\n",
    "flattened.show"
   ]
  },
  {
   "cell_type": "markdown",
   "id": "ca6b61a9-1a6f-45e3-9d31-fbe55bdf7b0d",
   "metadata": {},
   "source": [
    "Use the `sqlExpr` function to construct a SQL query using dot notation to traverse a path in a JSON object."
   ]
  },
  {
   "cell_type": "code",
   "execution_count": null,
   "id": "b3f31881-f84e-44ab-ae4c-7ab53865da54",
   "metadata": {},
   "outputs": [],
   "source": [
    "val dx = flattened.select( df(\"aircraft_type\"), \n",
    "                          df(\"engine_type\"), \n",
    "                          sqlExpr(\"value:engine_model , value:manufacturer_name, value:manufacturer_year, value:model_name, value:number_seats\") )\n",
    "\n",
    "dx.show"
   ]
  },
  {
   "cell_type": "markdown",
   "id": "0eee8c34-a7d1-4098-84d2-4ad1d136200d",
   "metadata": {},
   "source": [
    "\n",
    "---\n",
    "### Progress: Check\n",
    "\n",
    "- [X] Upload a JSON file to a Snowflake internal stage\n",
    "- [X] Build a DataFrame that can read the data from the JSON file\n",
    "- [X] Transform a JSON array using the flatten function\n",
    "- [ ] Load the transformed DataFrame to a table\n",
    "---\n",
    "\n",
    "## Load to a table\n",
    "\n",
    "Using the DataFrame above, let's load a table with the contents of the file.\n",
    "\n",
    "Also, use the `cast` and `as` functions to define the column types and rename the DataFrame columns to valid column names.\n",
    "    "
   ]
  },
  {
   "cell_type": "code",
   "execution_count": null,
   "id": "3826d8c9-79a0-4439-9e2c-ee1ecc0e6270",
   "metadata": {},
   "outputs": [],
   "source": [
    "dx.select(col(\"aircraft_type\").cast(StringType).as(\"aircraft_type\"), \n",
    "         col(\"engine_type\").cast(StringType).as(\"engine_type\"),\n",
    "         col(\"VALUE:ENGINE_MODEL\").cast(StringType).as(\"engine_model\"),\n",
    "         col(\"VALUE:MANUFACTURER_YEAR\").cast(IntegerType).as(\"manufacturer_year\"),\n",
    "         col(\"VALUE:MODEL_NAME\").cast(StringType).as(\"model_name\"),\n",
    "         col(\"VALUE:NUMBER_SEATS\").cast(IntegerType).as(\"number_seats\"))\n",
    " .write.saveAsTable(\"raw.NESTED_JSON\")\n",
    "\n",
    "var dxCount = session.table(\"raw.NESTED_JSON\").count()\n",
    "println(s\"The table raw.NESTED_JSON has $dxCount rows.\")"
   ]
  },
  {
   "cell_type": "markdown",
   "id": "76ee0f85-5c0e-4674-9822-b186576d1a65",
   "metadata": {},
   "source": [
    "---\n",
    "### Progress: Check\n",
    "\n",
    "- [X] Upload a JSON file to a Snowflake internal stage\n",
    "- [X] Build a DataFrame that can read the data from the JSON file\n",
    "- [X] Transform a JSON array using the flatten function\n",
    "- [X] Load the transformed DataFrame to a table\n",
    "---"
   ]
  }
 ],
 "metadata": {
  "kernelspec": {
   "display_name": "Snowpark (Scala 2.12)",
   "language": "scala",
   "name": "scala"
  },
  "language_info": {
   "codemirror_mode": "text/x-scala",
   "file_extension": ".sc",
   "mimetype": "text/x-scala",
   "name": "scala",
   "nbconvert_exporter": "script",
   "version": "2.12.11"
  }
 },
 "nbformat": 4,
 "nbformat_minor": 5
}
